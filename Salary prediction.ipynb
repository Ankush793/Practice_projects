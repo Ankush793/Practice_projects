{
 "cells": [
  {
   "cell_type": "code",
   "execution_count": 1,
   "id": "26ebc58a",
   "metadata": {},
   "outputs": [],
   "source": [
    "import pandas as pd\n",
    "import numpy as np\n",
    "import seaborn as sns\n",
    "import matplotlib.pyplot as plt\n",
    "from sklearn.preprocessing import LabelEncoder\n",
    "\n",
    "from sklearn.linear_model import LinearRegression\n",
    "from sklearn.metrics import mean_squared_error,mean_absolute_error\n",
    "from sklearn.model_selection import train_test_split"
   ]
  },
  {
   "cell_type": "code",
   "execution_count": 2,
   "id": "cc76b6a7",
   "metadata": {},
   "outputs": [
    {
     "data": {
      "text/html": [
       "<div>\n",
       "<style scoped>\n",
       "    .dataframe tbody tr th:only-of-type {\n",
       "        vertical-align: middle;\n",
       "    }\n",
       "\n",
       "    .dataframe tbody tr th {\n",
       "        vertical-align: top;\n",
       "    }\n",
       "\n",
       "    .dataframe thead th {\n",
       "        text-align: right;\n",
       "    }\n",
       "</style>\n",
       "<table border=\"1\" class=\"dataframe\">\n",
       "  <thead>\n",
       "    <tr style=\"text-align: right;\">\n",
       "      <th></th>\n",
       "      <th>rank</th>\n",
       "      <th>discipline</th>\n",
       "      <th>yrs.since.phd</th>\n",
       "      <th>yrs.service</th>\n",
       "      <th>sex</th>\n",
       "      <th>salary</th>\n",
       "    </tr>\n",
       "  </thead>\n",
       "  <tbody>\n",
       "    <tr>\n",
       "      <th>0</th>\n",
       "      <td>Prof</td>\n",
       "      <td>B</td>\n",
       "      <td>19</td>\n",
       "      <td>18</td>\n",
       "      <td>Male</td>\n",
       "      <td>139750</td>\n",
       "    </tr>\n",
       "    <tr>\n",
       "      <th>1</th>\n",
       "      <td>Prof</td>\n",
       "      <td>B</td>\n",
       "      <td>20</td>\n",
       "      <td>16</td>\n",
       "      <td>Male</td>\n",
       "      <td>173200</td>\n",
       "    </tr>\n",
       "    <tr>\n",
       "      <th>2</th>\n",
       "      <td>AsstProf</td>\n",
       "      <td>B</td>\n",
       "      <td>4</td>\n",
       "      <td>3</td>\n",
       "      <td>Male</td>\n",
       "      <td>79750</td>\n",
       "    </tr>\n",
       "    <tr>\n",
       "      <th>3</th>\n",
       "      <td>Prof</td>\n",
       "      <td>B</td>\n",
       "      <td>45</td>\n",
       "      <td>39</td>\n",
       "      <td>Male</td>\n",
       "      <td>115000</td>\n",
       "    </tr>\n",
       "    <tr>\n",
       "      <th>4</th>\n",
       "      <td>Prof</td>\n",
       "      <td>B</td>\n",
       "      <td>40</td>\n",
       "      <td>41</td>\n",
       "      <td>Male</td>\n",
       "      <td>141500</td>\n",
       "    </tr>\n",
       "    <tr>\n",
       "      <th>...</th>\n",
       "      <td>...</td>\n",
       "      <td>...</td>\n",
       "      <td>...</td>\n",
       "      <td>...</td>\n",
       "      <td>...</td>\n",
       "      <td>...</td>\n",
       "    </tr>\n",
       "    <tr>\n",
       "      <th>392</th>\n",
       "      <td>Prof</td>\n",
       "      <td>A</td>\n",
       "      <td>33</td>\n",
       "      <td>30</td>\n",
       "      <td>Male</td>\n",
       "      <td>103106</td>\n",
       "    </tr>\n",
       "    <tr>\n",
       "      <th>393</th>\n",
       "      <td>Prof</td>\n",
       "      <td>A</td>\n",
       "      <td>31</td>\n",
       "      <td>19</td>\n",
       "      <td>Male</td>\n",
       "      <td>150564</td>\n",
       "    </tr>\n",
       "    <tr>\n",
       "      <th>394</th>\n",
       "      <td>Prof</td>\n",
       "      <td>A</td>\n",
       "      <td>42</td>\n",
       "      <td>25</td>\n",
       "      <td>Male</td>\n",
       "      <td>101738</td>\n",
       "    </tr>\n",
       "    <tr>\n",
       "      <th>395</th>\n",
       "      <td>Prof</td>\n",
       "      <td>A</td>\n",
       "      <td>25</td>\n",
       "      <td>15</td>\n",
       "      <td>Male</td>\n",
       "      <td>95329</td>\n",
       "    </tr>\n",
       "    <tr>\n",
       "      <th>396</th>\n",
       "      <td>AsstProf</td>\n",
       "      <td>A</td>\n",
       "      <td>8</td>\n",
       "      <td>4</td>\n",
       "      <td>Male</td>\n",
       "      <td>81035</td>\n",
       "    </tr>\n",
       "  </tbody>\n",
       "</table>\n",
       "<p>397 rows × 6 columns</p>\n",
       "</div>"
      ],
      "text/plain": [
       "         rank discipline  yrs.since.phd  yrs.service   sex  salary\n",
       "0        Prof          B             19           18  Male  139750\n",
       "1        Prof          B             20           16  Male  173200\n",
       "2    AsstProf          B              4            3  Male   79750\n",
       "3        Prof          B             45           39  Male  115000\n",
       "4        Prof          B             40           41  Male  141500\n",
       "..        ...        ...            ...          ...   ...     ...\n",
       "392      Prof          A             33           30  Male  103106\n",
       "393      Prof          A             31           19  Male  150564\n",
       "394      Prof          A             42           25  Male  101738\n",
       "395      Prof          A             25           15  Male   95329\n",
       "396  AsstProf          A              8            4  Male   81035\n",
       "\n",
       "[397 rows x 6 columns]"
      ]
     },
     "execution_count": 2,
     "metadata": {},
     "output_type": "execute_result"
    }
   ],
   "source": [
    "df=pd.read_csv('Salary.csv')\n",
    "df"
   ]
  },
  {
   "cell_type": "code",
   "execution_count": 3,
   "id": "0513422a",
   "metadata": {},
   "outputs": [
    {
     "data": {
      "text/html": [
       "<div>\n",
       "<style scoped>\n",
       "    .dataframe tbody tr th:only-of-type {\n",
       "        vertical-align: middle;\n",
       "    }\n",
       "\n",
       "    .dataframe tbody tr th {\n",
       "        vertical-align: top;\n",
       "    }\n",
       "\n",
       "    .dataframe thead th {\n",
       "        text-align: right;\n",
       "    }\n",
       "</style>\n",
       "<table border=\"1\" class=\"dataframe\">\n",
       "  <thead>\n",
       "    <tr style=\"text-align: right;\">\n",
       "      <th></th>\n",
       "      <th>rank</th>\n",
       "      <th>discipline</th>\n",
       "      <th>yrs.since.phd</th>\n",
       "      <th>yrs.service</th>\n",
       "      <th>sex</th>\n",
       "      <th>salary</th>\n",
       "    </tr>\n",
       "  </thead>\n",
       "  <tbody>\n",
       "    <tr>\n",
       "      <th>0</th>\n",
       "      <td>Prof</td>\n",
       "      <td>B</td>\n",
       "      <td>19</td>\n",
       "      <td>18</td>\n",
       "      <td>Male</td>\n",
       "      <td>139750</td>\n",
       "    </tr>\n",
       "    <tr>\n",
       "      <th>1</th>\n",
       "      <td>Prof</td>\n",
       "      <td>B</td>\n",
       "      <td>20</td>\n",
       "      <td>16</td>\n",
       "      <td>Male</td>\n",
       "      <td>173200</td>\n",
       "    </tr>\n",
       "    <tr>\n",
       "      <th>2</th>\n",
       "      <td>AsstProf</td>\n",
       "      <td>B</td>\n",
       "      <td>4</td>\n",
       "      <td>3</td>\n",
       "      <td>Male</td>\n",
       "      <td>79750</td>\n",
       "    </tr>\n",
       "    <tr>\n",
       "      <th>3</th>\n",
       "      <td>Prof</td>\n",
       "      <td>B</td>\n",
       "      <td>45</td>\n",
       "      <td>39</td>\n",
       "      <td>Male</td>\n",
       "      <td>115000</td>\n",
       "    </tr>\n",
       "    <tr>\n",
       "      <th>4</th>\n",
       "      <td>Prof</td>\n",
       "      <td>B</td>\n",
       "      <td>40</td>\n",
       "      <td>41</td>\n",
       "      <td>Male</td>\n",
       "      <td>141500</td>\n",
       "    </tr>\n",
       "    <tr>\n",
       "      <th>5</th>\n",
       "      <td>AssocProf</td>\n",
       "      <td>B</td>\n",
       "      <td>6</td>\n",
       "      <td>6</td>\n",
       "      <td>Male</td>\n",
       "      <td>97000</td>\n",
       "    </tr>\n",
       "    <tr>\n",
       "      <th>6</th>\n",
       "      <td>Prof</td>\n",
       "      <td>B</td>\n",
       "      <td>30</td>\n",
       "      <td>23</td>\n",
       "      <td>Male</td>\n",
       "      <td>175000</td>\n",
       "    </tr>\n",
       "    <tr>\n",
       "      <th>7</th>\n",
       "      <td>Prof</td>\n",
       "      <td>B</td>\n",
       "      <td>45</td>\n",
       "      <td>45</td>\n",
       "      <td>Male</td>\n",
       "      <td>147765</td>\n",
       "    </tr>\n",
       "    <tr>\n",
       "      <th>8</th>\n",
       "      <td>Prof</td>\n",
       "      <td>B</td>\n",
       "      <td>21</td>\n",
       "      <td>20</td>\n",
       "      <td>Male</td>\n",
       "      <td>119250</td>\n",
       "    </tr>\n",
       "    <tr>\n",
       "      <th>9</th>\n",
       "      <td>Prof</td>\n",
       "      <td>B</td>\n",
       "      <td>18</td>\n",
       "      <td>18</td>\n",
       "      <td>Female</td>\n",
       "      <td>129000</td>\n",
       "    </tr>\n",
       "  </tbody>\n",
       "</table>\n",
       "</div>"
      ],
      "text/plain": [
       "        rank discipline  yrs.since.phd  yrs.service     sex  salary\n",
       "0       Prof          B             19           18    Male  139750\n",
       "1       Prof          B             20           16    Male  173200\n",
       "2   AsstProf          B              4            3    Male   79750\n",
       "3       Prof          B             45           39    Male  115000\n",
       "4       Prof          B             40           41    Male  141500\n",
       "5  AssocProf          B              6            6    Male   97000\n",
       "6       Prof          B             30           23    Male  175000\n",
       "7       Prof          B             45           45    Male  147765\n",
       "8       Prof          B             21           20    Male  119250\n",
       "9       Prof          B             18           18  Female  129000"
      ]
     },
     "execution_count": 3,
     "metadata": {},
     "output_type": "execute_result"
    }
   ],
   "source": [
    "df.head(10)"
   ]
  },
  {
   "cell_type": "code",
   "execution_count": 4,
   "id": "ef64ba7f",
   "metadata": {},
   "outputs": [
    {
     "data": {
      "text/html": [
       "<div>\n",
       "<style scoped>\n",
       "    .dataframe tbody tr th:only-of-type {\n",
       "        vertical-align: middle;\n",
       "    }\n",
       "\n",
       "    .dataframe tbody tr th {\n",
       "        vertical-align: top;\n",
       "    }\n",
       "\n",
       "    .dataframe thead th {\n",
       "        text-align: right;\n",
       "    }\n",
       "</style>\n",
       "<table border=\"1\" class=\"dataframe\">\n",
       "  <thead>\n",
       "    <tr style=\"text-align: right;\">\n",
       "      <th></th>\n",
       "      <th>rank</th>\n",
       "      <th>discipline</th>\n",
       "      <th>yrs.since.phd</th>\n",
       "      <th>yrs.service</th>\n",
       "      <th>sex</th>\n",
       "      <th>salary</th>\n",
       "    </tr>\n",
       "  </thead>\n",
       "  <tbody>\n",
       "    <tr>\n",
       "      <th>387</th>\n",
       "      <td>Prof</td>\n",
       "      <td>A</td>\n",
       "      <td>29</td>\n",
       "      <td>15</td>\n",
       "      <td>Male</td>\n",
       "      <td>109305</td>\n",
       "    </tr>\n",
       "    <tr>\n",
       "      <th>388</th>\n",
       "      <td>Prof</td>\n",
       "      <td>A</td>\n",
       "      <td>38</td>\n",
       "      <td>36</td>\n",
       "      <td>Male</td>\n",
       "      <td>119450</td>\n",
       "    </tr>\n",
       "    <tr>\n",
       "      <th>389</th>\n",
       "      <td>Prof</td>\n",
       "      <td>A</td>\n",
       "      <td>33</td>\n",
       "      <td>18</td>\n",
       "      <td>Male</td>\n",
       "      <td>186023</td>\n",
       "    </tr>\n",
       "    <tr>\n",
       "      <th>390</th>\n",
       "      <td>Prof</td>\n",
       "      <td>A</td>\n",
       "      <td>40</td>\n",
       "      <td>19</td>\n",
       "      <td>Male</td>\n",
       "      <td>166605</td>\n",
       "    </tr>\n",
       "    <tr>\n",
       "      <th>391</th>\n",
       "      <td>Prof</td>\n",
       "      <td>A</td>\n",
       "      <td>30</td>\n",
       "      <td>19</td>\n",
       "      <td>Male</td>\n",
       "      <td>151292</td>\n",
       "    </tr>\n",
       "    <tr>\n",
       "      <th>392</th>\n",
       "      <td>Prof</td>\n",
       "      <td>A</td>\n",
       "      <td>33</td>\n",
       "      <td>30</td>\n",
       "      <td>Male</td>\n",
       "      <td>103106</td>\n",
       "    </tr>\n",
       "    <tr>\n",
       "      <th>393</th>\n",
       "      <td>Prof</td>\n",
       "      <td>A</td>\n",
       "      <td>31</td>\n",
       "      <td>19</td>\n",
       "      <td>Male</td>\n",
       "      <td>150564</td>\n",
       "    </tr>\n",
       "    <tr>\n",
       "      <th>394</th>\n",
       "      <td>Prof</td>\n",
       "      <td>A</td>\n",
       "      <td>42</td>\n",
       "      <td>25</td>\n",
       "      <td>Male</td>\n",
       "      <td>101738</td>\n",
       "    </tr>\n",
       "    <tr>\n",
       "      <th>395</th>\n",
       "      <td>Prof</td>\n",
       "      <td>A</td>\n",
       "      <td>25</td>\n",
       "      <td>15</td>\n",
       "      <td>Male</td>\n",
       "      <td>95329</td>\n",
       "    </tr>\n",
       "    <tr>\n",
       "      <th>396</th>\n",
       "      <td>AsstProf</td>\n",
       "      <td>A</td>\n",
       "      <td>8</td>\n",
       "      <td>4</td>\n",
       "      <td>Male</td>\n",
       "      <td>81035</td>\n",
       "    </tr>\n",
       "  </tbody>\n",
       "</table>\n",
       "</div>"
      ],
      "text/plain": [
       "         rank discipline  yrs.since.phd  yrs.service   sex  salary\n",
       "387      Prof          A             29           15  Male  109305\n",
       "388      Prof          A             38           36  Male  119450\n",
       "389      Prof          A             33           18  Male  186023\n",
       "390      Prof          A             40           19  Male  166605\n",
       "391      Prof          A             30           19  Male  151292\n",
       "392      Prof          A             33           30  Male  103106\n",
       "393      Prof          A             31           19  Male  150564\n",
       "394      Prof          A             42           25  Male  101738\n",
       "395      Prof          A             25           15  Male   95329\n",
       "396  AsstProf          A              8            4  Male   81035"
      ]
     },
     "execution_count": 4,
     "metadata": {},
     "output_type": "execute_result"
    }
   ],
   "source": [
    "df.tail(10)"
   ]
  },
  {
   "cell_type": "code",
   "execution_count": 5,
   "id": "5d0eb2a6",
   "metadata": {},
   "outputs": [
    {
     "data": {
      "text/html": [
       "<div>\n",
       "<style scoped>\n",
       "    .dataframe tbody tr th:only-of-type {\n",
       "        vertical-align: middle;\n",
       "    }\n",
       "\n",
       "    .dataframe tbody tr th {\n",
       "        vertical-align: top;\n",
       "    }\n",
       "\n",
       "    .dataframe thead th {\n",
       "        text-align: right;\n",
       "    }\n",
       "</style>\n",
       "<table border=\"1\" class=\"dataframe\">\n",
       "  <thead>\n",
       "    <tr style=\"text-align: right;\">\n",
       "      <th></th>\n",
       "      <th>rank</th>\n",
       "      <th>discipline</th>\n",
       "      <th>yrs.since.phd</th>\n",
       "      <th>yrs.service</th>\n",
       "      <th>sex</th>\n",
       "      <th>salary</th>\n",
       "    </tr>\n",
       "  </thead>\n",
       "  <tbody>\n",
       "    <tr>\n",
       "      <th>352</th>\n",
       "      <td>Prof</td>\n",
       "      <td>B</td>\n",
       "      <td>26</td>\n",
       "      <td>27</td>\n",
       "      <td>Male</td>\n",
       "      <td>142500</td>\n",
       "    </tr>\n",
       "    <tr>\n",
       "      <th>66</th>\n",
       "      <td>Prof</td>\n",
       "      <td>B</td>\n",
       "      <td>22</td>\n",
       "      <td>12</td>\n",
       "      <td>Male</td>\n",
       "      <td>101000</td>\n",
       "    </tr>\n",
       "    <tr>\n",
       "      <th>233</th>\n",
       "      <td>Prof</td>\n",
       "      <td>A</td>\n",
       "      <td>36</td>\n",
       "      <td>19</td>\n",
       "      <td>Female</td>\n",
       "      <td>117555</td>\n",
       "    </tr>\n",
       "    <tr>\n",
       "      <th>329</th>\n",
       "      <td>Prof</td>\n",
       "      <td>B</td>\n",
       "      <td>23</td>\n",
       "      <td>23</td>\n",
       "      <td>Male</td>\n",
       "      <td>134778</td>\n",
       "    </tr>\n",
       "    <tr>\n",
       "      <th>40</th>\n",
       "      <td>Prof</td>\n",
       "      <td>B</td>\n",
       "      <td>23</td>\n",
       "      <td>2</td>\n",
       "      <td>Male</td>\n",
       "      <td>146500</td>\n",
       "    </tr>\n",
       "  </tbody>\n",
       "</table>\n",
       "</div>"
      ],
      "text/plain": [
       "     rank discipline  yrs.since.phd  yrs.service     sex  salary\n",
       "352  Prof          B             26           27    Male  142500\n",
       "66   Prof          B             22           12    Male  101000\n",
       "233  Prof          A             36           19  Female  117555\n",
       "329  Prof          B             23           23    Male  134778\n",
       "40   Prof          B             23            2    Male  146500"
      ]
     },
     "execution_count": 5,
     "metadata": {},
     "output_type": "execute_result"
    }
   ],
   "source": [
    "df.sample(5)"
   ]
  },
  {
   "cell_type": "code",
   "execution_count": 6,
   "id": "61fe36b9",
   "metadata": {},
   "outputs": [
    {
     "data": {
      "text/plain": [
       "(397, 6)"
      ]
     },
     "execution_count": 6,
     "metadata": {},
     "output_type": "execute_result"
    }
   ],
   "source": [
    "df.shape"
   ]
  },
  {
   "cell_type": "code",
   "execution_count": 7,
   "id": "f5f0127b",
   "metadata": {},
   "outputs": [
    {
     "data": {
      "text/plain": [
       "rank             object\n",
       "discipline       object\n",
       "yrs.since.phd     int64\n",
       "yrs.service       int64\n",
       "sex              object\n",
       "salary            int64\n",
       "dtype: object"
      ]
     },
     "execution_count": 7,
     "metadata": {},
     "output_type": "execute_result"
    }
   ],
   "source": [
    "df.dtypes"
   ]
  },
  {
   "cell_type": "code",
   "execution_count": 8,
   "id": "1f26b6cc",
   "metadata": {},
   "outputs": [
    {
     "name": "stdout",
     "output_type": "stream",
     "text": [
      "<class 'pandas.core.frame.DataFrame'>\n",
      "RangeIndex: 397 entries, 0 to 396\n",
      "Data columns (total 6 columns):\n",
      " #   Column         Non-Null Count  Dtype \n",
      "---  ------         --------------  ----- \n",
      " 0   rank           397 non-null    object\n",
      " 1   discipline     397 non-null    object\n",
      " 2   yrs.since.phd  397 non-null    int64 \n",
      " 3   yrs.service    397 non-null    int64 \n",
      " 4   sex            397 non-null    object\n",
      " 5   salary         397 non-null    int64 \n",
      "dtypes: int64(3), object(3)\n",
      "memory usage: 18.7+ KB\n"
     ]
    }
   ],
   "source": [
    "df.info()"
   ]
  },
  {
   "cell_type": "code",
   "execution_count": 9,
   "id": "e10d956f",
   "metadata": {},
   "outputs": [
    {
     "data": {
      "text/html": [
       "<div>\n",
       "<style scoped>\n",
       "    .dataframe tbody tr th:only-of-type {\n",
       "        vertical-align: middle;\n",
       "    }\n",
       "\n",
       "    .dataframe tbody tr th {\n",
       "        vertical-align: top;\n",
       "    }\n",
       "\n",
       "    .dataframe thead th {\n",
       "        text-align: right;\n",
       "    }\n",
       "</style>\n",
       "<table border=\"1\" class=\"dataframe\">\n",
       "  <thead>\n",
       "    <tr style=\"text-align: right;\">\n",
       "      <th></th>\n",
       "      <th>rank</th>\n",
       "      <th>discipline</th>\n",
       "      <th>yrs.since.phd</th>\n",
       "      <th>yrs.service</th>\n",
       "      <th>sex</th>\n",
       "      <th>salary</th>\n",
       "    </tr>\n",
       "  </thead>\n",
       "  <tbody>\n",
       "    <tr>\n",
       "      <th>0</th>\n",
       "      <td>False</td>\n",
       "      <td>False</td>\n",
       "      <td>False</td>\n",
       "      <td>False</td>\n",
       "      <td>False</td>\n",
       "      <td>False</td>\n",
       "    </tr>\n",
       "    <tr>\n",
       "      <th>1</th>\n",
       "      <td>False</td>\n",
       "      <td>False</td>\n",
       "      <td>False</td>\n",
       "      <td>False</td>\n",
       "      <td>False</td>\n",
       "      <td>False</td>\n",
       "    </tr>\n",
       "    <tr>\n",
       "      <th>2</th>\n",
       "      <td>False</td>\n",
       "      <td>False</td>\n",
       "      <td>False</td>\n",
       "      <td>False</td>\n",
       "      <td>False</td>\n",
       "      <td>False</td>\n",
       "    </tr>\n",
       "    <tr>\n",
       "      <th>3</th>\n",
       "      <td>False</td>\n",
       "      <td>False</td>\n",
       "      <td>False</td>\n",
       "      <td>False</td>\n",
       "      <td>False</td>\n",
       "      <td>False</td>\n",
       "    </tr>\n",
       "    <tr>\n",
       "      <th>4</th>\n",
       "      <td>False</td>\n",
       "      <td>False</td>\n",
       "      <td>False</td>\n",
       "      <td>False</td>\n",
       "      <td>False</td>\n",
       "      <td>False</td>\n",
       "    </tr>\n",
       "    <tr>\n",
       "      <th>...</th>\n",
       "      <td>...</td>\n",
       "      <td>...</td>\n",
       "      <td>...</td>\n",
       "      <td>...</td>\n",
       "      <td>...</td>\n",
       "      <td>...</td>\n",
       "    </tr>\n",
       "    <tr>\n",
       "      <th>392</th>\n",
       "      <td>False</td>\n",
       "      <td>False</td>\n",
       "      <td>False</td>\n",
       "      <td>False</td>\n",
       "      <td>False</td>\n",
       "      <td>False</td>\n",
       "    </tr>\n",
       "    <tr>\n",
       "      <th>393</th>\n",
       "      <td>False</td>\n",
       "      <td>False</td>\n",
       "      <td>False</td>\n",
       "      <td>False</td>\n",
       "      <td>False</td>\n",
       "      <td>False</td>\n",
       "    </tr>\n",
       "    <tr>\n",
       "      <th>394</th>\n",
       "      <td>False</td>\n",
       "      <td>False</td>\n",
       "      <td>False</td>\n",
       "      <td>False</td>\n",
       "      <td>False</td>\n",
       "      <td>False</td>\n",
       "    </tr>\n",
       "    <tr>\n",
       "      <th>395</th>\n",
       "      <td>False</td>\n",
       "      <td>False</td>\n",
       "      <td>False</td>\n",
       "      <td>False</td>\n",
       "      <td>False</td>\n",
       "      <td>False</td>\n",
       "    </tr>\n",
       "    <tr>\n",
       "      <th>396</th>\n",
       "      <td>False</td>\n",
       "      <td>False</td>\n",
       "      <td>False</td>\n",
       "      <td>False</td>\n",
       "      <td>False</td>\n",
       "      <td>False</td>\n",
       "    </tr>\n",
       "  </tbody>\n",
       "</table>\n",
       "<p>397 rows × 6 columns</p>\n",
       "</div>"
      ],
      "text/plain": [
       "      rank  discipline  yrs.since.phd  yrs.service    sex  salary\n",
       "0    False       False          False        False  False   False\n",
       "1    False       False          False        False  False   False\n",
       "2    False       False          False        False  False   False\n",
       "3    False       False          False        False  False   False\n",
       "4    False       False          False        False  False   False\n",
       "..     ...         ...            ...          ...    ...     ...\n",
       "392  False       False          False        False  False   False\n",
       "393  False       False          False        False  False   False\n",
       "394  False       False          False        False  False   False\n",
       "395  False       False          False        False  False   False\n",
       "396  False       False          False        False  False   False\n",
       "\n",
       "[397 rows x 6 columns]"
      ]
     },
     "execution_count": 9,
     "metadata": {},
     "output_type": "execute_result"
    }
   ],
   "source": [
    "df.isnull()"
   ]
  },
  {
   "cell_type": "code",
   "execution_count": 10,
   "id": "d03b22cd",
   "metadata": {},
   "outputs": [
    {
     "data": {
      "text/plain": [
       "rank             0\n",
       "discipline       0\n",
       "yrs.since.phd    0\n",
       "yrs.service      0\n",
       "sex              0\n",
       "salary           0\n",
       "dtype: int64"
      ]
     },
     "execution_count": 10,
     "metadata": {},
     "output_type": "execute_result"
    }
   ],
   "source": [
    "df.isnull().sum()"
   ]
  },
  {
   "cell_type": "code",
   "execution_count": 11,
   "id": "c08fac14",
   "metadata": {},
   "outputs": [
    {
     "data": {
      "text/plain": [
       "<AxesSubplot:>"
      ]
     },
     "execution_count": 11,
     "metadata": {},
     "output_type": "execute_result"
    },
    {
     "data": {
      "image/png": "[encoded data removed]",
      "text/plain": [
       "<Figure size 432x288 with 2 Axes>"
      ]
     },
     "metadata": {
      "needs_background": "light"
     },
     "output_type": "display_data"
    }
   ],
   "source": [
    "sns.heatmap(df.isnull())"
   ]
  },
  {
   "cell_type": "markdown",
   "id": "68d33721",
   "metadata": {},
   "source": [
    "there is no null value in our dataset"
   ]
  },
  {
   "cell_type": "code",
   "execution_count": 12,
   "id": "63a06579",
   "metadata": {},
   "outputs": [
    {
     "data": {
      "text/plain": [
       "Index(['rank', 'discipline', 'yrs.since.phd', 'yrs.service', 'sex', 'salary'], dtype='object')"
      ]
     },
     "execution_count": 12,
     "metadata": {},
     "output_type": "execute_result"
    }
   ],
   "source": [
    "df.columns"
   ]
  },
  {
   "cell_type": "markdown",
   "id": "abb9ec20",
   "metadata": {},
   "source": [
    "# About columns:"
   ]
  },
  {
   "cell_type": "markdown",
   "id": "3e165978",
   "metadata": {},
   "source": [
    "1.Rank: \n",
    "    \n",
    "    it shows designation or job title of the position\n",
    "    \n",
    "2.descipline:\n",
    "    \n",
    "    it is the branch or practice of training \n",
    "    \n",
    "3.yrs.since.phd:\n",
    "    \n",
    "    years completed after phd \n",
    "\n",
    "4.yrs.service:\n",
    "    \n",
    "    experience in the same field or work experience\n",
    "\n",
    "5.sex:\n",
    "    \n",
    "    Gender of the person\n",
    "    \n",
    "6.salary:\n",
    "    \n",
    "    income "
   ]
  },
  {
   "cell_type": "code",
   "execution_count": 13,
   "id": "8c2b867b",
   "metadata": {},
   "outputs": [
    {
     "data": {
      "text/plain": [
       "<seaborn.axisgrid.PairGrid at 0x2a5deb3c5e0>"
      ]
     },
     "execution_count": 13,
     "metadata": {},
     "output_type": "execute_result"
    },
    {
     "data": {
      "image/png": "[encoded data removed]",
      "text/plain": [
       "<Figure size 540x540 with 12 Axes>"
      ]
     },
     "metadata": {
      "needs_background": "light"
     },
     "output_type": "display_data"
    }
   ],
   "source": [
    "sns.pairplot(df)"
   ]
  },
  {
   "cell_type": "code",
   "execution_count": 14,
   "id": "df08d39d",
   "metadata": {},
   "outputs": [
    {
     "data": {
      "text/html": [
       "<div>\n",
       "<style scoped>\n",
       "    .dataframe tbody tr th:only-of-type {\n",
       "        vertical-align: middle;\n",
       "    }\n",
       "\n",
       "    .dataframe tbody tr th {\n",
       "        vertical-align: top;\n",
       "    }\n",
       "\n",
       "    .dataframe thead th {\n",
       "        text-align: right;\n",
       "    }\n",
       "</style>\n",
       "<table border=\"1\" class=\"dataframe\">\n",
       "  <thead>\n",
       "    <tr style=\"text-align: right;\">\n",
       "      <th></th>\n",
       "      <th>yrs.since.phd</th>\n",
       "      <th>yrs.service</th>\n",
       "      <th>salary</th>\n",
       "    </tr>\n",
       "  </thead>\n",
       "  <tbody>\n",
       "    <tr>\n",
       "      <th>count</th>\n",
       "      <td>397.000000</td>\n",
       "      <td>397.000000</td>\n",
       "      <td>397.000000</td>\n",
       "    </tr>\n",
       "    <tr>\n",
       "      <th>mean</th>\n",
       "      <td>22.314861</td>\n",
       "      <td>17.614610</td>\n",
       "      <td>113706.458438</td>\n",
       "    </tr>\n",
       "    <tr>\n",
       "      <th>std</th>\n",
       "      <td>12.887003</td>\n",
       "      <td>13.006024</td>\n",
       "      <td>30289.038695</td>\n",
       "    </tr>\n",
       "    <tr>\n",
       "      <th>min</th>\n",
       "      <td>1.000000</td>\n",
       "      <td>0.000000</td>\n",
       "      <td>57800.000000</td>\n",
       "    </tr>\n",
       "    <tr>\n",
       "      <th>25%</th>\n",
       "      <td>12.000000</td>\n",
       "      <td>7.000000</td>\n",
       "      <td>91000.000000</td>\n",
       "    </tr>\n",
       "    <tr>\n",
       "      <th>50%</th>\n",
       "      <td>21.000000</td>\n",
       "      <td>16.000000</td>\n",
       "      <td>107300.000000</td>\n",
       "    </tr>\n",
       "    <tr>\n",
       "      <th>75%</th>\n",
       "      <td>32.000000</td>\n",
       "      <td>27.000000</td>\n",
       "      <td>134185.000000</td>\n",
       "    </tr>\n",
       "    <tr>\n",
       "      <th>max</th>\n",
       "      <td>56.000000</td>\n",
       "      <td>60.000000</td>\n",
       "      <td>231545.000000</td>\n",
       "    </tr>\n",
       "  </tbody>\n",
       "</table>\n",
       "</div>"
      ],
      "text/plain": [
       "       yrs.since.phd  yrs.service         salary\n",
       "count     397.000000   397.000000     397.000000\n",
       "mean       22.314861    17.614610  113706.458438\n",
       "std        12.887003    13.006024   30289.038695\n",
       "min         1.000000     0.000000   57800.000000\n",
       "25%        12.000000     7.000000   91000.000000\n",
       "50%        21.000000    16.000000  107300.000000\n",
       "75%        32.000000    27.000000  134185.000000\n",
       "max        56.000000    60.000000  231545.000000"
      ]
     },
     "execution_count": 14,
     "metadata": {},
     "output_type": "execute_result"
    }
   ],
   "source": [
    "df.describe()"
   ]
  },
  {
   "cell_type": "markdown",
   "id": "f5157b23",
   "metadata": {},
   "source": [
    "# Scatterplot:"
   ]
  },
  {
   "cell_type": "code",
   "execution_count": 15,
   "id": "f1fce89a",
   "metadata": {},
   "outputs": [
    {
     "data": {
      "text/plain": [
       "<AxesSubplot:xlabel='sex', ylabel='count'>"
      ]
     },
     "execution_count": 15,
     "metadata": {},
     "output_type": "execute_result"
    },
    {
     "data": {
      "image/png": "[encoded data removed]",
      "text/plain": [
       "<Figure size 432x288 with 1 Axes>"
      ]
     },
     "metadata": {
      "needs_background": "light"
     },
     "output_type": "display_data"
    }
   ],
   "source": [
    "sns.countplot(x='sex',data=df)"
   ]
  },
  {
   "cell_type": "markdown",
   "id": "3f943c3d",
   "metadata": {},
   "source": [
    "# scatterplot:"
   ]
  },
  {
   "cell_type": "code",
   "execution_count": 16,
   "id": "b0d9327e",
   "metadata": {},
   "outputs": [
    {
     "data": {
      "text/plain": [
       "<AxesSubplot:xlabel='rank', ylabel='salary'>"
      ]
     },
     "execution_count": 16,
     "metadata": {},
     "output_type": "execute_result"
    },
    {
     "data": {
      "image/png": "[encoded data removed]",
      "text/plain": [
       "<Figure size 432x288 with 1 Axes>"
      ]
     },
     "metadata": {
      "needs_background": "light"
     },
     "output_type": "display_data"
    }
   ],
   "source": [
    "sns.scatterplot(x='rank',y='salary',data=df)"
   ]
  },
  {
   "cell_type": "markdown",
   "id": "04fe6978",
   "metadata": {},
   "source": [
    "we can see that, prof rank has more salary than asstprof rank and assocprof rank"
   ]
  },
  {
   "cell_type": "code",
   "execution_count": 17,
   "id": "8a307242",
   "metadata": {},
   "outputs": [
    {
     "data": {
      "text/plain": [
       "<AxesSubplot:xlabel='discipline', ylabel='salary'>"
      ]
     },
     "execution_count": 17,
     "metadata": {},
     "output_type": "execute_result"
    },
    {
     "data": {
      "image/png": "[encoded data removed]",
      "text/plain": [
       "<Figure size 432x288 with 1 Axes>"
      ]
     },
     "metadata": {
      "needs_background": "light"
     },
     "output_type": "display_data"
    }
   ],
   "source": [
    "sns.scatterplot(x='discipline',y='salary',data=df)"
   ]
  },
  {
   "cell_type": "markdown",
   "id": "84effe1f",
   "metadata": {},
   "source": [
    "We can see that salary is equally disrtibuted between A and B discipline "
   ]
  },
  {
   "cell_type": "code",
   "execution_count": 18,
   "id": "c8b94913",
   "metadata": {},
   "outputs": [
    {
     "data": {
      "text/plain": [
       "<AxesSubplot:xlabel='yrs.since.phd', ylabel='salary'>"
      ]
     },
     "execution_count": 18,
     "metadata": {},
     "output_type": "execute_result"
    },
    {
     "data": {
      "image/png": "[encoded data removed]",
      "text/plain": [
       "<Figure size 432x288 with 1 Axes>"
      ]
     },
     "metadata": {
      "needs_background": "light"
     },
     "output_type": "display_data"
    }
   ],
   "source": [
    "sns.scatterplot(x='yrs.since.phd',y='salary',data=df)"
   ]
  },
  {
   "cell_type": "markdown",
   "id": "867fa0ea",
   "metadata": {},
   "source": [
    "we can see that as years of experience grows, salary also increasing but at last there is less salary after 45 yrs"
   ]
  },
  {
   "cell_type": "code",
   "execution_count": 19,
   "id": "ad7706bc",
   "metadata": {},
   "outputs": [
    {
     "data": {
      "text/plain": [
       "<AxesSubplot:xlabel='yrs.service', ylabel='salary'>"
      ]
     },
     "execution_count": 19,
     "metadata": {},
     "output_type": "execute_result"
    },
    {
     "data": {
      "image/png": "[encoded data removed]",
      "text/plain": [
       "<Figure size 432x288 with 1 Axes>"
      ]
     },
     "metadata": {
      "needs_background": "light"
     },
     "output_type": "display_data"
    }
   ],
   "source": [
    "sns.scatterplot(x='yrs.service',y='salary',data=df)"
   ]
  },
  {
   "cell_type": "markdown",
   "id": "0df55082",
   "metadata": {},
   "source": [
    " from 0 to 40 years there is more salary but after 40 years the salary is low"
   ]
  },
  {
   "cell_type": "code",
   "execution_count": 20,
   "id": "27ec6234",
   "metadata": {},
   "outputs": [
    {
     "data": {
      "text/plain": [
       "<AxesSubplot:xlabel='sex', ylabel='salary'>"
      ]
     },
     "execution_count": 20,
     "metadata": {},
     "output_type": "execute_result"
    },
    {
     "data": {
      "image/png": "[encoded data removed]",
      "text/plain": [
       "<Figure size 432x288 with 1 Axes>"
      ]
     },
     "metadata": {
      "needs_background": "light"
     },
     "output_type": "display_data"
    }
   ],
   "source": [
    "sns.scatterplot(x='sex',y='salary',data=df)"
   ]
  },
  {
   "cell_type": "markdown",
   "id": "d97b427b",
   "metadata": {},
   "source": [
    "we can see that Male are getting more salary than female"
   ]
  },
  {
   "cell_type": "markdown",
   "id": "210b2de2",
   "metadata": {},
   "source": [
    "# we will drop the rank,discipline and sex column as it will have no impact on our data"
   ]
  },
  {
   "cell_type": "code",
   "execution_count": 21,
   "id": "8cb5c87b",
   "metadata": {},
   "outputs": [],
   "source": [
    "df.drop(['rank'],axis=1,inplace=True)\n",
    "df.drop(['discipline'],axis=1,inplace=True)\n",
    "df.drop(['sex'],axis=1,inplace=True)\n"
   ]
  },
  {
   "cell_type": "code",
   "execution_count": 22,
   "id": "47a36e98",
   "metadata": {},
   "outputs": [
    {
     "data": {
      "text/html": [
       "<div>\n",
       "<style scoped>\n",
       "    .dataframe tbody tr th:only-of-type {\n",
       "        vertical-align: middle;\n",
       "    }\n",
       "\n",
       "    .dataframe tbody tr th {\n",
       "        vertical-align: top;\n",
       "    }\n",
       "\n",
       "    .dataframe thead th {\n",
       "        text-align: right;\n",
       "    }\n",
       "</style>\n",
       "<table border=\"1\" class=\"dataframe\">\n",
       "  <thead>\n",
       "    <tr style=\"text-align: right;\">\n",
       "      <th></th>\n",
       "      <th>yrs.since.phd</th>\n",
       "      <th>yrs.service</th>\n",
       "      <th>salary</th>\n",
       "    </tr>\n",
       "  </thead>\n",
       "  <tbody>\n",
       "    <tr>\n",
       "      <th>0</th>\n",
       "      <td>19</td>\n",
       "      <td>18</td>\n",
       "      <td>139750</td>\n",
       "    </tr>\n",
       "    <tr>\n",
       "      <th>1</th>\n",
       "      <td>20</td>\n",
       "      <td>16</td>\n",
       "      <td>173200</td>\n",
       "    </tr>\n",
       "    <tr>\n",
       "      <th>2</th>\n",
       "      <td>4</td>\n",
       "      <td>3</td>\n",
       "      <td>79750</td>\n",
       "    </tr>\n",
       "    <tr>\n",
       "      <th>3</th>\n",
       "      <td>45</td>\n",
       "      <td>39</td>\n",
       "      <td>115000</td>\n",
       "    </tr>\n",
       "    <tr>\n",
       "      <th>4</th>\n",
       "      <td>40</td>\n",
       "      <td>41</td>\n",
       "      <td>141500</td>\n",
       "    </tr>\n",
       "    <tr>\n",
       "      <th>...</th>\n",
       "      <td>...</td>\n",
       "      <td>...</td>\n",
       "      <td>...</td>\n",
       "    </tr>\n",
       "    <tr>\n",
       "      <th>392</th>\n",
       "      <td>33</td>\n",
       "      <td>30</td>\n",
       "      <td>103106</td>\n",
       "    </tr>\n",
       "    <tr>\n",
       "      <th>393</th>\n",
       "      <td>31</td>\n",
       "      <td>19</td>\n",
       "      <td>150564</td>\n",
       "    </tr>\n",
       "    <tr>\n",
       "      <th>394</th>\n",
       "      <td>42</td>\n",
       "      <td>25</td>\n",
       "      <td>101738</td>\n",
       "    </tr>\n",
       "    <tr>\n",
       "      <th>395</th>\n",
       "      <td>25</td>\n",
       "      <td>15</td>\n",
       "      <td>95329</td>\n",
       "    </tr>\n",
       "    <tr>\n",
       "      <th>396</th>\n",
       "      <td>8</td>\n",
       "      <td>4</td>\n",
       "      <td>81035</td>\n",
       "    </tr>\n",
       "  </tbody>\n",
       "</table>\n",
       "<p>397 rows × 3 columns</p>\n",
       "</div>"
      ],
      "text/plain": [
       "     yrs.since.phd  yrs.service  salary\n",
       "0               19           18  139750\n",
       "1               20           16  173200\n",
       "2                4            3   79750\n",
       "3               45           39  115000\n",
       "4               40           41  141500\n",
       "..             ...          ...     ...\n",
       "392             33           30  103106\n",
       "393             31           19  150564\n",
       "394             42           25  101738\n",
       "395             25           15   95329\n",
       "396              8            4   81035\n",
       "\n",
       "[397 rows x 3 columns]"
      ]
     },
     "execution_count": 22,
     "metadata": {},
     "output_type": "execute_result"
    }
   ],
   "source": [
    "df"
   ]
  },
  {
   "cell_type": "markdown",
   "id": "baec6edc",
   "metadata": {},
   "source": [
    "# Correlation:"
   ]
  },
  {
   "cell_type": "code",
   "execution_count": 23,
   "id": "e5152ce2",
   "metadata": {},
   "outputs": [
    {
     "data": {
      "text/html": [
       "<div>\n",
       "<style scoped>\n",
       "    .dataframe tbody tr th:only-of-type {\n",
       "        vertical-align: middle;\n",
       "    }\n",
       "\n",
       "    .dataframe tbody tr th {\n",
       "        vertical-align: top;\n",
       "    }\n",
       "\n",
       "    .dataframe thead th {\n",
       "        text-align: right;\n",
       "    }\n",
       "</style>\n",
       "<table border=\"1\" class=\"dataframe\">\n",
       "  <thead>\n",
       "    <tr style=\"text-align: right;\">\n",
       "      <th></th>\n",
       "      <th>yrs.since.phd</th>\n",
       "      <th>yrs.service</th>\n",
       "      <th>salary</th>\n",
       "    </tr>\n",
       "  </thead>\n",
       "  <tbody>\n",
       "    <tr>\n",
       "      <th>yrs.since.phd</th>\n",
       "      <td>1.000000</td>\n",
       "      <td>0.909649</td>\n",
       "      <td>0.419231</td>\n",
       "    </tr>\n",
       "    <tr>\n",
       "      <th>yrs.service</th>\n",
       "      <td>0.909649</td>\n",
       "      <td>1.000000</td>\n",
       "      <td>0.334745</td>\n",
       "    </tr>\n",
       "    <tr>\n",
       "      <th>salary</th>\n",
       "      <td>0.419231</td>\n",
       "      <td>0.334745</td>\n",
       "      <td>1.000000</td>\n",
       "    </tr>\n",
       "  </tbody>\n",
       "</table>\n",
       "</div>"
      ],
      "text/plain": [
       "               yrs.since.phd  yrs.service    salary\n",
       "yrs.since.phd       1.000000     0.909649  0.419231\n",
       "yrs.service         0.909649     1.000000  0.334745\n",
       "salary              0.419231     0.334745  1.000000"
      ]
     },
     "execution_count": 23,
     "metadata": {},
     "output_type": "execute_result"
    }
   ],
   "source": [
    "df.corr()"
   ]
  },
  {
   "cell_type": "code",
   "execution_count": 24,
   "id": "c0ebb002",
   "metadata": {},
   "outputs": [
    {
     "data": {
      "text/plain": [
       "pandas.core.frame.DataFrame"
      ]
     },
     "execution_count": 24,
     "metadata": {},
     "output_type": "execute_result"
    }
   ],
   "source": [
    "type(df.corr())"
   ]
  },
  {
   "cell_type": "code",
   "execution_count": 25,
   "id": "d9c0d904",
   "metadata": {},
   "outputs": [
    {
     "data": {
      "text/plain": [
       "yrs.since.phd    0.419231\n",
       "yrs.service      0.334745\n",
       "salary           1.000000\n",
       "Name: salary, dtype: float64"
      ]
     },
     "execution_count": 25,
     "metadata": {},
     "output_type": "execute_result"
    }
   ],
   "source": [
    "df.corr()['salary']"
   ]
  },
  {
   "cell_type": "code",
   "execution_count": 26,
   "id": "240d7135",
   "metadata": {},
   "outputs": [
    {
     "data": {
      "text/plain": [
       "yrs.service      0.334745\n",
       "yrs.since.phd    0.419231\n",
       "salary           1.000000\n",
       "Name: salary, dtype: float64"
      ]
     },
     "execution_count": 26,
     "metadata": {},
     "output_type": "execute_result"
    }
   ],
   "source": [
    "df.corr()['salary'].sort_values()"
   ]
  },
  {
   "cell_type": "markdown",
   "id": "3d20ce73",
   "metadata": {},
   "source": [
    "# Correlation using heatmap:"
   ]
  },
  {
   "cell_type": "code",
   "execution_count": 27,
   "id": "bf82085f",
   "metadata": {},
   "outputs": [
    {
     "data": {
      "text/plain": [
       "<AxesSubplot:>"
      ]
     },
     "execution_count": 27,
     "metadata": {},
     "output_type": "execute_result"
    },
    {
     "data": {
      "image/png": "[encoded data removed]",
      "text/plain": [
       "<Figure size 432x288 with 2 Axes>"
      ]
     },
     "metadata": {
      "needs_background": "light"
     },
     "output_type": "display_data"
    }
   ],
   "source": [
    "sns.heatmap(df.corr(),annot=True,linewidths=0.5,linecolor='Black',fmt='.2f')"
   ]
  },
  {
   "cell_type": "markdown",
   "id": "be0a6be5",
   "metadata": {},
   "source": [
    "# Outcomes from Correlation:"
   ]
  },
  {
   "cell_type": "markdown",
   "id": "55c6d177",
   "metadata": {},
   "source": [
    "all the columns of the dataset are positively correlated with the target column \n",
    "\n",
    "1.decipline has 16 percent correlation with target column which can be considered as a weak bond\n",
    "\n",
    "2.sex has 14 percent correlation with the target column which is weak bond\n",
    "\n",
    "3.yrs.since.service has 33 percent correlation to the target column wich is good bond\n",
    "\n",
    "4.yrs.since.phd has 42 percent correlation with target column which can be considered as a strong bond\n",
    "\n",
    "5.salary is our target column\n",
    "\n",
    "Max correlation: yrs.since.phd\n",
    "\n",
    "min correlation: descipline"
   ]
  },
  {
   "cell_type": "markdown",
   "id": "d6cd7414",
   "metadata": {},
   "source": [
    "# Describing dataset:"
   ]
  },
  {
   "cell_type": "code",
   "execution_count": 28,
   "id": "4f867e00",
   "metadata": {},
   "outputs": [
    {
     "data": {
      "text/html": [
       "<div>\n",
       "<style scoped>\n",
       "    .dataframe tbody tr th:only-of-type {\n",
       "        vertical-align: middle;\n",
       "    }\n",
       "\n",
       "    .dataframe tbody tr th {\n",
       "        vertical-align: top;\n",
       "    }\n",
       "\n",
       "    .dataframe thead th {\n",
       "        text-align: right;\n",
       "    }\n",
       "</style>\n",
       "<table border=\"1\" class=\"dataframe\">\n",
       "  <thead>\n",
       "    <tr style=\"text-align: right;\">\n",
       "      <th></th>\n",
       "      <th>yrs.since.phd</th>\n",
       "      <th>yrs.service</th>\n",
       "      <th>salary</th>\n",
       "    </tr>\n",
       "  </thead>\n",
       "  <tbody>\n",
       "    <tr>\n",
       "      <th>count</th>\n",
       "      <td>397.000000</td>\n",
       "      <td>397.000000</td>\n",
       "      <td>397.000000</td>\n",
       "    </tr>\n",
       "    <tr>\n",
       "      <th>mean</th>\n",
       "      <td>22.314861</td>\n",
       "      <td>17.614610</td>\n",
       "      <td>113706.458438</td>\n",
       "    </tr>\n",
       "    <tr>\n",
       "      <th>std</th>\n",
       "      <td>12.887003</td>\n",
       "      <td>13.006024</td>\n",
       "      <td>30289.038695</td>\n",
       "    </tr>\n",
       "    <tr>\n",
       "      <th>min</th>\n",
       "      <td>1.000000</td>\n",
       "      <td>0.000000</td>\n",
       "      <td>57800.000000</td>\n",
       "    </tr>\n",
       "    <tr>\n",
       "      <th>25%</th>\n",
       "      <td>12.000000</td>\n",
       "      <td>7.000000</td>\n",
       "      <td>91000.000000</td>\n",
       "    </tr>\n",
       "    <tr>\n",
       "      <th>50%</th>\n",
       "      <td>21.000000</td>\n",
       "      <td>16.000000</td>\n",
       "      <td>107300.000000</td>\n",
       "    </tr>\n",
       "    <tr>\n",
       "      <th>75%</th>\n",
       "      <td>32.000000</td>\n",
       "      <td>27.000000</td>\n",
       "      <td>134185.000000</td>\n",
       "    </tr>\n",
       "    <tr>\n",
       "      <th>max</th>\n",
       "      <td>56.000000</td>\n",
       "      <td>60.000000</td>\n",
       "      <td>231545.000000</td>\n",
       "    </tr>\n",
       "  </tbody>\n",
       "</table>\n",
       "</div>"
      ],
      "text/plain": [
       "       yrs.since.phd  yrs.service         salary\n",
       "count     397.000000   397.000000     397.000000\n",
       "mean       22.314861    17.614610  113706.458438\n",
       "std        12.887003    13.006024   30289.038695\n",
       "min         1.000000     0.000000   57800.000000\n",
       "25%        12.000000     7.000000   91000.000000\n",
       "50%        21.000000    16.000000  107300.000000\n",
       "75%        32.000000    27.000000  134185.000000\n",
       "max        56.000000    60.000000  231545.000000"
      ]
     },
     "execution_count": 28,
     "metadata": {},
     "output_type": "execute_result"
    }
   ],
   "source": [
    "df.describe()"
   ]
  },
  {
   "cell_type": "markdown",
   "id": "fa8fe2a2",
   "metadata": {},
   "source": [
    "we can see that in yrs of service and yrs.since.phd column, the difference between 1st,2nd and 3rd quartile is not equal"
   ]
  },
  {
   "cell_type": "code",
   "execution_count": 29,
   "id": "249a8614",
   "metadata": {},
   "outputs": [
    {
     "data": {
      "image/png": "[encoded data removed]",
      "text/plain": [
       "<Figure size 864x720 with 2 Axes>"
      ]
     },
     "metadata": {
      "needs_background": "light"
     },
     "output_type": "display_data"
    }
   ],
   "source": [
    "plt.figure(figsize=(12,10))\n",
    "sns.heatmap(round(df.describe()[1:].transpose(),2),linewidth=2,annot=True,fmt='f')\n",
    "plt.xticks(fontsize=15)\n",
    "plt.yticks(fontsize=15)\n",
    "plt.title('Variables summery')\n",
    "plt.show()"
   ]
  },
  {
   "cell_type": "markdown",
   "id": "089ecdb1",
   "metadata": {},
   "source": [
    "# Outcomes from describe dataset:"
   ]
  },
  {
   "cell_type": "markdown",
   "id": "531568b4",
   "metadata": {},
   "source": [
    "from above plot we are describing mean,std daviation, min and max of dataset which will help us in cleaning dataset further \n",
    "\n",
    "total number of rows in datasets:\n",
    "    \n",
    "    1. 397 rows\n",
    "    \n",
    "    2. 5 columns\n",
    "    \n",
    "Descipline:\n",
    "    \n",
    "    1.Mean=0.54\n",
    "   \n",
    "    2.std.d=0.50\n",
    "    \n",
    "    3.max_value=1.000\n",
    "    \n",
    "    4.min_value=0\n",
    "\n",
    "yrs.since.phd:\n",
    "    \n",
    "    1.Mean=22.31000\n",
    "    \n",
    "    2.std.d=12.89000\n",
    "    \n",
    "    3.max_value=56.000\n",
    "    \n",
    "    4.min_value=1.000\n",
    "    \n",
    "yrs.since.service:\n",
    "    \n",
    "    1.Mean=17.61000\n",
    "    \n",
    "    2.std.d=13.010000\n",
    "    \n",
    "    3.max_value=60.0000\n",
    "    \n",
    "    4.min_value=13.0000\n",
    "    \n",
    "sex:\n",
    "    \n",
    "    1.Mean=0.90000\n",
    "    \n",
    "    2.std.d=0.300000\n",
    "    \n",
    "    3.max_value=1.000\n",
    "    \n",
    "    4.min_value=0\n",
    "    \n",
    "salary:\n",
    "    \n",
    "    1.Mean=113706.4600\n",
    "    \n",
    "    2.std.d=30289.04000\n",
    "    \n",
    "    3.max_value=231545.000\n",
    "    \n",
    "    4.min_value=57800.00000\n",
    "\n",
    "salary:\n",
    "   this is our target data\n"
   ]
  },
  {
   "cell_type": "code",
   "execution_count": 30,
   "id": "4ce9df36",
   "metadata": {},
   "outputs": [
    {
     "name": "stdout",
     "output_type": "stream",
     "text": [
      "<class 'pandas.core.frame.DataFrame'>\n",
      "RangeIndex: 397 entries, 0 to 396\n",
      "Data columns (total 3 columns):\n",
      " #   Column         Non-Null Count  Dtype\n",
      "---  ------         --------------  -----\n",
      " 0   yrs.since.phd  397 non-null    int64\n",
      " 1   yrs.service    397 non-null    int64\n",
      " 2   salary         397 non-null    int64\n",
      "dtypes: int64(3)\n",
      "memory usage: 9.4 KB\n"
     ]
    }
   ],
   "source": [
    "df.info()"
   ]
  },
  {
   "cell_type": "markdown",
   "id": "033230bf",
   "metadata": {},
   "source": [
    "from above got we can get data types and memory used by dataframe"
   ]
  },
  {
   "cell_type": "markdown",
   "id": "10f413b3",
   "metadata": {},
   "source": [
    "# Outliers Checking:"
   ]
  },
  {
   "cell_type": "code",
   "execution_count": 31,
   "id": "cc7430ce",
   "metadata": {},
   "outputs": [],
   "source": [
    "import warnings\n",
    "warnings.filterwarnings('ignore')"
   ]
  },
  {
   "cell_type": "code",
   "execution_count": 32,
   "id": "5e6aaf0c",
   "metadata": {},
   "outputs": [
    {
     "data": {
      "image/png": "[encoded data removed]",
      "text/plain": [
       "<Figure size 2160x6480 with 3 Axes>"
      ]
     },
     "metadata": {
      "needs_background": "light"
     },
     "output_type": "display_data"
    }
   ],
   "source": [
    "collist=df.columns.values\n",
    "ncol=30\n",
    "nrows=14\n",
    "plt.figure(figsize=(ncol,ncol*3))\n",
    "for i in range(0,len(collist)):\n",
    "    plt.subplot(nrows,ncol,i+1)\n",
    "    sns.boxplot(data=df[collist[i]],color='green',orient='v')\n",
    "    plt.tight_layout()"
   ]
  },
  {
   "cell_type": "markdown",
   "id": "55f4bb98",
   "metadata": {},
   "source": [
    "we can see thatb there are only few outliers available"
   ]
  },
  {
   "cell_type": "markdown",
   "id": "cb71c660",
   "metadata": {},
   "source": [
    "# Skewness:"
   ]
  },
  {
   "cell_type": "code",
   "execution_count": 33,
   "id": "782c1458",
   "metadata": {},
   "outputs": [
    {
     "data": {
      "text/plain": [
       "yrs.since.phd    0.300880\n",
       "yrs.service      0.650569\n",
       "salary           0.714568\n",
       "dtype: float64"
      ]
     },
     "execution_count": 33,
     "metadata": {},
     "output_type": "execute_result"
    }
   ],
   "source": [
    "df.skew()"
   ]
  },
  {
   "cell_type": "markdown",
   "id": "90b60f9c",
   "metadata": {},
   "source": [
    "we can see that there is skewness present in our data"
   ]
  },
  {
   "cell_type": "markdown",
   "id": "16fee8af",
   "metadata": {},
   "source": [
    "# Normal Distribution Curve:"
   ]
  },
  {
   "cell_type": "code",
   "execution_count": 34,
   "id": "ed54a3ff",
   "metadata": {},
   "outputs": [
    {
     "data": {
      "text/plain": [
       "<AxesSubplot:xlabel='yrs.since.phd', ylabel='Density'>"
      ]
     },
     "execution_count": 34,
     "metadata": {},
     "output_type": "execute_result"
    },
    {
     "data": {
      "image/png": "[encoded data removed]",
      "text/plain": [
       "<Figure size 432x288 with 1 Axes>"
      ]
     },
     "metadata": {
      "needs_background": "light"
     },
     "output_type": "display_data"
    }
   ],
   "source": [
    "sns.distplot(df['yrs.since.phd'])"
   ]
  },
  {
   "cell_type": "markdown",
   "id": "4df2e2cf",
   "metadata": {},
   "source": [
    "There are some outliers available and it is not normally distributed"
   ]
  },
  {
   "cell_type": "code",
   "execution_count": 35,
   "id": "5820e7ba",
   "metadata": {},
   "outputs": [
    {
     "data": {
      "text/plain": [
       "<AxesSubplot:xlabel='yrs.service', ylabel='Density'>"
      ]
     },
     "execution_count": 35,
     "metadata": {},
     "output_type": "execute_result"
    },
    {
     "data": {
      "image/png": "[encoded data removed]",
      "text/plain": [
       "<Figure size 432x288 with 1 Axes>"
      ]
     },
     "metadata": {
      "needs_background": "light"
     },
     "output_type": "display_data"
    }
   ],
   "source": [
    "sns.distplot(df['yrs.service'])"
   ]
  },
  {
   "cell_type": "markdown",
   "id": "a4b3a824",
   "metadata": {},
   "source": [
    "The data is not normnally distributed, there are some outliers available in data"
   ]
  },
  {
   "cell_type": "code",
   "execution_count": 36,
   "id": "faa83f50",
   "metadata": {},
   "outputs": [
    {
     "data": {
      "text/plain": [
       "<AxesSubplot:xlabel='salary', ylabel='Density'>"
      ]
     },
     "execution_count": 36,
     "metadata": {},
     "output_type": "execute_result"
    },
    {
     "data": {
      "image/png": "[encoded data removed]",
      "text/plain": [
       "<Figure size 432x288 with 1 Axes>"
      ]
     },
     "metadata": {
      "needs_background": "light"
     },
     "output_type": "display_data"
    }
   ],
   "source": [
    "sns.distplot(df['salary'])"
   ]
  },
  {
   "cell_type": "markdown",
   "id": "53e3182a",
   "metadata": {},
   "source": [
    "data is not normally distributed, there are some outliers available"
   ]
  },
  {
   "cell_type": "markdown",
   "id": "fc993bb4",
   "metadata": {},
   "source": [
    "# Ploting outliers"
   ]
  },
  {
   "cell_type": "code",
   "execution_count": 37,
   "id": "04e5782d",
   "metadata": {},
   "outputs": [
    {
     "data": {
      "text/plain": [
       "<AxesSubplot:>"
      ]
     },
     "execution_count": 37,
     "metadata": {},
     "output_type": "execute_result"
    },
    {
     "data": {
      "image/png": "[encoded data removed]",
      "text/plain": [
       "<Figure size 432x288 with 1 Axes>"
      ]
     },
     "metadata": {
      "needs_background": "light"
     },
     "output_type": "display_data"
    }
   ],
   "source": [
    "df['yrs.since.phd'].plot.box()"
   ]
  },
  {
   "cell_type": "markdown",
   "id": "df9e89ab",
   "metadata": {},
   "source": [
    "no outliers available"
   ]
  },
  {
   "cell_type": "code",
   "execution_count": 38,
   "id": "acae3bf5",
   "metadata": {},
   "outputs": [
    {
     "data": {
      "text/plain": [
       "<AxesSubplot:>"
      ]
     },
     "execution_count": 38,
     "metadata": {},
     "output_type": "execute_result"
    },
    {
     "data": {
      "image/png": "[encoded data removed]",
      "text/plain": [
       "<Figure size 432x288 with 1 Axes>"
      ]
     },
     "metadata": {
      "needs_background": "light"
     },
     "output_type": "display_data"
    }
   ],
   "source": [
    "df['yrs.service'].plot.box()"
   ]
  },
  {
   "cell_type": "markdown",
   "id": "b40ca675",
   "metadata": {},
   "source": [
    "very less outliers present"
   ]
  },
  {
   "cell_type": "code",
   "execution_count": 39,
   "id": "6fdeaada",
   "metadata": {},
   "outputs": [
    {
     "data": {
      "text/plain": [
       "<AxesSubplot:>"
      ]
     },
     "execution_count": 39,
     "metadata": {},
     "output_type": "execute_result"
    },
    {
     "data": {
      "image/png": "[encoded data removed]",
      "text/plain": [
       "<Figure size 432x288 with 1 Axes>"
      ]
     },
     "metadata": {
      "needs_background": "light"
     },
     "output_type": "display_data"
    }
   ],
   "source": [
    "df['salary'].plot.box()"
   ]
  },
  {
   "cell_type": "markdown",
   "id": "1201ce9d",
   "metadata": {},
   "source": [
    "very less outliers are present"
   ]
  },
  {
   "cell_type": "markdown",
   "id": "b7485938",
   "metadata": {},
   "source": [
    "no outliers are present"
   ]
  },
  {
   "cell_type": "markdown",
   "id": "997498a5",
   "metadata": {},
   "source": [
    "# Normal Distribution shows that data is skewed"
   ]
  },
  {
   "cell_type": "markdown",
   "id": "cc385198",
   "metadata": {},
   "source": [
    "# Removing outliers:"
   ]
  },
  {
   "cell_type": "code",
   "execution_count": 40,
   "id": "1ce4ca39",
   "metadata": {},
   "outputs": [],
   "source": [
    "from scipy.stats import zscore\n",
    "import numpy as np"
   ]
  },
  {
   "cell_type": "code",
   "execution_count": 41,
   "id": "ce2a6a1d",
   "metadata": {},
   "outputs": [
    {
     "data": {
      "text/plain": [
       "array([[-0.25754973,  0.02966908,  0.86091884],\n",
       "       [-0.17985426, -0.12429986,  1.96667226],\n",
       "       [-1.42298184, -1.12509795, -1.12249537],\n",
       "       ...,\n",
       "       [ 1.52944617,  0.56856036, -0.39564018],\n",
       "       [ 0.20862311, -0.20128433, -0.60750187],\n",
       "       [-1.11219995, -1.04811348, -1.08001725]])"
      ]
     },
     "execution_count": 41,
     "metadata": {},
     "output_type": "execute_result"
    }
   ],
   "source": [
    "zscore(df)"
   ]
  },
  {
   "cell_type": "code",
   "execution_count": 42,
   "id": "bcfdd75d",
   "metadata": {},
   "outputs": [
    {
     "data": {
      "text/plain": [
       "array([[0.25754973, 0.02966908, 0.86091884],\n",
       "       [0.17985426, 0.12429986, 1.96667226],\n",
       "       [1.42298184, 1.12509795, 1.12249537],\n",
       "       ...,\n",
       "       [1.52944617, 0.56856036, 0.39564018],\n",
       "       [0.20862311, 0.20128433, 0.60750187],\n",
       "       [1.11219995, 1.04811348, 1.08001725]])"
      ]
     },
     "execution_count": 42,
     "metadata": {},
     "output_type": "execute_result"
    }
   ],
   "source": [
    "np.abs(zscore(df))"
   ]
  },
  {
   "cell_type": "code",
   "execution_count": 43,
   "id": "412e2046",
   "metadata": {},
   "outputs": [
    {
     "data": {
      "text/plain": [
       "array([[False, False, False],\n",
       "       [False, False, False],\n",
       "       [False, False, False],\n",
       "       ...,\n",
       "       [False, False, False],\n",
       "       [False, False, False],\n",
       "       [False, False, False]])"
      ]
     },
     "execution_count": 43,
     "metadata": {},
     "output_type": "execute_result"
    }
   ],
   "source": [
    "np.abs(zscore(df))<0"
   ]
  },
  {
   "cell_type": "code",
   "execution_count": 44,
   "id": "6433bfdc",
   "metadata": {},
   "outputs": [],
   "source": [
    "z=np.abs(zscore(df))"
   ]
  },
  {
   "cell_type": "code",
   "execution_count": 45,
   "id": "09aa3b27",
   "metadata": {},
   "outputs": [
    {
     "data": {
      "text/plain": [
       "(397, 3)"
      ]
     },
     "execution_count": 45,
     "metadata": {},
     "output_type": "execute_result"
    }
   ],
   "source": [
    "z.shape"
   ]
  },
  {
   "cell_type": "code",
   "execution_count": 46,
   "id": "ed4f7611",
   "metadata": {},
   "outputs": [
    {
     "data": {
      "text/plain": [
       "numpy.ndarray"
      ]
     },
     "execution_count": 46,
     "metadata": {},
     "output_type": "execute_result"
    }
   ],
   "source": [
    "type(z)"
   ]
  },
  {
   "cell_type": "code",
   "execution_count": 47,
   "id": "03a1219b",
   "metadata": {},
   "outputs": [
    {
     "name": "stdout",
     "output_type": "stream",
     "text": [
      "(array([ 43, 131, 330, 364], dtype=int64), array([2, 1, 1, 2], dtype=int64))\n"
     ]
    }
   ],
   "source": [
    "#if np.abs is not applied \n",
    "#threshold=(-3,3)\n",
    "\n",
    "#if applied np.abs\n",
    "threshold=3\n",
    "#index numbers\n",
    "print(np.where(z>3))"
   ]
  },
  {
   "cell_type": "code",
   "execution_count": 48,
   "id": "261279da",
   "metadata": {},
   "outputs": [
    {
     "data": {
      "text/plain": [
       "yrs.since.phd        2\n",
       "yrs.service          0\n",
       "salary           72500\n",
       "Name: 127, dtype: int64"
      ]
     },
     "execution_count": 48,
     "metadata": {},
     "output_type": "execute_result"
    }
   ],
   "source": [
    "df.iloc[127]   #at index 127, outliers identified"
   ]
  },
  {
   "cell_type": "code",
   "execution_count": 49,
   "id": "d03dd6e5",
   "metadata": {},
   "outputs": [
    {
     "data": {
      "text/plain": [
       "4"
      ]
     },
     "execution_count": 49,
     "metadata": {},
     "output_type": "execute_result"
    }
   ],
   "source": [
    "len(np.where(z>3)[0])"
   ]
  },
  {
   "cell_type": "code",
   "execution_count": 50,
   "id": "6debfe6b",
   "metadata": {},
   "outputs": [],
   "source": [
    "df_new=df[(z<3).all(axis=1)]"
   ]
  },
  {
   "cell_type": "code",
   "execution_count": 51,
   "id": "627aecb3",
   "metadata": {},
   "outputs": [
    {
     "name": "stdout",
     "output_type": "stream",
     "text": [
      "Old DataFrame (397, 3)\n",
      "New DataFrame (393, 3)\n",
      "total dropped rows 4\n"
     ]
    }
   ],
   "source": [
    "print(\"Old DataFrame\",df.shape)\n",
    "print(\"New DataFrame\", df_new.shape)\n",
    "print(\"total dropped rows\", df.shape[0]-df_new.shape[0])"
   ]
  },
  {
   "cell_type": "markdown",
   "id": "fe92c4c6",
   "metadata": {},
   "source": [
    "# Percentage data loss:"
   ]
  },
  {
   "cell_type": "code",
   "execution_count": 52,
   "id": "ac49bb90",
   "metadata": {},
   "outputs": [
    {
     "name": "stdout",
     "output_type": "stream",
     "text": [
      "10.831234256926953 %\n"
     ]
    }
   ],
   "source": [
    "loss_percent=(397-354)/397*100\n",
    "print(loss_percent, '%')"
   ]
  },
  {
   "cell_type": "markdown",
   "id": "271911d0",
   "metadata": {},
   "source": [
    "# model without outliers is df and model with desired outliers is df_new:"
   ]
  },
  {
   "cell_type": "markdown",
   "id": "015a7a2c",
   "metadata": {},
   "source": [
    "dividing data in feature and vectors:"
   ]
  },
  {
   "cell_type": "code",
   "execution_count": 53,
   "id": "9ce2eddb",
   "metadata": {},
   "outputs": [
    {
     "data": {
      "text/html": [
       "<div>\n",
       "<style scoped>\n",
       "    .dataframe tbody tr th:only-of-type {\n",
       "        vertical-align: middle;\n",
       "    }\n",
       "\n",
       "    .dataframe tbody tr th {\n",
       "        vertical-align: top;\n",
       "    }\n",
       "\n",
       "    .dataframe thead th {\n",
       "        text-align: right;\n",
       "    }\n",
       "</style>\n",
       "<table border=\"1\" class=\"dataframe\">\n",
       "  <thead>\n",
       "    <tr style=\"text-align: right;\">\n",
       "      <th></th>\n",
       "      <th>yrs.since.phd</th>\n",
       "      <th>yrs.service</th>\n",
       "      <th>salary</th>\n",
       "    </tr>\n",
       "  </thead>\n",
       "  <tbody>\n",
       "    <tr>\n",
       "      <th>0</th>\n",
       "      <td>19</td>\n",
       "      <td>18</td>\n",
       "      <td>139750</td>\n",
       "    </tr>\n",
       "    <tr>\n",
       "      <th>1</th>\n",
       "      <td>20</td>\n",
       "      <td>16</td>\n",
       "      <td>173200</td>\n",
       "    </tr>\n",
       "    <tr>\n",
       "      <th>2</th>\n",
       "      <td>4</td>\n",
       "      <td>3</td>\n",
       "      <td>79750</td>\n",
       "    </tr>\n",
       "    <tr>\n",
       "      <th>3</th>\n",
       "      <td>45</td>\n",
       "      <td>39</td>\n",
       "      <td>115000</td>\n",
       "    </tr>\n",
       "    <tr>\n",
       "      <th>4</th>\n",
       "      <td>40</td>\n",
       "      <td>41</td>\n",
       "      <td>141500</td>\n",
       "    </tr>\n",
       "    <tr>\n",
       "      <th>...</th>\n",
       "      <td>...</td>\n",
       "      <td>...</td>\n",
       "      <td>...</td>\n",
       "    </tr>\n",
       "    <tr>\n",
       "      <th>392</th>\n",
       "      <td>33</td>\n",
       "      <td>30</td>\n",
       "      <td>103106</td>\n",
       "    </tr>\n",
       "    <tr>\n",
       "      <th>393</th>\n",
       "      <td>31</td>\n",
       "      <td>19</td>\n",
       "      <td>150564</td>\n",
       "    </tr>\n",
       "    <tr>\n",
       "      <th>394</th>\n",
       "      <td>42</td>\n",
       "      <td>25</td>\n",
       "      <td>101738</td>\n",
       "    </tr>\n",
       "    <tr>\n",
       "      <th>395</th>\n",
       "      <td>25</td>\n",
       "      <td>15</td>\n",
       "      <td>95329</td>\n",
       "    </tr>\n",
       "    <tr>\n",
       "      <th>396</th>\n",
       "      <td>8</td>\n",
       "      <td>4</td>\n",
       "      <td>81035</td>\n",
       "    </tr>\n",
       "  </tbody>\n",
       "</table>\n",
       "<p>393 rows × 3 columns</p>\n",
       "</div>"
      ],
      "text/plain": [
       "     yrs.since.phd  yrs.service  salary\n",
       "0               19           18  139750\n",
       "1               20           16  173200\n",
       "2                4            3   79750\n",
       "3               45           39  115000\n",
       "4               40           41  141500\n",
       "..             ...          ...     ...\n",
       "392             33           30  103106\n",
       "393             31           19  150564\n",
       "394             42           25  101738\n",
       "395             25           15   95329\n",
       "396              8            4   81035\n",
       "\n",
       "[393 rows x 3 columns]"
      ]
     },
     "execution_count": 53,
     "metadata": {},
     "output_type": "execute_result"
    }
   ],
   "source": [
    "df_new"
   ]
  },
  {
   "cell_type": "code",
   "execution_count": 54,
   "id": "19a201f7",
   "metadata": {},
   "outputs": [],
   "source": [
    "#independent column\n",
    "x=df_new.iloc[:,:-1]"
   ]
  },
  {
   "cell_type": "code",
   "execution_count": 55,
   "id": "78e8011f",
   "metadata": {},
   "outputs": [],
   "source": [
    "#target\n",
    "y=df_new.iloc[:,-1]"
   ]
  },
  {
   "cell_type": "markdown",
   "id": "1d2a4de4",
   "metadata": {},
   "source": [
    "# Transforming data to remove skewness:"
   ]
  },
  {
   "cell_type": "code",
   "execution_count": 56,
   "id": "1c56d475",
   "metadata": {},
   "outputs": [],
   "source": [
    "from sklearn.preprocessing import power_transform"
   ]
  },
  {
   "cell_type": "code",
   "execution_count": 57,
   "id": "770b64a8",
   "metadata": {},
   "outputs": [],
   "source": [
    "x=power_transform(x,method='yeo-johnson')"
   ]
  },
  {
   "cell_type": "code",
   "execution_count": 58,
   "id": "2a78e17d",
   "metadata": {},
   "outputs": [
    {
     "data": {
      "text/plain": [
       "array([[-0.11344983,  0.26888583],\n",
       "       [-0.03455335,  0.1209006 ],\n",
       "       [-1.6242611 , -1.28449532],\n",
       "       [ 1.59976363,  1.46109915],\n",
       "       [ 1.31028198,  1.55315864],\n",
       "       [-1.36187943, -0.84005312],\n",
       "       [ 0.68342795,  0.60337981],\n",
       "       [ 1.59976363,  1.72997607],\n",
       "       [ 0.04281072,  0.40814245],\n",
       "       [-0.19398811,  0.26888583],\n",
       "       [-0.72000082, -0.60348074],\n",
       "       [-1.24247753, -1.47508922],\n",
       "       [-2.12374282, -1.70716059],\n",
       "       [-1.93539178, -2.02223253],\n",
       "       [-0.03455335,  0.26888583],\n",
       "       [-0.72000082, -1.28449532],\n",
       "       [-0.11344983,  0.40814245],\n",
       "       [ 1.1904517 ,  1.21866709],\n",
       "       [ 1.12958897,  0.60337981],\n",
       "       [ 1.25067523,  1.31789249],\n",
       "       [ 0.74953316,  0.78500622],\n",
       "       [ 1.06806314,  1.06349813],\n",
       "       [ 0.94291868,  1.00992197],\n",
       "       [ 0.26663401,  0.33951754],\n",
       "       [-0.62629143, -0.60348074],\n",
       "       [ 0.04281072, -0.60348074],\n",
       "       [ 1.00584876,  0.60337981],\n",
       "       [-1.48854554, -1.28449532],\n",
       "       [-0.81672914, -2.02223253],\n",
       "       [-0.72000082, -0.60348074],\n",
       "       [-0.03455335, -1.11979784],\n",
       "       [-1.24247753, -1.47508922],\n",
       "       [-0.62629143, -0.49655514],\n",
       "       [-1.6242611 , -1.47508922],\n",
       "       [-1.6242611 , -1.47508922],\n",
       "       [-1.48854554, -2.02223253],\n",
       "       [ 0.11873986,  0.47490923],\n",
       "       [-1.24247753, -1.11979784],\n",
       "       [ 1.3692931 ,  1.06349813],\n",
       "       [-1.02077234, -0.49655514],\n",
       "       [ 0.19332141, -1.47508922],\n",
       "       [ 0.19332141,  0.60337981],\n",
       "       [ 1.31028198,  0.84294347],\n",
       "       [-0.11344983,  0.33951754],\n",
       "       [ 0.33874878,  0.04312953],\n",
       "       [ 1.31028198,  0.89970038],\n",
       "       [ 0.19332141,  0.33951754],\n",
       "       [ 0.33874878,  0.72581897],\n",
       "       [-2.12374282, -1.70716059],\n",
       "       [ 0.54852367,  0.89970038],\n",
       "       [-0.72000082, -0.29986145],\n",
       "       [-0.81672914, -1.28449532],\n",
       "       [-0.36050053, -0.49655514],\n",
       "       [-0.72000082, -0.29986145],\n",
       "       [-0.53530047, -0.97317433],\n",
       "       [ 0.19332141,  0.47490923],\n",
       "       [-1.02077234, -0.60348074],\n",
       "       [-0.91683853, -0.49655514],\n",
       "       [-1.12908354, -1.28449532],\n",
       "       [-1.02077234, -0.60348074],\n",
       "       [-1.7717242 , -1.47508922],\n",
       "       [ 0.87924385,  1.06349813],\n",
       "       [-0.81672914, -0.29986145],\n",
       "       [-1.6242611 , -1.28449532],\n",
       "       [-1.02077234, -0.60348074],\n",
       "       [ 0.11873986, -0.2085903 ],\n",
       "       [ 1.00584876,  1.06349813],\n",
       "       [-0.27629162,  0.19607812],\n",
       "       [ 0.54852367,  1.31789249],\n",
       "       [-0.27629162, -1.47508922],\n",
       "       [ 1.59976363,  1.72997607],\n",
       "       [ 0.61643875,  0.33951754],\n",
       "       [ 1.00584876,  1.21866709],\n",
       "       [ 0.54852367,  0.60337981],\n",
       "       [-1.12908354, -1.28449532],\n",
       "       [-0.27629162, -1.28449532],\n",
       "       [ 0.40973026,  0.33951754],\n",
       "       [-1.7717242 , -1.70716059],\n",
       "       [-1.36187943, -1.47508922],\n",
       "       [ 1.48560705,  0.89970038],\n",
       "       [-0.27629162,  0.1209006 ],\n",
       "       [ 0.11873986,  0.40814245],\n",
       "       [-1.36187943, -1.47508922],\n",
       "       [-0.27629162,  0.26888583],\n",
       "       [-0.44677519, -0.03749559],\n",
       "       [ 1.12958897,  1.36634754],\n",
       "       [-1.93539178, -1.47508922],\n",
       "       [ 0.33874878,  0.72581897],\n",
       "       [-1.02077234, -0.71749486],\n",
       "       [-0.91683853, -0.97317433],\n",
       "       [-0.91683853, -0.71749486],\n",
       "       [-0.91683853, -0.71749486],\n",
       "       [ 1.1904517 ,  1.41407334],\n",
       "       [ 0.04281072,  0.40814245],\n",
       "       [-1.6242611 , -2.02223253],\n",
       "       [-0.27629162, -0.2085903 ],\n",
       "       [-0.62629143, -0.71749486],\n",
       "       [ 0.68342795, -0.03749559],\n",
       "       [ 1.3692931 ,  0.78500622],\n",
       "       [ 1.42772852,  0.72581897],\n",
       "       [ 0.54852367,  0.60337981],\n",
       "       [-0.36050053, -0.97317433],\n",
       "       [-0.03455335, -0.03749559],\n",
       "       [-0.19398811, -0.39562866],\n",
       "       [ 0.74953316,  0.89970038],\n",
       "       [-0.81672914, -0.60348074],\n",
       "       [-0.91683853, -0.60348074],\n",
       "       [-0.44677519, -0.60348074],\n",
       "       [ 1.31028198,  1.06349813],\n",
       "       [-0.03455335,  0.1209006 ],\n",
       "       [-0.11344983,  0.1209006 ],\n",
       "       [-1.7717242 , -1.70716059],\n",
       "       [ 1.12958897,  1.36634754],\n",
       "       [-0.72000082, -2.02223253],\n",
       "       [ 0.04281072, -0.49655514],\n",
       "       [ 0.68342795,  0.9553405 ],\n",
       "       [ 1.25067523,  1.31789249],\n",
       "       [-1.6242611 , -1.70716059],\n",
       "       [-1.48854554, -1.28449532],\n",
       "       [-0.53530047, -0.03749559],\n",
       "       [ 0.81479315,  1.11611808],\n",
       "       [ 0.26663401,  0.53994937],\n",
       "       [ 0.33874878,  0.53994937],\n",
       "       [ 0.26663401,  0.53994937],\n",
       "       [ 2.09000468,  1.89813923],\n",
       "       [ 0.54852367,  0.78500622],\n",
       "       [-1.93539178, -2.02223253],\n",
       "       [ 0.81479315,  1.00992197],\n",
       "       [-1.6242611 , -1.47508922],\n",
       "       [-0.81672914, -0.49655514],\n",
       "       [-0.91683853, -0.60348074],\n",
       "       [-1.7717242 , -1.70716059],\n",
       "       [ 1.00584876,  0.72581897],\n",
       "       [-0.03455335,  0.26888583],\n",
       "       [-0.36050053, -0.03749559],\n",
       "       [-0.27629162, -0.03749559],\n",
       "       [-0.91683853, -0.71749486],\n",
       "       [ 0.04281072,  0.26888583],\n",
       "       [-0.53530047, -0.60348074],\n",
       "       [-0.44677519, -0.39562866],\n",
       "       [-0.11344983, -0.29986145],\n",
       "       [-1.7717242 , -1.28449532],\n",
       "       [ 0.47963729,  0.84294347],\n",
       "       [ 0.54852367,  0.89970038],\n",
       "       [-1.6242611 , -1.11979784],\n",
       "       [ 0.47963729,  0.84294347],\n",
       "       [ 1.06806314,  0.78500622],\n",
       "       [-1.6242611 , -1.28449532],\n",
       "       [-0.53530047, -0.2085903 ],\n",
       "       [-1.6242611 , -1.11979784],\n",
       "       [ 0.04281072, -0.49655514],\n",
       "       [-0.72000082, -0.39562866],\n",
       "       [-1.6242611 , -2.02223253],\n",
       "       [ 0.04281072,  0.47490923],\n",
       "       [-0.72000082,  0.26888583],\n",
       "       [-2.12374282, -2.02223253],\n",
       "       [-1.36187943, -0.84005312],\n",
       "       [-0.44677519,  0.1209006 ],\n",
       "       [-1.93539178, -1.47508922],\n",
       "       [ 0.40973026,  0.33951754],\n",
       "       [ 0.11873986, -0.71749486],\n",
       "       [-1.7717242 , -1.28449532],\n",
       "       [-2.12374282, -2.02223253],\n",
       "       [ 0.04281072, -0.60348074],\n",
       "       [-0.36050053,  0.1209006 ],\n",
       "       [-0.19398811,  0.33951754],\n",
       "       [-1.12908354, -0.84005312],\n",
       "       [ 0.33874878,  0.26888583],\n",
       "       [-1.48854554, -0.97317433],\n",
       "       [-0.11344983,  0.33951754],\n",
       "       [ 1.12958897,  0.66530506],\n",
       "       [-0.03455335,  0.40814245],\n",
       "       [-0.27629162, -0.84005312],\n",
       "       [ 0.54852367,  0.72581897],\n",
       "       [-0.91683853, -0.71749486],\n",
       "       [-0.62629143, -0.49655514],\n",
       "       [ 0.47963729, -0.03749559],\n",
       "       [-1.7717242 , -1.28449532],\n",
       "       [-0.81672914, -0.29986145],\n",
       "       [-0.19398811, -0.97317433],\n",
       "       [-1.12908354, -0.60348074],\n",
       "       [ 0.40973026,  0.53994937],\n",
       "       [ 0.19332141,  0.60337981],\n",
       "       [ 0.87924385,  1.00992197],\n",
       "       [-0.62629143, -0.39562866],\n",
       "       [-0.19398811, -0.39562866],\n",
       "       [ 0.54852367,  0.89970038],\n",
       "       [ 0.33874878,  0.33951754],\n",
       "       [ 0.11873986, -0.49655514],\n",
       "       [ 1.48560705,  0.53994937],\n",
       "       [-0.11344983,  0.26888583],\n",
       "       [-0.11344983,  0.33951754],\n",
       "       [ 1.76723708,  2.05871693],\n",
       "       [-1.02077234, -0.71749486],\n",
       "       [-1.6242611 , -1.11979784],\n",
       "       [-1.6242611 , -1.11979784],\n",
       "       [ 0.94291868,  1.16782711],\n",
       "       [ 1.1904517 ,  0.53994937],\n",
       "       [-1.6242611 , -1.11979784],\n",
       "       [ 1.31028198,  1.50745235],\n",
       "       [ 0.54852367,  0.19607812],\n",
       "       [-0.27629162,  0.19607812],\n",
       "       [-0.11344983, -0.97317433],\n",
       "       [ 0.04281072, -1.47508922],\n",
       "       [ 1.00584876,  1.16782711],\n",
       "       [-0.19398811,  0.26888583],\n",
       "       [-1.24247753, -1.47508922],\n",
       "       [-0.03455335,  0.40814245],\n",
       "       [-1.6242611 , -1.28449532],\n",
       "       [ 1.25067523,  1.46109915],\n",
       "       [-0.44677519, -0.71749486],\n",
       "       [ 0.40973026,  0.33951754],\n",
       "       [-0.81672914, -1.70716059],\n",
       "       [-0.36050053, -0.29986145],\n",
       "       [-0.44677519, -0.29986145],\n",
       "       [ 0.61643875,  0.53994937],\n",
       "       [-0.53530047, -0.71749486],\n",
       "       [-0.62629143, -0.29986145],\n",
       "       [ 0.04281072,  0.47490923],\n",
       "       [ 0.19332141, -0.39562866],\n",
       "       [-0.62629143, -0.84005312],\n",
       "       [ 0.94291868,  0.40814245],\n",
       "       [ 1.1904517 ,  1.26867686],\n",
       "       [-0.03455335,  0.40814245],\n",
       "       [-1.7717242 , -1.70716059],\n",
       "       [-1.02077234, -0.71749486],\n",
       "       [-0.36050053, -0.29986145],\n",
       "       [ 1.25067523,  1.41407334],\n",
       "       [ 0.61643875,  0.84294347],\n",
       "       [ 0.40973026,  0.66530506],\n",
       "       [ 1.1904517 ,  0.33951754],\n",
       "       [ 1.06806314,  0.33951754],\n",
       "       [-1.12908354, -1.28449532],\n",
       "       [ 0.54852367,  0.19607812],\n",
       "       [ 0.33874878,  0.72581897],\n",
       "       [-1.24247753, -0.84005312],\n",
       "       [ 1.65607448,  1.50745235],\n",
       "       [-0.11344983, -0.84005312],\n",
       "       [-1.48854554, -1.28449532],\n",
       "       [ 0.74953316,  1.00992197],\n",
       "       [ 1.1904517 ,  1.36634754],\n",
       "       [ 0.19332141,  0.60337981],\n",
       "       [-0.11344983,  0.60337981],\n",
       "       [-0.27629162, -0.29986145],\n",
       "       [ 0.68342795,  0.60337981],\n",
       "       [ 0.04281072,  0.26888583],\n",
       "       [ 0.54852367,  0.60337981],\n",
       "       [ 0.61643875, -0.71749486],\n",
       "       [ 1.25067523,  1.46109915],\n",
       "       [-0.03455335, -0.60348074],\n",
       "       [ 0.74953316, -0.2085903 ],\n",
       "       [-1.6242611 , -1.47508922],\n",
       "       [ 0.54852367, -0.71749486],\n",
       "       [-0.72000082, -0.60348074],\n",
       "       [ 0.11873986,  0.53994937],\n",
       "       [ 0.68342795,  0.60337981],\n",
       "       [-1.02077234, -1.28449532],\n",
       "       [ 0.81479315,  1.00992197],\n",
       "       [ 1.3692931 ,  1.16782711],\n",
       "       [ 1.59976363,  1.72997607],\n",
       "       [ 0.74953316,  0.78500622],\n",
       "       [ 0.74953316,  1.06349813],\n",
       "       [ 1.12958897,  1.26867686],\n",
       "       [ 1.06806314,  1.00992197],\n",
       "       [ 1.48560705,  1.64272548],\n",
       "       [-0.53530047, -0.39562866],\n",
       "       [ 1.71189417,  1.68663008],\n",
       "       [-0.62629143, -0.71749486],\n",
       "       [ 1.42772852,  1.50745235],\n",
       "       [ 1.42772852,  0.26888583],\n",
       "       [-1.6242611 , -1.70716059],\n",
       "       [-1.12908354, -1.11979784],\n",
       "       [-1.12908354, -1.28449532],\n",
       "       [-0.72000082, -0.84005312],\n",
       "       [ 1.98410497,  1.85684746],\n",
       "       [ 0.74953316,  0.84294347],\n",
       "       [ 0.26663401,  0.26888583],\n",
       "       [ 1.65607448,  1.77278246],\n",
       "       [ 1.25067523,  1.41407334],\n",
       "       [ 1.12958897,  0.84294347],\n",
       "       [ 1.93053872,  1.97931794],\n",
       "       [ 1.59976363,  1.64272548],\n",
       "       [-1.12908354, -0.84005312],\n",
       "       [ 1.8221169 ,  1.89813923],\n",
       "       [ 0.54852367,  0.84294347],\n",
       "       [-1.93539178, -2.02223253],\n",
       "       [ 0.61643875,  0.84294347],\n",
       "       [-1.12908354, -0.97317433],\n",
       "       [ 0.87924385, -0.71749486],\n",
       "       [ 0.81479315,  0.89970038],\n",
       "       [ 1.25067523, -0.49655514],\n",
       "       [-0.81672914, -1.70716059],\n",
       "       [-0.11344983, -0.71749486],\n",
       "       [ 1.31028198,  1.31789249],\n",
       "       [-0.19398811,  0.26888583],\n",
       "       [-0.27629162, -0.29986145],\n",
       "       [ 1.8221169 ,  1.64272548],\n",
       "       [ 1.59976363,  1.46109915],\n",
       "       [ 1.25067523,  1.31789249],\n",
       "       [ 0.47963729,  0.1209006 ],\n",
       "       [ 0.54852367, -0.12128092],\n",
       "       [-0.53530047, -1.11979784],\n",
       "       [ 1.65607448,  1.68663008],\n",
       "       [ 0.87924385,  1.06349813],\n",
       "       [-1.24247753, -1.11979784],\n",
       "       [ 0.74953316,  0.89970038],\n",
       "       [-1.48854554, -2.02223253],\n",
       "       [ 0.11873986,  0.04312953],\n",
       "       [-0.03455335, -0.71749486],\n",
       "       [-0.53530047, -0.49655514],\n",
       "       [ 0.61643875,  0.33951754],\n",
       "       [ 1.00584876,  1.26867686],\n",
       "       [ 0.11873986, -0.84005312],\n",
       "       [-1.36187943, -1.28449532],\n",
       "       [-0.72000082, -0.49655514],\n",
       "       [ 1.65607448,  1.72997607],\n",
       "       [-0.36050053,  0.1209006 ],\n",
       "       [-0.36050053,  0.04312953],\n",
       "       [ 0.26663401,  0.60337981],\n",
       "       [-1.02077234, -0.49655514],\n",
       "       [-0.62629143, -0.29986145],\n",
       "       [ 0.26663401,  0.04312953],\n",
       "       [ 0.68342795,  1.06349813],\n",
       "       [-1.12908354, -1.11979784],\n",
       "       [ 0.19332141,  0.04312953],\n",
       "       [ 1.12958897,  1.36634754],\n",
       "       [-0.91683853, -0.39562866],\n",
       "       [ 0.19332141,  0.60337981],\n",
       "       [-0.03455335, -0.49655514],\n",
       "       [-0.19398811, -0.39562866],\n",
       "       [ 0.87924385,  0.33951754],\n",
       "       [-0.11344983, -0.84005312],\n",
       "       [ 1.06806314,  1.41407334],\n",
       "       [ 1.00584876,  0.60337981],\n",
       "       [-0.62629143, -0.2085903 ],\n",
       "       [ 0.81479315,  0.72581897],\n",
       "       [ 1.12958897,  0.04312953],\n",
       "       [-0.62629143, -0.29986145],\n",
       "       [-0.27629162,  0.19607812],\n",
       "       [ 1.1904517 ,  1.41407334],\n",
       "       [ 0.74953316,  1.06349813],\n",
       "       [ 0.81479315,  1.26867686],\n",
       "       [-0.44677519, -0.39562866],\n",
       "       [ 1.3692931 ,  0.84294347],\n",
       "       [ 1.25067523,  1.16782711],\n",
       "       [-1.6242611 , -1.28449532],\n",
       "       [ 0.47963729,  0.89970038],\n",
       "       [ 2.19433033,  1.89813923],\n",
       "       [ 1.1904517 ,  1.41407334],\n",
       "       [ 0.40973026,  0.84294347],\n",
       "       [ 0.11873986,  0.40814245],\n",
       "       [-1.12908354, -1.70716059],\n",
       "       [ 0.33874878,  0.47490923],\n",
       "       [ 1.8221169 ,  1.50745235],\n",
       "       [ 1.25067523,  1.26867686],\n",
       "       [ 0.54852367, -0.03749559],\n",
       "       [-0.81672914, -1.11979784],\n",
       "       [-0.53530047, -0.29986145],\n",
       "       [ 0.19332141,  0.04312953],\n",
       "       [ 0.68342795,  1.00992197],\n",
       "       [-0.03455335,  0.19607812],\n",
       "       [ 1.48560705,  1.50745235],\n",
       "       [-0.44677519, -0.39562866],\n",
       "       [-0.91683853, -1.70716059],\n",
       "       [ 1.00584876,  1.00992197],\n",
       "       [ 0.87924385,  1.06349813],\n",
       "       [-0.62629143, -0.60348074],\n",
       "       [ 0.19332141,  0.40814245],\n",
       "       [-0.72000082, -0.71749486],\n",
       "       [ 0.68342795,  0.78500622],\n",
       "       [ 0.47963729,  0.33951754],\n",
       "       [ 0.54852367,  0.78500622],\n",
       "       [-1.6242611 , -1.70716059],\n",
       "       [-1.36187943, -1.28449532],\n",
       "       [ 1.1904517 ,  1.41407334],\n",
       "       [-0.81672914, -0.60348074],\n",
       "       [-1.12908354, -1.28449532],\n",
       "       [ 0.47963729,  0.60337981],\n",
       "       [-1.12908354, -0.97317433],\n",
       "       [ 1.54294647,  1.68663008],\n",
       "       [ 0.47963729,  0.47490923],\n",
       "       [-0.44677519, -0.49655514],\n",
       "       [ 0.61643875,  0.84294347],\n",
       "       [ 0.61643875,  0.04312953],\n",
       "       [ 1.1904517 ,  1.31789249],\n",
       "       [ 0.87924385,  0.26888583],\n",
       "       [ 1.31028198,  0.33951754],\n",
       "       [ 0.68342795,  0.33951754],\n",
       "       [ 0.87924385,  1.00992197],\n",
       "       [ 0.74953316,  0.33951754],\n",
       "       [ 1.42772852,  0.72581897],\n",
       "       [ 0.33874878,  0.04312953],\n",
       "       [-1.12908354, -1.11979784]])"
      ]
     },
     "execution_count": 58,
     "metadata": {},
     "output_type": "execute_result"
    }
   ],
   "source": [
    "x"
   ]
  },
  {
   "cell_type": "markdown",
   "id": "27aaa81d",
   "metadata": {},
   "source": [
    "# applying standard scaler"
   ]
  },
  {
   "cell_type": "code",
   "execution_count": 59,
   "id": "f7d974bd",
   "metadata": {},
   "outputs": [
    {
     "data": {
      "text/plain": [
       "array([[-0.38874013,  0.92134744],\n",
       "       [-0.27479699,  0.96150227],\n",
       "       [-0.78436958, -0.62029377],\n",
       "       [ 0.73838312,  0.67438147],\n",
       "       [ 0.6448147 ,  0.76433893],\n",
       "       [-0.85110735, -0.52499169],\n",
       "       [ 0.74964456,  0.66184064],\n",
       "       [ 0.6789358 ,  0.73419764],\n",
       "       [ 0.10431931,  0.99454386],\n",
       "       [-0.58507975,  0.81097576],\n",
       "       [-0.76639638, -0.64236796],\n",
       "       [-0.64422588, -0.76483528],\n",
       "       [-0.77940471, -0.62652078],\n",
       "       [-0.69142455, -0.72244867],\n",
       "       [-0.12745756,  0.99184403],\n",
       "       [-0.48895665, -0.87230808],\n",
       "       [-0.26781245,  0.96347106],\n",
       "       [ 0.69877728,  0.71533929],\n",
       "       [ 0.88205046,  0.47115495],\n",
       "       [ 0.68836673,  0.72536284],\n",
       "       [ 0.69057651,  0.72325934],\n",
       "       [ 0.70861951,  0.70559081],\n",
       "       [ 0.68244389,  0.73093798],\n",
       "       [ 0.61763567,  0.78646435],\n",
       "       [-0.72009884, -0.69387151],\n",
       "       [ 0.07076183, -0.99749324],\n",
       "       [ 0.85754161,  0.5144146 ],\n",
       "       [-0.75709133, -0.65330905],\n",
       "       [-0.37448603, -0.92723255],\n",
       "       [-0.76639638, -0.64236796],\n",
       "       [-0.03084209, -0.99952427],\n",
       "       [-0.64422588, -0.76483528],\n",
       "       [-0.78359437, -0.62127277],\n",
       "       [-0.74028293, -0.67229546],\n",
       "       [-0.74028293, -0.67229546],\n",
       "       [-0.5928065 , -0.80534492],\n",
       "       [ 0.24255975,  0.97013647],\n",
       "       [-0.74282782, -0.66948251],\n",
       "       [ 0.78977343,  0.61339867],\n",
       "       [-0.89924784, -0.4374395 ],\n",
       "       [ 0.1299462 , -0.99152105],\n",
       "       [ 0.30511913,  0.95231419],\n",
       "       [ 0.84099761,  0.54103884],\n",
       "       [-0.3169249 ,  0.94845063],\n",
       "       [ 0.99199203,  0.12630052],\n",
       "       [ 0.8243703 ,  0.56605088],\n",
       "       [ 0.49480968,  0.86900137],\n",
       "       [ 0.42291956,  0.90616723],\n",
       "       [-0.77940471, -0.62652078],\n",
       "       [ 0.52055615,  0.85382744],\n",
       "       [-0.92314014, -0.38446364],\n",
       "       [-0.5365589 , -0.84386287],\n",
       "       [-0.58749946, -0.80922455],\n",
       "       [-0.92314014, -0.38446364],\n",
       "       [-0.48195649, -0.87619515],\n",
       "       [ 0.37702903,  0.92620144],\n",
       "       [-0.86081678, -0.50891499],\n",
       "       [-0.87931837, -0.47623441],\n",
       "       [-0.66020851, -0.75108237],\n",
       "       [-0.86081678, -0.50891499],\n",
       "       [-0.76850868, -0.63983936],\n",
       "       [ 0.63718374,  0.77071193],\n",
       "       [-0.93872983, -0.3446539 ],\n",
       "       [-0.78436958, -0.62029377],\n",
       "       [-0.86081678, -0.50891499],\n",
       "       [ 0.49471047, -0.86905785],\n",
       "       [ 0.68714109,  0.726524  ],\n",
       "       [-0.81550686,  0.5787474 ],\n",
       "       [ 0.38425829,  0.92322563],\n",
       "       [-0.18410339, -0.98290688],\n",
       "       [ 0.6789358 ,  0.73419764],\n",
       "       [ 0.87593001,  0.48243821],\n",
       "       [ 0.63655179,  0.77123396],\n",
       "       [ 0.67267049,  0.73994217],\n",
       "       [-0.66020851, -0.75108237],\n",
       "       [-0.21028773, -0.97763954],\n",
       "       [ 0.76999685,  0.63804768],\n",
       "       [-0.72010577, -0.69386431],\n",
       "       [-0.67834965, -0.73473924],\n",
       "       [ 0.85536815,  0.51802059],\n",
       "       [-0.9161293 ,  0.4008829 ],\n",
       "       [ 0.27934582,  0.96019056],\n",
       "       [-0.67834965, -0.73473924],\n",
       "       [-0.71664613,  0.69743697],\n",
       "       [-0.9964968 , -0.08363095],\n",
       "       [ 0.63717212,  0.77072154],\n",
       "       [-0.79533167, -0.60617451],\n",
       "       [ 0.42291956,  0.90616723],\n",
       "       [-0.81811803, -0.57505034],\n",
       "       [-0.68572543, -0.72786032],\n",
       "       [-0.7875179 , -0.61629178],\n",
       "       [-0.7875179 , -0.61629178],\n",
       "       [ 0.64402594,  0.76500366],\n",
       "       [ 0.10431931,  0.99454386],\n",
       "       [-0.62621605, -0.77964957],\n",
       "       [-0.79809425, -0.60253263],\n",
       "       [-0.65760225, -0.75336531],\n",
       "       [ 0.99849836, -0.05478161],\n",
       "       [ 0.86754551,  0.49735781],\n",
       "       [ 0.89142162,  0.4531749 ],\n",
       "       [ 0.67267049,  0.73994217],\n",
       "       [-0.34736993, -0.93772817],\n",
       "       [-0.67766606, -0.73536977],\n",
       "       [-0.44025327, -0.89787363],\n",
       "       [ 0.64007495,  0.76831247],\n",
       "       [-0.80426492, -0.59427093],\n",
       "       [-0.83529261, -0.54980565],\n",
       "       [-0.59501463, -0.80371487],\n",
       "       [ 0.77643465,  0.63019778],\n",
       "       [-0.27479699,  0.96150227],\n",
       "       [-0.68427978,  0.72921957],\n",
       "       [-0.72010577, -0.69386431],\n",
       "       [ 0.63717212,  0.77072154],\n",
       "       [-0.33541692, -0.94206979],\n",
       "       [ 0.08589679, -0.99630404],\n",
       "       [ 0.58182537,  0.81331374],\n",
       "       [ 0.68836673,  0.72536284],\n",
       "       [-0.68929767, -0.72447824],\n",
       "       [-0.75709133, -0.65330905],\n",
       "       [-0.99755578, -0.06987466],\n",
       "       [ 0.58962422,  0.8076777 ],\n",
       "       [ 0.44277009,  0.89663518],\n",
       "       [ 0.53144268,  0.84709426],\n",
       "       [ 0.44277009,  0.89663518],\n",
       "       [ 0.74026878,  0.67231104],\n",
       "       [ 0.57277486,  0.81971273],\n",
       "       [-0.69142455, -0.72244867],\n",
       "       [ 0.62791118,  0.77828501],\n",
       "       [-0.74028293, -0.67229546],\n",
       "       [-0.85446996, -0.51950081],\n",
       "       [-0.83529261, -0.54980565],\n",
       "       [-0.72010577, -0.69386431],\n",
       "       [ 0.81091922,  0.58515811],\n",
       "       [-0.12745756,  0.99184403],\n",
       "       [-0.99463448, -0.10345173],\n",
       "       [-0.99091665, -0.13447748],\n",
       "       [-0.7875179 , -0.61629178],\n",
       "       [ 0.15723479,  0.98756125],\n",
       "       [-0.66358314, -0.74810254],\n",
       "       [-0.74866013, -0.662954  ],\n",
       "       [-0.35386139, -0.93529788],\n",
       "       [-0.80961147, -0.58696616],\n",
       "       [ 0.4945488 ,  0.86914986],\n",
       "       [ 0.52055615,  0.85382744],\n",
       "       [-0.82330333, -0.56760165],\n",
       "       [ 0.4945488 ,  0.86914986],\n",
       "       [ 0.80577137,  0.59222673],\n",
       "       [-0.78436958, -0.62029377],\n",
       "       [-0.93175874, -0.36307801],\n",
       "       [-0.82330333, -0.56760165],\n",
       "       [ 0.08589679, -0.99630404],\n",
       "       [-0.87640694, -0.48157126],\n",
       "       [-0.62621605, -0.77964957],\n",
       "       [ 0.08978101,  0.99596153],\n",
       "       [-0.93680505,  0.34985183],\n",
       "       [-0.72420259, -0.68958728],\n",
       "       [-0.85110735, -0.52499169],\n",
       "       [-0.96528142,  0.26121214],\n",
       "       [-0.79533167, -0.60617451],\n",
       "       [ 0.76999685,  0.63804768],\n",
       "       [ 0.16327156, -0.98658117],\n",
       "       [-0.80961147, -0.58696616],\n",
       "       [-0.72420259, -0.68958728],\n",
       "       [ 0.07076183, -0.99749324],\n",
       "       [-0.94810278,  0.31796402],\n",
       "       [-0.49609669,  0.86826728],\n",
       "       [-0.80229961, -0.59692155],\n",
       "       [ 0.78324657,  0.62171119],\n",
       "       [-0.83699677, -0.54720783],\n",
       "       [-0.3169249 ,  0.94845063],\n",
       "       [ 0.86165374,  0.50749663],\n",
       "       [-0.08435825,  0.99643549],\n",
       "       [-0.31243309, -0.94993977],\n",
       "       [ 0.60292203,  0.79780012],\n",
       "       [-0.7875179 , -0.61629178],\n",
       "       [-0.78359437, -0.62127277],\n",
       "       [ 0.99695828, -0.07793709],\n",
       "       [-0.80961147, -0.58696616],\n",
       "       [-0.93872983, -0.3446539 ],\n",
       "       [-0.1954894 , -0.98070581],\n",
       "       [-0.88193003, -0.47138034],\n",
       "       [ 0.60449275,  0.79661064],\n",
       "       [ 0.30511913,  0.95231419],\n",
       "       [ 0.65662547,  0.75421681],\n",
       "       [-0.84544247, -0.5340665 ],\n",
       "       [-0.44025327, -0.89787363],\n",
       "       [ 0.52055615,  0.85382744],\n",
       "       [ 0.70630487,  0.70790778],\n",
       "       [ 0.23257027, -0.9725796 ],\n",
       "       [ 0.93984855,  0.34159143],\n",
       "       [-0.38874013,  0.92134744],\n",
       "       [-0.3169249 ,  0.94845063],\n",
       "       [ 0.65134841,  0.75877878],\n",
       "       [-0.81811803, -0.57505034],\n",
       "       [-0.82330333, -0.56760165],\n",
       "       [-0.82330333, -0.56760165],\n",
       "       [ 0.62820554,  0.77804743],\n",
       "       [ 0.91070193,  0.41306416],\n",
       "       [-0.82330333, -0.56760165],\n",
       "       [ 0.65602299,  0.7547409 ],\n",
       "       [ 0.94164573,  0.33660558],\n",
       "       [-0.81550686,  0.5787474 ],\n",
       "       [-0.11579292, -0.99327338],\n",
       "       [ 0.02901025, -0.99957911],\n",
       "       [ 0.65260504,  0.75769826],\n",
       "       [-0.58507975,  0.81097576],\n",
       "       [-0.64422588, -0.76483528],\n",
       "       [-0.08435825,  0.99643549],\n",
       "       [-0.78436958, -0.62029377],\n",
       "       [ 0.65028304,  0.75969202],\n",
       "       [-0.52858668, -0.84887933],\n",
       "       [ 0.76999685,  0.63804768],\n",
       "       [-0.43156775, -0.90208053],\n",
       "       [-0.76880375, -0.63948479],\n",
       "       [-0.83032105, -0.55728535],\n",
       "       [ 0.75223463,  0.65889533],\n",
       "       [-0.59798148, -0.80150992],\n",
       "       [-0.90194873, -0.43184313],\n",
       "       [ 0.08978101,  0.99596153],\n",
       "       [ 0.43903224, -0.89847131],\n",
       "       [-0.59770805, -0.80171384],\n",
       "       [ 0.91771734,  0.39723404],\n",
       "       [ 0.68426752,  0.72923107],\n",
       "       [-0.08435825,  0.99643549],\n",
       "       [-0.72010577, -0.69386431],\n",
       "       [-0.81811803, -0.57505034],\n",
       "       [-0.76880375, -0.63948479],\n",
       "       [ 0.66250381,  0.74905855],\n",
       "       [ 0.59029222,  0.80718963],\n",
       "       [ 0.5243868 ,  0.85148017],\n",
       "       [ 0.96165433,  0.27426439],\n",
       "       [ 0.95300843,  0.30294378],\n",
       "       [-0.66020851, -0.75108237],\n",
       "       [ 0.94164573,  0.33660558],\n",
       "       [ 0.42291956,  0.90616723],\n",
       "       [-0.82842152, -0.56010516],\n",
       "       [ 0.73951094,  0.67314454],\n",
       "       [-0.1338358 , -0.99100352],\n",
       "       [-0.75709133, -0.65330905],\n",
       "       [ 0.59596806,  0.80300814],\n",
       "       [ 0.65690847,  0.75397033],\n",
       "       [ 0.30511913,  0.95231419],\n",
       "       [-0.18478591,  0.9827788 ],\n",
       "       [-0.677613  , -0.73541867],\n",
       "       [ 0.74964456,  0.66184064],\n",
       "       [ 0.15723479,  0.98756125],\n",
       "       [ 0.67267049,  0.73994217],\n",
       "       [ 0.65167042, -0.75850225],\n",
       "       [ 0.65028304,  0.75969202],\n",
       "       [-0.05716313, -0.99836485],\n",
       "       [ 0.96338964, -0.26810519],\n",
       "       [-0.74028293, -0.67229546],\n",
       "       [ 0.60734609, -0.79443737],\n",
       "       [-0.76639638, -0.64236796],\n",
       "       [ 0.21477723,  0.97666306],\n",
       "       [ 0.74964456,  0.66184064],\n",
       "       [-0.62215569, -0.78289354],\n",
       "       [ 0.62791118,  0.77828501],\n",
       "       [ 0.76086121,  0.64891465],\n",
       "       [ 0.6789358 ,  0.73419764],\n",
       "       [ 0.69057651,  0.72325934],\n",
       "       [ 0.57608213,  0.81739181],\n",
       "       [ 0.66498061,  0.74686062],\n",
       "       [ 0.72660698,  0.68705334],\n",
       "       [ 0.67074737,  0.7416859 ],\n",
       "       [-0.8041964 , -0.59436365],\n",
       "       [ 0.71234362,  0.70183087],\n",
       "       [-0.65760225, -0.75336531],\n",
       "       [ 0.68764711,  0.72604507],\n",
       "       [ 0.98272391,  0.18507758],\n",
       "       [-0.68929767, -0.72447824],\n",
       "       [-0.7100204 , -0.70418111],\n",
       "       [-0.66020851, -0.75108237],\n",
       "       [-0.65076808, -0.75927657],\n",
       "       [ 0.73013384,  0.68330416],\n",
       "       [ 0.66448768,  0.74729922],\n",
       "       [ 0.70412723,  0.71007383],\n",
       "       [ 0.68264368,  0.7307514 ],\n",
       "       [ 0.66250381,  0.74905855],\n",
       "       [ 0.80144446,  0.5980692 ],\n",
       "       [ 0.69823061,  0.71587291],\n",
       "       [ 0.69767663,  0.71641282],\n",
       "       [-0.80229961, -0.59692155],\n",
       "       [ 0.69251269,  0.72140569],\n",
       "       [ 0.54541496,  0.83816616],\n",
       "       [-0.69142455, -0.72244867],\n",
       "       [ 0.59029222,  0.80718963],\n",
       "       [-0.75746754, -0.65287283],\n",
       "       [ 0.77477136, -0.63224152],\n",
       "       [ 0.67126593,  0.7412166 ],\n",
       "       [ 0.92942561, -0.36900952],\n",
       "       [-0.43156775, -0.90208053],\n",
       "       [-0.15617904, -0.98772876],\n",
       "       [ 0.70505623,  0.7091514 ],\n",
       "       [-0.58507975,  0.81097576],\n",
       "       [-0.677613  , -0.73541867],\n",
       "       [ 0.74272226,  0.66959962],\n",
       "       [ 0.73838312,  0.67438147],\n",
       "       [ 0.68836673,  0.72536284],\n",
       "       [ 0.96966913,  0.24442133],\n",
       "       [ 0.97641767, -0.21589011],\n",
       "       [-0.43128827, -0.90221418],\n",
       "       [ 0.70061386,  0.71354062],\n",
       "       [ 0.63718374,  0.77071193],\n",
       "       [-0.74282782, -0.66948251],\n",
       "       [ 0.64007495,  0.76831247],\n",
       "       [-0.5928065 , -0.80534492],\n",
       "       [ 0.93991692,  0.34140325],\n",
       "       [-0.04810257, -0.9988424 ],\n",
       "       [-0.7331414 , -0.68007624],\n",
       "       [ 0.87593001,  0.48243821],\n",
       "       [ 0.62126456,  0.78360088],\n",
       "       [ 0.13995683, -0.99015761],\n",
       "       [-0.72747273, -0.68613659],\n",
       "       [-0.82321126, -0.56773517],\n",
       "       [ 0.69150928,  0.72236757],\n",
       "       [-0.94810278,  0.31796402],\n",
       "       [-0.99291931,  0.11879078],\n",
       "       [ 0.4041947 ,  0.91467297],\n",
       "       [-0.89924784, -0.4374395 ],\n",
       "       [-0.90194873, -0.43184313],\n",
       "       [ 0.98716883,  0.15968002],\n",
       "       [ 0.54061798,  0.84126821],\n",
       "       [-0.7100204 , -0.70418111],\n",
       "       [ 0.97600581,  0.21774448],\n",
       "       [ 0.63717212,  0.77072154],\n",
       "       [-0.91816397, -0.3962006 ],\n",
       "       [ 0.30511913,  0.95231419],\n",
       "       [-0.06941826, -0.99758764],\n",
       "       [-0.44025327, -0.89787363],\n",
       "       [ 0.932866  ,  0.36022359],\n",
       "       [-0.1338358 , -0.99100352],\n",
       "       [ 0.60270813,  0.79796172],\n",
       "       [ 0.85754161,  0.5144146 ],\n",
       "       [-0.94876213, -0.31599119],\n",
       "       [ 0.74669974,  0.66516126],\n",
       "       [ 0.99927188,  0.03815381],\n",
       "       [-0.90194873, -0.43184313],\n",
       "       [-0.81550686,  0.5787474 ],\n",
       "       [ 0.64402594,  0.76500366],\n",
       "       [ 0.57608213,  0.81739181],\n",
       "       [ 0.54038923,  0.84141517],\n",
       "       [-0.74866013, -0.662954  ],\n",
       "       [ 0.8515746 ,  0.52423345],\n",
       "       [ 0.73090068,  0.68248384],\n",
       "       [-0.78436958, -0.62029377],\n",
       "       [ 0.47043328,  0.88243556],\n",
       "       [ 0.75630518,  0.65421898],\n",
       "       [ 0.64402594,  0.76500366],\n",
       "       [ 0.43716343,  0.89938209],\n",
       "       [ 0.27934582,  0.96019056],\n",
       "       [-0.5516443 , -0.83407947],\n",
       "       [ 0.58070218,  0.81411607],\n",
       "       [ 0.7704995 ,  0.6374406 ],\n",
       "       [ 0.70203634,  0.71214112],\n",
       "       [ 0.9976718 , -0.06819813],\n",
       "       [-0.58927102, -0.80793544],\n",
       "       [-0.87244127, -0.48871898],\n",
       "       [ 0.97600581,  0.21774448],\n",
       "       [ 0.56044745,  0.82818999],\n",
       "       [-0.17354824,  0.98482537],\n",
       "       [ 0.70192716,  0.71224874],\n",
       "       [-0.74866013, -0.662954  ],\n",
       "       [-0.47313868, -0.88098796],\n",
       "       [ 0.70567651,  0.70853416],\n",
       "       [ 0.63718374,  0.77071193],\n",
       "       [-0.72009884, -0.69387151],\n",
       "       [ 0.42806966,  0.90374574],\n",
       "       [-0.70833839, -0.70587303],\n",
       "       [ 0.65662385,  0.75421822],\n",
       "       [ 0.81620547,  0.57776174],\n",
       "       [ 0.57277486,  0.81971273],\n",
       "       [-0.68929767, -0.72447824],\n",
       "       [-0.72747273, -0.68613659],\n",
       "       [ 0.64402594,  0.76500366],\n",
       "       [-0.80426492, -0.59427093],\n",
       "       [-0.66020851, -0.75108237],\n",
       "       [ 0.62226615,  0.78280575],\n",
       "       [-0.75746754, -0.65287283],\n",
       "       [ 0.67497997,  0.73783605],\n",
       "       [ 0.71060051,  0.70359571],\n",
       "       [-0.6688618 , -0.74338677],\n",
       "       [ 0.59029222,  0.80718963],\n",
       "       [ 0.99756135,  0.06979501],\n",
       "       [ 0.6703164 ,  0.74207542],\n",
       "       [ 0.95628225,  0.29244532],\n",
       "       [ 0.96803013,  0.25083396],\n",
       "       [ 0.89557552,  0.44490952],\n",
       "       [ 0.65662547,  0.75421681],\n",
       "       [ 0.91090563,  0.41261476],\n",
       "       [ 0.89142162,  0.4531749 ],\n",
       "       [ 0.99199203,  0.12630052],\n",
       "       [-0.7100204 , -0.70418111]])"
      ]
     },
     "execution_count": 59,
     "metadata": {},
     "output_type": "execute_result"
    }
   ],
   "source": [
    "from sklearn.preprocessing import StandardScaler\n",
    "from sklearn.preprocessing import normalize\n",
    "#sc=StandardScaler()\n",
    "x_scaled=normalize(x, norm='l2',axis=1)\n",
    "\n",
    "x_scaled"
   ]
  },
  {
   "cell_type": "markdown",
   "id": "9ead0c09",
   "metadata": {},
   "source": [
    "# Since the salary is continuous data, we will use linear regression model"
   ]
  },
  {
   "cell_type": "code",
   "execution_count": 60,
   "id": "5f1e086d",
   "metadata": {},
   "outputs": [],
   "source": [
    "from sklearn.model_selection import train_test_split\n",
    "from sklearn.linear_model import LinearRegression\n",
    "from sklearn.tree import DecisionTreeRegressor\n",
    "from sklearn.ensemble import RandomForestRegressor\n",
    "from sklearn.neighbors import KNeighborsRegressor\n",
    "from sklearn.svm import SVR\n",
    "from sklearn.metrics import accuracy_score\n",
    "from sklearn.metrics import r2_score\n",
    "from sklearn.metrics import mean_squared_error\n",
    "from math import sqrt\n",
    "from sklearn.model_selection import cross_val_score\n",
    "from sklearn.model_selection import RandomizedSearchCV\n",
    "import pickle\n",
    "from sklearn.metrics import adjusted_rand_score"
   ]
  },
  {
   "cell_type": "code",
   "execution_count": 61,
   "id": "328ec461",
   "metadata": {},
   "outputs": [
    {
     "name": "stdout",
     "output_type": "stream",
     "text": [
      "(393, 2)\n"
     ]
    }
   ],
   "source": [
    "print(x_scaled.shape)"
   ]
  },
  {
   "cell_type": "code",
   "execution_count": 62,
   "id": "3ebd66d4",
   "metadata": {},
   "outputs": [
    {
     "data": {
      "text/plain": [
       "array([[-0.11344983,  0.26888583],\n",
       "       [-0.03455335,  0.1209006 ],\n",
       "       [-1.6242611 , -1.28449532],\n",
       "       [ 1.59976363,  1.46109915],\n",
       "       [ 1.31028198,  1.55315864],\n",
       "       [-1.36187943, -0.84005312],\n",
       "       [ 0.68342795,  0.60337981],\n",
       "       [ 1.59976363,  1.72997607],\n",
       "       [ 0.04281072,  0.40814245],\n",
       "       [-0.19398811,  0.26888583],\n",
       "       [-0.72000082, -0.60348074],\n",
       "       [-1.24247753, -1.47508922],\n",
       "       [-2.12374282, -1.70716059],\n",
       "       [-1.93539178, -2.02223253],\n",
       "       [-0.03455335,  0.26888583],\n",
       "       [-0.72000082, -1.28449532],\n",
       "       [-0.11344983,  0.40814245],\n",
       "       [ 1.1904517 ,  1.21866709],\n",
       "       [ 1.12958897,  0.60337981],\n",
       "       [ 1.25067523,  1.31789249],\n",
       "       [ 0.74953316,  0.78500622],\n",
       "       [ 1.06806314,  1.06349813],\n",
       "       [ 0.94291868,  1.00992197],\n",
       "       [ 0.26663401,  0.33951754],\n",
       "       [-0.62629143, -0.60348074],\n",
       "       [ 0.04281072, -0.60348074],\n",
       "       [ 1.00584876,  0.60337981],\n",
       "       [-1.48854554, -1.28449532],\n",
       "       [-0.81672914, -2.02223253],\n",
       "       [-0.72000082, -0.60348074],\n",
       "       [-0.03455335, -1.11979784],\n",
       "       [-1.24247753, -1.47508922],\n",
       "       [-0.62629143, -0.49655514],\n",
       "       [-1.6242611 , -1.47508922],\n",
       "       [-1.6242611 , -1.47508922],\n",
       "       [-1.48854554, -2.02223253],\n",
       "       [ 0.11873986,  0.47490923],\n",
       "       [-1.24247753, -1.11979784],\n",
       "       [ 1.3692931 ,  1.06349813],\n",
       "       [-1.02077234, -0.49655514],\n",
       "       [ 0.19332141, -1.47508922],\n",
       "       [ 0.19332141,  0.60337981],\n",
       "       [ 1.31028198,  0.84294347],\n",
       "       [-0.11344983,  0.33951754],\n",
       "       [ 0.33874878,  0.04312953],\n",
       "       [ 1.31028198,  0.89970038],\n",
       "       [ 0.19332141,  0.33951754],\n",
       "       [ 0.33874878,  0.72581897],\n",
       "       [-2.12374282, -1.70716059],\n",
       "       [ 0.54852367,  0.89970038],\n",
       "       [-0.72000082, -0.29986145],\n",
       "       [-0.81672914, -1.28449532],\n",
       "       [-0.36050053, -0.49655514],\n",
       "       [-0.72000082, -0.29986145],\n",
       "       [-0.53530047, -0.97317433],\n",
       "       [ 0.19332141,  0.47490923],\n",
       "       [-1.02077234, -0.60348074],\n",
       "       [-0.91683853, -0.49655514],\n",
       "       [-1.12908354, -1.28449532],\n",
       "       [-1.02077234, -0.60348074],\n",
       "       [-1.7717242 , -1.47508922],\n",
       "       [ 0.87924385,  1.06349813],\n",
       "       [-0.81672914, -0.29986145],\n",
       "       [-1.6242611 , -1.28449532],\n",
       "       [-1.02077234, -0.60348074],\n",
       "       [ 0.11873986, -0.2085903 ],\n",
       "       [ 1.00584876,  1.06349813],\n",
       "       [-0.27629162,  0.19607812],\n",
       "       [ 0.54852367,  1.31789249],\n",
       "       [-0.27629162, -1.47508922],\n",
       "       [ 1.59976363,  1.72997607],\n",
       "       [ 0.61643875,  0.33951754],\n",
       "       [ 1.00584876,  1.21866709],\n",
       "       [ 0.54852367,  0.60337981],\n",
       "       [-1.12908354, -1.28449532],\n",
       "       [-0.27629162, -1.28449532],\n",
       "       [ 0.40973026,  0.33951754],\n",
       "       [-1.7717242 , -1.70716059],\n",
       "       [-1.36187943, -1.47508922],\n",
       "       [ 1.48560705,  0.89970038],\n",
       "       [-0.27629162,  0.1209006 ],\n",
       "       [ 0.11873986,  0.40814245],\n",
       "       [-1.36187943, -1.47508922],\n",
       "       [-0.27629162,  0.26888583],\n",
       "       [-0.44677519, -0.03749559],\n",
       "       [ 1.12958897,  1.36634754],\n",
       "       [-1.93539178, -1.47508922],\n",
       "       [ 0.33874878,  0.72581897],\n",
       "       [-1.02077234, -0.71749486],\n",
       "       [-0.91683853, -0.97317433],\n",
       "       [-0.91683853, -0.71749486],\n",
       "       [-0.91683853, -0.71749486],\n",
       "       [ 1.1904517 ,  1.41407334],\n",
       "       [ 0.04281072,  0.40814245],\n",
       "       [-1.6242611 , -2.02223253],\n",
       "       [-0.27629162, -0.2085903 ],\n",
       "       [-0.62629143, -0.71749486],\n",
       "       [ 0.68342795, -0.03749559],\n",
       "       [ 1.3692931 ,  0.78500622],\n",
       "       [ 1.42772852,  0.72581897],\n",
       "       [ 0.54852367,  0.60337981],\n",
       "       [-0.36050053, -0.97317433],\n",
       "       [-0.03455335, -0.03749559],\n",
       "       [-0.19398811, -0.39562866],\n",
       "       [ 0.74953316,  0.89970038],\n",
       "       [-0.81672914, -0.60348074],\n",
       "       [-0.91683853, -0.60348074],\n",
       "       [-0.44677519, -0.60348074],\n",
       "       [ 1.31028198,  1.06349813],\n",
       "       [-0.03455335,  0.1209006 ],\n",
       "       [-0.11344983,  0.1209006 ],\n",
       "       [-1.7717242 , -1.70716059],\n",
       "       [ 1.12958897,  1.36634754],\n",
       "       [-0.72000082, -2.02223253],\n",
       "       [ 0.04281072, -0.49655514],\n",
       "       [ 0.68342795,  0.9553405 ],\n",
       "       [ 1.25067523,  1.31789249],\n",
       "       [-1.6242611 , -1.70716059],\n",
       "       [-1.48854554, -1.28449532],\n",
       "       [-0.53530047, -0.03749559],\n",
       "       [ 0.81479315,  1.11611808],\n",
       "       [ 0.26663401,  0.53994937],\n",
       "       [ 0.33874878,  0.53994937],\n",
       "       [ 0.26663401,  0.53994937],\n",
       "       [ 2.09000468,  1.89813923],\n",
       "       [ 0.54852367,  0.78500622],\n",
       "       [-1.93539178, -2.02223253],\n",
       "       [ 0.81479315,  1.00992197],\n",
       "       [-1.6242611 , -1.47508922],\n",
       "       [-0.81672914, -0.49655514],\n",
       "       [-0.91683853, -0.60348074],\n",
       "       [-1.7717242 , -1.70716059],\n",
       "       [ 1.00584876,  0.72581897],\n",
       "       [-0.03455335,  0.26888583],\n",
       "       [-0.36050053, -0.03749559],\n",
       "       [-0.27629162, -0.03749559],\n",
       "       [-0.91683853, -0.71749486],\n",
       "       [ 0.04281072,  0.26888583],\n",
       "       [-0.53530047, -0.60348074],\n",
       "       [-0.44677519, -0.39562866],\n",
       "       [-0.11344983, -0.29986145],\n",
       "       [-1.7717242 , -1.28449532],\n",
       "       [ 0.47963729,  0.84294347],\n",
       "       [ 0.54852367,  0.89970038],\n",
       "       [-1.6242611 , -1.11979784],\n",
       "       [ 0.47963729,  0.84294347],\n",
       "       [ 1.06806314,  0.78500622],\n",
       "       [-1.6242611 , -1.28449532],\n",
       "       [-0.53530047, -0.2085903 ],\n",
       "       [-1.6242611 , -1.11979784],\n",
       "       [ 0.04281072, -0.49655514],\n",
       "       [-0.72000082, -0.39562866],\n",
       "       [-1.6242611 , -2.02223253],\n",
       "       [ 0.04281072,  0.47490923],\n",
       "       [-0.72000082,  0.26888583],\n",
       "       [-2.12374282, -2.02223253],\n",
       "       [-1.36187943, -0.84005312],\n",
       "       [-0.44677519,  0.1209006 ],\n",
       "       [-1.93539178, -1.47508922],\n",
       "       [ 0.40973026,  0.33951754],\n",
       "       [ 0.11873986, -0.71749486],\n",
       "       [-1.7717242 , -1.28449532],\n",
       "       [-2.12374282, -2.02223253],\n",
       "       [ 0.04281072, -0.60348074],\n",
       "       [-0.36050053,  0.1209006 ],\n",
       "       [-0.19398811,  0.33951754],\n",
       "       [-1.12908354, -0.84005312],\n",
       "       [ 0.33874878,  0.26888583],\n",
       "       [-1.48854554, -0.97317433],\n",
       "       [-0.11344983,  0.33951754],\n",
       "       [ 1.12958897,  0.66530506],\n",
       "       [-0.03455335,  0.40814245],\n",
       "       [-0.27629162, -0.84005312],\n",
       "       [ 0.54852367,  0.72581897],\n",
       "       [-0.91683853, -0.71749486],\n",
       "       [-0.62629143, -0.49655514],\n",
       "       [ 0.47963729, -0.03749559],\n",
       "       [-1.7717242 , -1.28449532],\n",
       "       [-0.81672914, -0.29986145],\n",
       "       [-0.19398811, -0.97317433],\n",
       "       [-1.12908354, -0.60348074],\n",
       "       [ 0.40973026,  0.53994937],\n",
       "       [ 0.19332141,  0.60337981],\n",
       "       [ 0.87924385,  1.00992197],\n",
       "       [-0.62629143, -0.39562866],\n",
       "       [-0.19398811, -0.39562866],\n",
       "       [ 0.54852367,  0.89970038],\n",
       "       [ 0.33874878,  0.33951754],\n",
       "       [ 0.11873986, -0.49655514],\n",
       "       [ 1.48560705,  0.53994937],\n",
       "       [-0.11344983,  0.26888583],\n",
       "       [-0.11344983,  0.33951754],\n",
       "       [ 1.76723708,  2.05871693],\n",
       "       [-1.02077234, -0.71749486],\n",
       "       [-1.6242611 , -1.11979784],\n",
       "       [-1.6242611 , -1.11979784],\n",
       "       [ 0.94291868,  1.16782711],\n",
       "       [ 1.1904517 ,  0.53994937],\n",
       "       [-1.6242611 , -1.11979784],\n",
       "       [ 1.31028198,  1.50745235],\n",
       "       [ 0.54852367,  0.19607812],\n",
       "       [-0.27629162,  0.19607812],\n",
       "       [-0.11344983, -0.97317433],\n",
       "       [ 0.04281072, -1.47508922],\n",
       "       [ 1.00584876,  1.16782711],\n",
       "       [-0.19398811,  0.26888583],\n",
       "       [-1.24247753, -1.47508922],\n",
       "       [-0.03455335,  0.40814245],\n",
       "       [-1.6242611 , -1.28449532],\n",
       "       [ 1.25067523,  1.46109915],\n",
       "       [-0.44677519, -0.71749486],\n",
       "       [ 0.40973026,  0.33951754],\n",
       "       [-0.81672914, -1.70716059],\n",
       "       [-0.36050053, -0.29986145],\n",
       "       [-0.44677519, -0.29986145],\n",
       "       [ 0.61643875,  0.53994937],\n",
       "       [-0.53530047, -0.71749486],\n",
       "       [-0.62629143, -0.29986145],\n",
       "       [ 0.04281072,  0.47490923],\n",
       "       [ 0.19332141, -0.39562866],\n",
       "       [-0.62629143, -0.84005312],\n",
       "       [ 0.94291868,  0.40814245],\n",
       "       [ 1.1904517 ,  1.26867686],\n",
       "       [-0.03455335,  0.40814245],\n",
       "       [-1.7717242 , -1.70716059],\n",
       "       [-1.02077234, -0.71749486],\n",
       "       [-0.36050053, -0.29986145],\n",
       "       [ 1.25067523,  1.41407334],\n",
       "       [ 0.61643875,  0.84294347],\n",
       "       [ 0.40973026,  0.66530506],\n",
       "       [ 1.1904517 ,  0.33951754],\n",
       "       [ 1.06806314,  0.33951754],\n",
       "       [-1.12908354, -1.28449532],\n",
       "       [ 0.54852367,  0.19607812],\n",
       "       [ 0.33874878,  0.72581897],\n",
       "       [-1.24247753, -0.84005312],\n",
       "       [ 1.65607448,  1.50745235],\n",
       "       [-0.11344983, -0.84005312],\n",
       "       [-1.48854554, -1.28449532],\n",
       "       [ 0.74953316,  1.00992197],\n",
       "       [ 1.1904517 ,  1.36634754],\n",
       "       [ 0.19332141,  0.60337981],\n",
       "       [-0.11344983,  0.60337981],\n",
       "       [-0.27629162, -0.29986145],\n",
       "       [ 0.68342795,  0.60337981],\n",
       "       [ 0.04281072,  0.26888583],\n",
       "       [ 0.54852367,  0.60337981],\n",
       "       [ 0.61643875, -0.71749486],\n",
       "       [ 1.25067523,  1.46109915],\n",
       "       [-0.03455335, -0.60348074],\n",
       "       [ 0.74953316, -0.2085903 ],\n",
       "       [-1.6242611 , -1.47508922],\n",
       "       [ 0.54852367, -0.71749486],\n",
       "       [-0.72000082, -0.60348074],\n",
       "       [ 0.11873986,  0.53994937],\n",
       "       [ 0.68342795,  0.60337981],\n",
       "       [-1.02077234, -1.28449532],\n",
       "       [ 0.81479315,  1.00992197],\n",
       "       [ 1.3692931 ,  1.16782711],\n",
       "       [ 1.59976363,  1.72997607],\n",
       "       [ 0.74953316,  0.78500622],\n",
       "       [ 0.74953316,  1.06349813],\n",
       "       [ 1.12958897,  1.26867686],\n",
       "       [ 1.06806314,  1.00992197],\n",
       "       [ 1.48560705,  1.64272548],\n",
       "       [-0.53530047, -0.39562866],\n",
       "       [ 1.71189417,  1.68663008],\n",
       "       [-0.62629143, -0.71749486],\n",
       "       [ 1.42772852,  1.50745235],\n",
       "       [ 1.42772852,  0.26888583],\n",
       "       [-1.6242611 , -1.70716059],\n",
       "       [-1.12908354, -1.11979784],\n",
       "       [-1.12908354, -1.28449532],\n",
       "       [-0.72000082, -0.84005312],\n",
       "       [ 1.98410497,  1.85684746],\n",
       "       [ 0.74953316,  0.84294347],\n",
       "       [ 0.26663401,  0.26888583],\n",
       "       [ 1.65607448,  1.77278246],\n",
       "       [ 1.25067523,  1.41407334],\n",
       "       [ 1.12958897,  0.84294347],\n",
       "       [ 1.93053872,  1.97931794],\n",
       "       [ 1.59976363,  1.64272548],\n",
       "       [-1.12908354, -0.84005312],\n",
       "       [ 1.8221169 ,  1.89813923],\n",
       "       [ 0.54852367,  0.84294347],\n",
       "       [-1.93539178, -2.02223253],\n",
       "       [ 0.61643875,  0.84294347],\n",
       "       [-1.12908354, -0.97317433],\n",
       "       [ 0.87924385, -0.71749486],\n",
       "       [ 0.81479315,  0.89970038],\n",
       "       [ 1.25067523, -0.49655514],\n",
       "       [-0.81672914, -1.70716059],\n",
       "       [-0.11344983, -0.71749486],\n",
       "       [ 1.31028198,  1.31789249],\n",
       "       [-0.19398811,  0.26888583],\n",
       "       [-0.27629162, -0.29986145],\n",
       "       [ 1.8221169 ,  1.64272548],\n",
       "       [ 1.59976363,  1.46109915],\n",
       "       [ 1.25067523,  1.31789249],\n",
       "       [ 0.47963729,  0.1209006 ],\n",
       "       [ 0.54852367, -0.12128092],\n",
       "       [-0.53530047, -1.11979784],\n",
       "       [ 1.65607448,  1.68663008],\n",
       "       [ 0.87924385,  1.06349813],\n",
       "       [-1.24247753, -1.11979784],\n",
       "       [ 0.74953316,  0.89970038],\n",
       "       [-1.48854554, -2.02223253],\n",
       "       [ 0.11873986,  0.04312953],\n",
       "       [-0.03455335, -0.71749486],\n",
       "       [-0.53530047, -0.49655514],\n",
       "       [ 0.61643875,  0.33951754],\n",
       "       [ 1.00584876,  1.26867686],\n",
       "       [ 0.11873986, -0.84005312],\n",
       "       [-1.36187943, -1.28449532],\n",
       "       [-0.72000082, -0.49655514],\n",
       "       [ 1.65607448,  1.72997607],\n",
       "       [-0.36050053,  0.1209006 ],\n",
       "       [-0.36050053,  0.04312953],\n",
       "       [ 0.26663401,  0.60337981],\n",
       "       [-1.02077234, -0.49655514],\n",
       "       [-0.62629143, -0.29986145],\n",
       "       [ 0.26663401,  0.04312953],\n",
       "       [ 0.68342795,  1.06349813],\n",
       "       [-1.12908354, -1.11979784],\n",
       "       [ 0.19332141,  0.04312953],\n",
       "       [ 1.12958897,  1.36634754],\n",
       "       [-0.91683853, -0.39562866],\n",
       "       [ 0.19332141,  0.60337981],\n",
       "       [-0.03455335, -0.49655514],\n",
       "       [-0.19398811, -0.39562866],\n",
       "       [ 0.87924385,  0.33951754],\n",
       "       [-0.11344983, -0.84005312],\n",
       "       [ 1.06806314,  1.41407334],\n",
       "       [ 1.00584876,  0.60337981],\n",
       "       [-0.62629143, -0.2085903 ],\n",
       "       [ 0.81479315,  0.72581897],\n",
       "       [ 1.12958897,  0.04312953],\n",
       "       [-0.62629143, -0.29986145],\n",
       "       [-0.27629162,  0.19607812],\n",
       "       [ 1.1904517 ,  1.41407334],\n",
       "       [ 0.74953316,  1.06349813],\n",
       "       [ 0.81479315,  1.26867686],\n",
       "       [-0.44677519, -0.39562866],\n",
       "       [ 1.3692931 ,  0.84294347],\n",
       "       [ 1.25067523,  1.16782711],\n",
       "       [-1.6242611 , -1.28449532],\n",
       "       [ 0.47963729,  0.89970038],\n",
       "       [ 2.19433033,  1.89813923],\n",
       "       [ 1.1904517 ,  1.41407334],\n",
       "       [ 0.40973026,  0.84294347],\n",
       "       [ 0.11873986,  0.40814245],\n",
       "       [-1.12908354, -1.70716059],\n",
       "       [ 0.33874878,  0.47490923],\n",
       "       [ 1.8221169 ,  1.50745235],\n",
       "       [ 1.25067523,  1.26867686],\n",
       "       [ 0.54852367, -0.03749559],\n",
       "       [-0.81672914, -1.11979784],\n",
       "       [-0.53530047, -0.29986145],\n",
       "       [ 0.19332141,  0.04312953],\n",
       "       [ 0.68342795,  1.00992197],\n",
       "       [-0.03455335,  0.19607812],\n",
       "       [ 1.48560705,  1.50745235],\n",
       "       [-0.44677519, -0.39562866],\n",
       "       [-0.91683853, -1.70716059],\n",
       "       [ 1.00584876,  1.00992197],\n",
       "       [ 0.87924385,  1.06349813],\n",
       "       [-0.62629143, -0.60348074],\n",
       "       [ 0.19332141,  0.40814245],\n",
       "       [-0.72000082, -0.71749486],\n",
       "       [ 0.68342795,  0.78500622],\n",
       "       [ 0.47963729,  0.33951754],\n",
       "       [ 0.54852367,  0.78500622],\n",
       "       [-1.6242611 , -1.70716059],\n",
       "       [-1.36187943, -1.28449532],\n",
       "       [ 1.1904517 ,  1.41407334],\n",
       "       [-0.81672914, -0.60348074],\n",
       "       [-1.12908354, -1.28449532],\n",
       "       [ 0.47963729,  0.60337981],\n",
       "       [-1.12908354, -0.97317433],\n",
       "       [ 1.54294647,  1.68663008],\n",
       "       [ 0.47963729,  0.47490923],\n",
       "       [-0.44677519, -0.49655514],\n",
       "       [ 0.61643875,  0.84294347],\n",
       "       [ 0.61643875,  0.04312953],\n",
       "       [ 1.1904517 ,  1.31789249],\n",
       "       [ 0.87924385,  0.26888583],\n",
       "       [ 1.31028198,  0.33951754],\n",
       "       [ 0.68342795,  0.33951754],\n",
       "       [ 0.87924385,  1.00992197],\n",
       "       [ 0.74953316,  0.33951754],\n",
       "       [ 1.42772852,  0.72581897],\n",
       "       [ 0.33874878,  0.04312953],\n",
       "       [-1.12908354, -1.11979784]])"
      ]
     },
     "execution_count": 62,
     "metadata": {},
     "output_type": "execute_result"
    }
   ],
   "source": [
    "x"
   ]
  },
  {
   "cell_type": "code",
   "execution_count": 63,
   "id": "b15abb27",
   "metadata": {},
   "outputs": [
    {
     "name": "stdout",
     "output_type": "stream",
     "text": [
      "(393,)\n"
     ]
    }
   ],
   "source": [
    "print(y.shape)"
   ]
  },
  {
   "cell_type": "code",
   "execution_count": 64,
   "id": "25c87a63",
   "metadata": {},
   "outputs": [],
   "source": [
    "x_train,x_test,y_train,y_test=train_test_split(x_scaled,y,random_state=45,test_size=0.25)"
   ]
  },
  {
   "cell_type": "code",
   "execution_count": 65,
   "id": "94a5114b",
   "metadata": {},
   "outputs": [
    {
     "data": {
      "text/plain": [
       "(294, 2)"
      ]
     },
     "execution_count": 65,
     "metadata": {},
     "output_type": "execute_result"
    }
   ],
   "source": [
    "x_train.shape"
   ]
  },
  {
   "cell_type": "code",
   "execution_count": 66,
   "id": "92ed782d",
   "metadata": {},
   "outputs": [
    {
     "data": {
      "text/plain": [
       "(99, 2)"
      ]
     },
     "execution_count": 66,
     "metadata": {},
     "output_type": "execute_result"
    }
   ],
   "source": [
    "x_test.shape"
   ]
  },
  {
   "cell_type": "code",
   "execution_count": 67,
   "id": "5db3b63d",
   "metadata": {},
   "outputs": [
    {
     "data": {
      "text/plain": [
       "(294,)"
      ]
     },
     "execution_count": 67,
     "metadata": {},
     "output_type": "execute_result"
    }
   ],
   "source": [
    "y_train.shape"
   ]
  },
  {
   "cell_type": "code",
   "execution_count": 68,
   "id": "dfc7b318",
   "metadata": {},
   "outputs": [
    {
     "data": {
      "text/plain": [
       "(99,)"
      ]
     },
     "execution_count": 68,
     "metadata": {},
     "output_type": "execute_result"
    }
   ],
   "source": [
    "y_test.shape"
   ]
  },
  {
   "cell_type": "markdown",
   "id": "16f75a34",
   "metadata": {},
   "source": [
    "# Linear Regression"
   ]
  },
  {
   "cell_type": "code",
   "execution_count": 69,
   "id": "61c97a10",
   "metadata": {},
   "outputs": [
    {
     "name": "stdout",
     "output_type": "stream",
     "text": [
      "Coefficients: \n",
      " [14847.31292128  6166.06293752]\n",
      "Mean squared error: 679717416.89\n",
      "Coefficient of determination/R-Square: 0.15\n"
     ]
    },
    {
     "data": {
      "image/png": "[encoded data removed]",
      "text/plain": [
       "<Figure size 432x288 with 1 Axes>"
      ]
     },
     "metadata": {
      "needs_background": "light"
     },
     "output_type": "display_data"
    }
   ],
   "source": [
    "# Linear Regression:\n",
    "lr=LinearRegression()\n",
    "\n",
    "# training\n",
    "lr.fit(x_train, y_train)\n",
    "\n",
    "# prediction\n",
    "y_pred_lr = lr.predict(x_test)\n",
    "\n",
    "# The coefficients\n",
    "print(\"Coefficients: \\n\", lr.coef_)\n",
    "\n",
    "# The mean squared error\n",
    "print(\"Mean squared error: %.2f\" % mean_squared_error(y_test, y_pred_lr))\n",
    "\n",
    "# The coefficient of determination: 1 is perfect prediction\n",
    "print(\"Coefficient of determination/R-Square: %.2f\" % r2_score(y_test, y_pred_lr))\n",
    "\n",
    "# Plot outputs\n",
    "# plt.scatter(x_test[:,1], y_test, color=\"black\")\n",
    "plt.scatter(y_test, y_pred_lr, color=\"blue\", linewidth=3, marker=\".\")\n",
    "\n",
    "plt.xlabel(\"y_test\")\n",
    "plt.ylabel(\"y_pred\")\n",
    "\n",
    "plt.show()"
   ]
  },
  {
   "cell_type": "code",
   "execution_count": 70,
   "id": "63d7bb3e",
   "metadata": {},
   "outputs": [
    {
     "name": "stdout",
     "output_type": "stream",
     "text": [
      "CV Scores:  [0.21446149 0.00333914 0.24305313 0.11488296 0.32458984]\n",
      "CV scores average:  0.18006531212590893\n"
     ]
    }
   ],
   "source": [
    "# Cross Valiodation\n",
    "from sklearn.model_selection import cross_val_score\n",
    "k = 5\n",
    "cv_result = cross_val_score(lr,x_train,y_train,cv=k) # uses R^2 as score \n",
    "print('CV Scores: ',cv_result)\n",
    "print('CV scores average: ',np.sum(cv_result)/k)"
   ]
  },
  {
   "cell_type": "markdown",
   "id": "fa3b4011",
   "metadata": {},
   "source": [
    "# Decision Tree Regression¶"
   ]
  },
  {
   "cell_type": "code",
   "execution_count": 71,
   "id": "02d1c81a",
   "metadata": {},
   "outputs": [
    {
     "name": "stdout",
     "output_type": "stream",
     "text": [
      "Mean squared error: 905528388.20\n",
      "Coefficient of determination/R-Square: -0.14\n"
     ]
    },
    {
     "data": {
      "image/png": "[encoded data removed]",
      "text/plain": [
       "<Figure size 432x288 with 1 Axes>"
      ]
     },
     "metadata": {
      "needs_background": "light"
     },
     "output_type": "display_data"
    }
   ],
   "source": [
    "# Decision tree regression\n",
    "dt=DecisionTreeRegressor()\n",
    "\n",
    "# training\n",
    "dt.fit(x_train, y_train)\n",
    "\n",
    "# prediction\n",
    "y_pred_dt = dt.predict(x_test)\n",
    "\n",
    "# The mean squared error\n",
    "print(\"Mean squared error: %.2f\" % mean_squared_error(y_test, y_pred_dt))\n",
    "\n",
    "# The coefficient of determination: 1 is perfect prediction\n",
    "print(\"Coefficient of determination/R-Square: %.2f\" % r2_score(y_test, y_pred_dt))\n",
    "\n",
    "# Plot outputs\n",
    "# plt.scatter(x_test[:,1], y_test, color=\"black\")\n",
    "plt.scatter(y_test, y_pred_dt, color=\"blue\", linewidth=3, marker=\".\")\n",
    "\n",
    "plt.xlabel(\"y_test\")\n",
    "plt.ylabel(\"y_pred\")\n",
    "\n",
    "plt.show()\n"
   ]
  },
  {
   "cell_type": "code",
   "execution_count": 72,
   "id": "0ac516ab",
   "metadata": {},
   "outputs": [
    {
     "name": "stdout",
     "output_type": "stream",
     "text": [
      "Tuned hyperparameter k: {'criterion': 'mse', 'min_samples_leaf': 9}\n",
      "Best score: 0.1412706474732966\n"
     ]
    }
   ],
   "source": [
    "# grid search cross validation with 1 hyperparameter\n",
    "from sklearn.model_selection import GridSearchCV\n",
    "grid = {'min_samples_leaf': np.arange(1,10),\"criterion\":[\"mse\",\"friedman_mse\",\"mae\"]}\n",
    "\n",
    "dt_cv = GridSearchCV(dt, grid, cv=5) # GridSearchCV\n",
    "dt_cv.fit(x_train,y_train) # Fit\n",
    "\n",
    "# Print hyperparameter\n",
    "print(\"Tuned hyperparameter k: {}\".format(dt_cv.best_params_)) \n",
    "print(\"Best score: {}\".format(dt_cv.best_score_))"
   ]
  },
  {
   "cell_type": "markdown",
   "id": "bbfdb7f5",
   "metadata": {},
   "source": [
    "# Random Forest Regression"
   ]
  },
  {
   "cell_type": "code",
   "execution_count": 73,
   "id": "bfe4e718",
   "metadata": {},
   "outputs": [
    {
     "name": "stdout",
     "output_type": "stream",
     "text": [
      "Mean squared error: 749498712.15\n",
      "Coefficient of determination/R-Square: 0.06\n"
     ]
    },
    {
     "data": {
      "image/png": "[encoded data removed]",
      "text/plain": [
       "<Figure size 432x288 with 1 Axes>"
      ]
     },
     "metadata": {
      "needs_background": "light"
     },
     "output_type": "display_data"
    }
   ],
   "source": [
    "# Random forest regression\n",
    "rf=RandomForestRegressor()\n",
    "\n",
    "# training\n",
    "rf.fit(x_train, y_train)\n",
    "\n",
    "# prediction\n",
    "y_pred_rf = rf.predict(x_test)\n",
    "\n",
    "# The mean squared error\n",
    "print(\"Mean squared error: %.2f\" % mean_squared_error(y_test, y_pred_rf))\n",
    "\n",
    "# The coefficient of determination: 1 is perfect prediction\n",
    "print(\"Coefficient of determination/R-Square: %.2f\" % r2_score(y_test, y_pred_rf))\n",
    "\n",
    "# Plot outputs\n",
    "# plt.scatter(x_test[:,1], y_test, color=\"black\")\n",
    "plt.scatter(y_test, y_pred_rf, color=\"blue\", linewidth=3, marker=\".\")\n",
    "\n",
    "plt.xlabel(\"y_test\")\n",
    "plt.ylabel(\"y_pred\")\n",
    "\n",
    "plt.show()"
   ]
  },
  {
   "cell_type": "code",
   "execution_count": 74,
   "id": "a03ec5ab",
   "metadata": {},
   "outputs": [
    {
     "name": "stdout",
     "output_type": "stream",
     "text": [
      "Tuned hyperparameter k: {'criterion': 'mse', 'min_samples_leaf': 9}\n",
      "Best score: 0.2547267048701323\n"
     ]
    }
   ],
   "source": [
    "# grid search cross validation with 1 hyperparameter\n",
    "grid = {'min_samples_leaf': np.arange(1,10),\"criterion\":[\"mse\",\"friedman_mse\",\"mae\"]}\n",
    "\n",
    "rf_cv = GridSearchCV(rf, grid, cv=5) # GridSearchCV\n",
    "rf_cv.fit(x_train,y_train) # Fit\n",
    "\n",
    "# Print hyperparameter\n",
    "print(\"Tuned hyperparameter k: {}\".format(rf_cv.best_params_)) \n",
    "print(\"Best score: {}\".format(rf_cv.best_score_))"
   ]
  },
  {
   "cell_type": "markdown",
   "id": "4a020c75",
   "metadata": {},
   "source": [
    "# Support Vector Regression¶"
   ]
  },
  {
   "cell_type": "code",
   "execution_count": 75,
   "id": "65016c52",
   "metadata": {},
   "outputs": [
    {
     "name": "stdout",
     "output_type": "stream",
     "text": [
      "Mean squared error: 839355228.89\n",
      "Coefficient of determination/R-Square: -0.05\n"
     ]
    },
    {
     "data": {
      "image/png": "[encoded data removed]",
      "text/plain": [
       "<Figure size 432x288 with 1 Axes>"
      ]
     },
     "metadata": {
      "needs_background": "light"
     },
     "output_type": "display_data"
    }
   ],
   "source": [
    "# SV regression\n",
    "svr = SVR()\n",
    "\n",
    "# training\n",
    "svr.fit(x_train, y_train)\n",
    "\n",
    "# prediction\n",
    "y_pred_svr = svr.predict(x_test)\n",
    "\n",
    "# The mean squared error\n",
    "print(\"Mean squared error: %.2f\" % mean_squared_error(y_test, y_pred_svr))\n",
    "\n",
    "# The coefficient of determination: 1 is perfect prediction\n",
    "print(\"Coefficient of determination/R-Square: %.2f\" % r2_score(y_test, y_pred_svr))\n",
    "\n",
    "# Plot outputs\n",
    "# plt.scatter(x_test[:,1], y_test, color=\"black\")\n",
    "plt.scatter(y_test, y_pred_svr, color=\"blue\", linewidth=3, marker=\".\")\n",
    "\n",
    "plt.xlabel(\"y_test\")\n",
    "plt.ylabel(\"y_pred\")\n",
    "\n",
    "plt.show()"
   ]
  },
  {
   "cell_type": "markdown",
   "id": "3936873b",
   "metadata": {},
   "source": [
    "# KNN Regression"
   ]
  },
  {
   "cell_type": "code",
   "execution_count": 76,
   "id": "06ed56f3",
   "metadata": {},
   "outputs": [
    {
     "name": "stdout",
     "output_type": "stream",
     "text": [
      "Mean squared error: 625665592.35\n",
      "Coefficient of determination/R-Square: 0.22\n"
     ]
    },
    {
     "data": {
      "image/png": "[encoded data removed]",
      "text/plain": [
       "<Figure size 432x288 with 1 Axes>"
      ]
     },
     "metadata": {
      "needs_background": "light"
     },
     "output_type": "display_data"
    }
   ],
   "source": [
    "# KNN regression\n",
    "knn = KNeighborsRegressor()\n",
    "\n",
    "# training\n",
    "knn.fit(x_train, y_train)\n",
    "\n",
    "# prediction\n",
    "y_pred_knn = knn.predict(x_test)\n",
    "\n",
    "# The mean squared error\n",
    "print(\"Mean squared error: %.2f\" % mean_squared_error(y_test, y_pred_knn))\n",
    "\n",
    "# The coefficient of determination: 1 is perfect prediction\n",
    "print(\"Coefficient of determination/R-Square: %.2f\" % r2_score(y_test, y_pred_knn))\n",
    "\n",
    "# Plot outputs\n",
    "# plt.scatter(x_test[:,1], y_test, color=\"black\")\n",
    "plt.scatter(y_test, y_pred_knn, color=\"blue\", linewidth=3, marker=\".\")\n",
    "\n",
    "plt.xlabel(\"y_test\")\n",
    "plt.ylabel(\"y_pred\")\n",
    "\n",
    "plt.show()"
   ]
  },
  {
   "cell_type": "code",
   "execution_count": 77,
   "id": "67aa85b6",
   "metadata": {},
   "outputs": [
    {
     "name": "stdout",
     "output_type": "stream",
     "text": [
      "CV Scores:  [ 0.20915613 -0.10564889  0.17974376  0.00786063  0.20098098]\n",
      "CV scores average:  0.09841852188186746\n"
     ]
    }
   ],
   "source": [
    "# Cross Valiodation\n",
    "k = 5\n",
    "knn_cv = cross_val_score(knn,x_train,y_train,cv=k) # uses R^2 as score \n",
    "print('CV Scores: ', knn_cv)\n",
    "print('CV scores average: ',np.sum(knn_cv)/k)"
   ]
  },
  {
   "cell_type": "markdown",
   "id": "fc26d925",
   "metadata": {},
   "source": [
    "# Evaluation metrics:"
   ]
  },
  {
   "cell_type": "code",
   "execution_count": 78,
   "id": "7ba8bd55",
   "metadata": {},
   "outputs": [
    {
     "name": "stdout",
     "output_type": "stream",
     "text": [
      "RMSE of Linear Regression is:  26071.390774083127\n",
      "RMSE of Support Vector Regression is:  28971.627998662138\n",
      "RMSE of Decision Tree Regressor is:  30091.998740507806\n",
      "RMSE of Random Forest Regressor is:  27376.974123423242\n",
      "RMSE of K Neighbors Regressor is:  25013.308304875376\n"
     ]
    }
   ],
   "source": [
    "sq_errorlr=mean_squared_error(y_test,y_pred_lr)\n",
    "sq_errorsvr=mean_squared_error(y_test,y_pred_svr)\n",
    "sq_errordtr=mean_squared_error(y_test,y_pred_dt)\n",
    "sq_errorrfr=mean_squared_error(y_test,y_pred_rf)\n",
    "sq_errorknr=mean_squared_error(y_test,y_pred_knn)\n",
    "\n",
    "rmse_lr=sqrt(sq_errorlr)                                #rmse=root mean squared error\n",
    "rmse_svr=sqrt(sq_errorsvr)\n",
    "rmse_dtr=sqrt(sq_errordtr)\n",
    "rmse_rfr=sqrt(sq_errorrfr)\n",
    "rmse_knr=sqrt(sq_errorknr)\n",
    "\n",
    "print(\"RMSE of Linear Regression is: \", rmse_lr)\n",
    "print(\"RMSE of Support Vector Regression is: \", rmse_svr)\n",
    "print(\"RMSE of Decision Tree Regressor is: \", rmse_dtr)\n",
    "print(\"RMSE of Random Forest Regressor is: \", rmse_rfr)\n",
    "print(\"RMSE of K Neighbors Regressor is: \", rmse_knr)"
   ]
  },
  {
   "cell_type": "markdown",
   "id": "e69c4528",
   "metadata": {},
   "source": [
    "KNeighbors regressoion has the lowest RMSE, followed by linear regression, Random forest regression,support vector regression, and \n",
    "decision tree regressor"
   ]
  },
  {
   "cell_type": "code",
   "execution_count": 79,
   "id": "799a1d32",
   "metadata": {},
   "outputs": [
    {
     "name": "stdout",
     "output_type": "stream",
     "text": [
      "R2 Score for Linear Regression is: 0.14798254917497367\n",
      "R2 Score for Support Vector Regression is: -0.052121491493990924\n",
      "R2 Score for Decision Tree Regressor  is: -0.1350687356037159\n",
      "R2 Score for Random Forest Regressor  is: 0.060512550871877235\n",
      "R2 Score for K Neighbors Regressor  is: 0.21573584872636653\n"
     ]
    }
   ],
   "source": [
    "#R2 Score for the model:\n",
    "\n",
    "print(\"R2 Score for Linear Regression is:\",r2_score(y_test,y_pred_lr))\n",
    "print(\"R2 Score for Support Vector Regression is:\",r2_score(y_test,y_pred_svr))\n",
    "print(\"R2 Score for Decision Tree Regressor  is:\",r2_score(y_test,y_pred_dt))\n",
    "print(\"R2 Score for Random Forest Regressor  is:\",r2_score(y_test,y_pred_rf))\n",
    "print(\"R2 Score for K Neighbors Regressor  is:\",r2_score(y_test,y_pred_knn))"
   ]
  },
  {
   "cell_type": "markdown",
   "id": "d3ab89dd",
   "metadata": {},
   "source": [
    "We use R2 score to evaluate the model and check the accuracy by which we would be able to choose our best regression model."
   ]
  },
  {
   "cell_type": "markdown",
   "id": "eae85987",
   "metadata": {},
   "source": [
    "KNN regression has the highest R2 Score,followed by linear regression,random forest regression, support vector regression, \n",
    "and decision tree regression"
   ]
  },
  {
   "cell_type": "markdown",
   "id": "d4784e02",
   "metadata": {},
   "source": [
    "# KNN regression is the best performing model"
   ]
  },
  {
   "cell_type": "markdown",
   "id": "583d35e3",
   "metadata": {},
   "source": [
    "# KN regression has the highest R2 score of 21% and the lowest RMSE of 25013.308% as compared to all the other models"
   ]
  },
  {
   "cell_type": "markdown",
   "id": "8cc2d23f",
   "metadata": {},
   "source": [
    "# Saving the model:¶"
   ]
  },
  {
   "cell_type": "code",
   "execution_count": 80,
   "id": "db21af96",
   "metadata": {},
   "outputs": [],
   "source": [
    "file=\"Final_salary_prediction.pkl\"\n",
    "pickle.dump(knn,open(file,'wb'))"
   ]
  },
  {
   "cell_type": "code",
   "execution_count": 81,
   "id": "16573a69",
   "metadata": {},
   "outputs": [
    {
     "data": {
      "text/html": [
       "<div>\n",
       "<style scoped>\n",
       "    .dataframe tbody tr th:only-of-type {\n",
       "        vertical-align: middle;\n",
       "    }\n",
       "\n",
       "    .dataframe tbody tr th {\n",
       "        vertical-align: top;\n",
       "    }\n",
       "\n",
       "    .dataframe thead th {\n",
       "        text-align: right;\n",
       "    }\n",
       "</style>\n",
       "<table border=\"1\" class=\"dataframe\">\n",
       "  <thead>\n",
       "    <tr style=\"text-align: right;\">\n",
       "      <th></th>\n",
       "      <th>original</th>\n",
       "      <th>predicted</th>\n",
       "    </tr>\n",
       "  </thead>\n",
       "  <tbody>\n",
       "    <tr>\n",
       "      <th>0</th>\n",
       "      <td>176500</td>\n",
       "      <td>142866.2</td>\n",
       "    </tr>\n",
       "    <tr>\n",
       "      <th>1</th>\n",
       "      <td>81500</td>\n",
       "      <td>93503.8</td>\n",
       "    </tr>\n",
       "    <tr>\n",
       "      <th>2</th>\n",
       "      <td>141136</td>\n",
       "      <td>122456.6</td>\n",
       "    </tr>\n",
       "    <tr>\n",
       "      <th>3</th>\n",
       "      <td>92550</td>\n",
       "      <td>145438.6</td>\n",
       "    </tr>\n",
       "    <tr>\n",
       "      <th>4</th>\n",
       "      <td>116518</td>\n",
       "      <td>107639.2</td>\n",
       "    </tr>\n",
       "    <tr>\n",
       "      <th>...</th>\n",
       "      <td>...</td>\n",
       "      <td>...</td>\n",
       "    </tr>\n",
       "    <tr>\n",
       "      <th>94</th>\n",
       "      <td>105631</td>\n",
       "      <td>89854.0</td>\n",
       "    </tr>\n",
       "    <tr>\n",
       "      <th>95</th>\n",
       "      <td>88600</td>\n",
       "      <td>112948.4</td>\n",
       "    </tr>\n",
       "    <tr>\n",
       "      <th>96</th>\n",
       "      <td>140096</td>\n",
       "      <td>128743.0</td>\n",
       "    </tr>\n",
       "    <tr>\n",
       "      <th>97</th>\n",
       "      <td>90450</td>\n",
       "      <td>83490.6</td>\n",
       "    </tr>\n",
       "    <tr>\n",
       "      <th>98</th>\n",
       "      <td>139750</td>\n",
       "      <td>122230.4</td>\n",
       "    </tr>\n",
       "  </tbody>\n",
       "</table>\n",
       "<p>99 rows × 2 columns</p>\n",
       "</div>"
      ],
      "text/plain": [
       "    original  predicted\n",
       "0     176500   142866.2\n",
       "1      81500    93503.8\n",
       "2     141136   122456.6\n",
       "3      92550   145438.6\n",
       "4     116518   107639.2\n",
       "..       ...        ...\n",
       "94    105631    89854.0\n",
       "95     88600   112948.4\n",
       "96    140096   128743.0\n",
       "97     90450    83490.6\n",
       "98    139750   122230.4\n",
       "\n",
       "[99 rows x 2 columns]"
      ]
     },
     "execution_count": 81,
     "metadata": {},
     "output_type": "execute_result"
    }
   ],
   "source": [
    "import numpy as np\n",
    "a=np.array(y_test)\n",
    "predicted=np.array(knn.predict(x_test))\n",
    "df_com=pd.DataFrame({\"original\":a,\"predicted\":predicted}, index=range(len(a)))\n",
    "df_com"
   ]
  },
  {
   "cell_type": "markdown",
   "id": "deb0ac7f",
   "metadata": {},
   "source": [
    "# Loading the model:"
   ]
  },
  {
   "cell_type": "code",
   "execution_count": 82,
   "id": "27694e8f",
   "metadata": {},
   "outputs": [
    {
     "name": "stdout",
     "output_type": "stream",
     "text": [
      "21.57358487263665\n"
     ]
    }
   ],
   "source": [
    "load_model=pickle.load(open(file,'rb'))\n",
    "result=load_model.score(x_test,y_test)*100\n",
    "print(result)"
   ]
  },
  {
   "cell_type": "markdown",
   "id": "b48afb60",
   "metadata": {},
   "source": [
    "Finally I have loaded the saved model and passed the unseen data set to predict the model score."
   ]
  }
 ],
 "metadata": {
  "kernelspec": {
   "display_name": "Python 3",
   "language": "python",
   "name": "python3"
  },
  "language_info": {
   "codemirror_mode": {
    "name": "ipython",
    "version": 3
   },
   "file_extension": ".py",
   "mimetype": "text/x-python",
   "name": "python",
   "nbconvert_exporter": "python",
   "pygments_lexer": "ipython3",
   "version": "3.8.8"
  }
 },
 "nbformat": 4,
 "nbformat_minor": 5
}
