{
 "cells": [
  {
   "cell_type": "markdown",
   "id": "fd548a56",
   "metadata": {},
   "source": [
    "When a company enters a market, the distribution strategy and channel it uses are keys to its success in the market, as well as market know-how and customer knowledge and understanding. Because an effective distribution strategy under efficient supply-chain management opens doors for attaining competitive advantage and strong brand equity in the market, it is a component of the marketing mix that cannot be ignored . "
   ]
  },
  {
   "cell_type": "markdown",
   "id": "6eb438f4",
   "metadata": {},
   "source": [
    "The distribution strategy and the channel design have to be right the first time. The case study of Sales channel includes the detailed study of TV, radio and newspaper channel. The predict the total sales generated from all the sales channel.  "
   ]
  },
  {
   "cell_type": "code",
   "execution_count": 1,
   "id": "8ca0dcd8",
   "metadata": {},
   "outputs": [],
   "source": [
    "import pandas as pd\n",
    "import numpy as np\n",
    "import seaborn as sns\n",
    "import warnings\n",
    "import matplotlib.pyplot as plt\n",
    "warnings.filterwarnings('ignore')"
   ]
  },
  {
   "cell_type": "code",
   "execution_count": 2,
   "id": "2ff70f10",
   "metadata": {},
   "outputs": [],
   "source": [
    "df=pd.read_csv('Advertising_sales_channel.csv')"
   ]
  },
  {
   "cell_type": "code",
   "execution_count": 3,
   "id": "8b5baaaf",
   "metadata": {},
   "outputs": [
    {
     "data": {
      "text/html": [
       "<div>\n",
       "<style scoped>\n",
       "    .dataframe tbody tr th:only-of-type {\n",
       "        vertical-align: middle;\n",
       "    }\n",
       "\n",
       "    .dataframe tbody tr th {\n",
       "        vertical-align: top;\n",
       "    }\n",
       "\n",
       "    .dataframe thead th {\n",
       "        text-align: right;\n",
       "    }\n",
       "</style>\n",
       "<table border=\"1\" class=\"dataframe\">\n",
       "  <thead>\n",
       "    <tr style=\"text-align: right;\">\n",
       "      <th></th>\n",
       "      <th>Unnamed: 0</th>\n",
       "      <th>TV</th>\n",
       "      <th>radio</th>\n",
       "      <th>newspaper</th>\n",
       "      <th>sales</th>\n",
       "    </tr>\n",
       "  </thead>\n",
       "  <tbody>\n",
       "    <tr>\n",
       "      <th>0</th>\n",
       "      <td>1</td>\n",
       "      <td>230.1</td>\n",
       "      <td>37.8</td>\n",
       "      <td>69.2</td>\n",
       "      <td>22.1</td>\n",
       "    </tr>\n",
       "    <tr>\n",
       "      <th>1</th>\n",
       "      <td>2</td>\n",
       "      <td>44.5</td>\n",
       "      <td>39.3</td>\n",
       "      <td>45.1</td>\n",
       "      <td>10.4</td>\n",
       "    </tr>\n",
       "    <tr>\n",
       "      <th>2</th>\n",
       "      <td>3</td>\n",
       "      <td>17.2</td>\n",
       "      <td>45.9</td>\n",
       "      <td>69.3</td>\n",
       "      <td>9.3</td>\n",
       "    </tr>\n",
       "    <tr>\n",
       "      <th>3</th>\n",
       "      <td>4</td>\n",
       "      <td>151.5</td>\n",
       "      <td>41.3</td>\n",
       "      <td>58.5</td>\n",
       "      <td>18.5</td>\n",
       "    </tr>\n",
       "    <tr>\n",
       "      <th>4</th>\n",
       "      <td>5</td>\n",
       "      <td>180.8</td>\n",
       "      <td>10.8</td>\n",
       "      <td>58.4</td>\n",
       "      <td>12.9</td>\n",
       "    </tr>\n",
       "    <tr>\n",
       "      <th>...</th>\n",
       "      <td>...</td>\n",
       "      <td>...</td>\n",
       "      <td>...</td>\n",
       "      <td>...</td>\n",
       "      <td>...</td>\n",
       "    </tr>\n",
       "    <tr>\n",
       "      <th>195</th>\n",
       "      <td>196</td>\n",
       "      <td>38.2</td>\n",
       "      <td>3.7</td>\n",
       "      <td>13.8</td>\n",
       "      <td>7.6</td>\n",
       "    </tr>\n",
       "    <tr>\n",
       "      <th>196</th>\n",
       "      <td>197</td>\n",
       "      <td>94.2</td>\n",
       "      <td>4.9</td>\n",
       "      <td>8.1</td>\n",
       "      <td>9.7</td>\n",
       "    </tr>\n",
       "    <tr>\n",
       "      <th>197</th>\n",
       "      <td>198</td>\n",
       "      <td>177.0</td>\n",
       "      <td>9.3</td>\n",
       "      <td>6.4</td>\n",
       "      <td>12.8</td>\n",
       "    </tr>\n",
       "    <tr>\n",
       "      <th>198</th>\n",
       "      <td>199</td>\n",
       "      <td>283.6</td>\n",
       "      <td>42.0</td>\n",
       "      <td>66.2</td>\n",
       "      <td>25.5</td>\n",
       "    </tr>\n",
       "    <tr>\n",
       "      <th>199</th>\n",
       "      <td>200</td>\n",
       "      <td>232.1</td>\n",
       "      <td>8.6</td>\n",
       "      <td>8.7</td>\n",
       "      <td>13.4</td>\n",
       "    </tr>\n",
       "  </tbody>\n",
       "</table>\n",
       "<p>200 rows × 5 columns</p>\n",
       "</div>"
      ],
      "text/plain": [
       "     Unnamed: 0     TV  radio  newspaper  sales\n",
       "0             1  230.1   37.8       69.2   22.1\n",
       "1             2   44.5   39.3       45.1   10.4\n",
       "2             3   17.2   45.9       69.3    9.3\n",
       "3             4  151.5   41.3       58.5   18.5\n",
       "4             5  180.8   10.8       58.4   12.9\n",
       "..          ...    ...    ...        ...    ...\n",
       "195         196   38.2    3.7       13.8    7.6\n",
       "196         197   94.2    4.9        8.1    9.7\n",
       "197         198  177.0    9.3        6.4   12.8\n",
       "198         199  283.6   42.0       66.2   25.5\n",
       "199         200  232.1    8.6        8.7   13.4\n",
       "\n",
       "[200 rows x 5 columns]"
      ]
     },
     "execution_count": 3,
     "metadata": {},
     "output_type": "execute_result"
    }
   ],
   "source": [
    "df"
   ]
  },
  {
   "cell_type": "code",
   "execution_count": 4,
   "id": "363a07c7",
   "metadata": {},
   "outputs": [
    {
     "data": {
      "text/plain": [
       "Index(['Unnamed: 0', 'TV', 'radio', 'newspaper', 'sales'], dtype='object')"
      ]
     },
     "execution_count": 4,
     "metadata": {},
     "output_type": "execute_result"
    }
   ],
   "source": [
    "df.columns"
   ]
  },
  {
   "cell_type": "markdown",
   "id": "5379248e",
   "metadata": {},
   "source": [
    "# About Columns:\n",
    "1.Unnmaed:0 It is the serial number of each row.\n",
    "\n",
    "2.TV: Television, A box which shows moving pictures, at 1st it was black and white, now there are color TV's.\n",
    "\n",
    "3.Radio: The transmission and reception of electromagnetic waves of radio frequency, especially those carrying sound messages.\n",
    "\n",
    "4.Newspaper: A printed paper of certain publication, consisting of folded unstaped sheets and containing news, articles, advertisements and correspondence.\n",
    "\n",
    "5.Sales: The exchange of a commodity for money, the action of selling something.\n",
    "\n",
    "Here Unnamed: 0 is the serial number column, which we can drop, as it is not affecting our dataset."
   ]
  },
  {
   "cell_type": "code",
   "execution_count": 5,
   "id": "7b5330f1",
   "metadata": {},
   "outputs": [
    {
     "data": {
      "text/html": [
       "<div>\n",
       "<style scoped>\n",
       "    .dataframe tbody tr th:only-of-type {\n",
       "        vertical-align: middle;\n",
       "    }\n",
       "\n",
       "    .dataframe tbody tr th {\n",
       "        vertical-align: top;\n",
       "    }\n",
       "\n",
       "    .dataframe thead th {\n",
       "        text-align: right;\n",
       "    }\n",
       "</style>\n",
       "<table border=\"1\" class=\"dataframe\">\n",
       "  <thead>\n",
       "    <tr style=\"text-align: right;\">\n",
       "      <th></th>\n",
       "      <th>TV</th>\n",
       "      <th>radio</th>\n",
       "      <th>newspaper</th>\n",
       "      <th>sales</th>\n",
       "    </tr>\n",
       "  </thead>\n",
       "  <tbody>\n",
       "    <tr>\n",
       "      <th>0</th>\n",
       "      <td>230.1</td>\n",
       "      <td>37.8</td>\n",
       "      <td>69.2</td>\n",
       "      <td>22.1</td>\n",
       "    </tr>\n",
       "    <tr>\n",
       "      <th>1</th>\n",
       "      <td>44.5</td>\n",
       "      <td>39.3</td>\n",
       "      <td>45.1</td>\n",
       "      <td>10.4</td>\n",
       "    </tr>\n",
       "    <tr>\n",
       "      <th>2</th>\n",
       "      <td>17.2</td>\n",
       "      <td>45.9</td>\n",
       "      <td>69.3</td>\n",
       "      <td>9.3</td>\n",
       "    </tr>\n",
       "    <tr>\n",
       "      <th>3</th>\n",
       "      <td>151.5</td>\n",
       "      <td>41.3</td>\n",
       "      <td>58.5</td>\n",
       "      <td>18.5</td>\n",
       "    </tr>\n",
       "    <tr>\n",
       "      <th>4</th>\n",
       "      <td>180.8</td>\n",
       "      <td>10.8</td>\n",
       "      <td>58.4</td>\n",
       "      <td>12.9</td>\n",
       "    </tr>\n",
       "    <tr>\n",
       "      <th>...</th>\n",
       "      <td>...</td>\n",
       "      <td>...</td>\n",
       "      <td>...</td>\n",
       "      <td>...</td>\n",
       "    </tr>\n",
       "    <tr>\n",
       "      <th>195</th>\n",
       "      <td>38.2</td>\n",
       "      <td>3.7</td>\n",
       "      <td>13.8</td>\n",
       "      <td>7.6</td>\n",
       "    </tr>\n",
       "    <tr>\n",
       "      <th>196</th>\n",
       "      <td>94.2</td>\n",
       "      <td>4.9</td>\n",
       "      <td>8.1</td>\n",
       "      <td>9.7</td>\n",
       "    </tr>\n",
       "    <tr>\n",
       "      <th>197</th>\n",
       "      <td>177.0</td>\n",
       "      <td>9.3</td>\n",
       "      <td>6.4</td>\n",
       "      <td>12.8</td>\n",
       "    </tr>\n",
       "    <tr>\n",
       "      <th>198</th>\n",
       "      <td>283.6</td>\n",
       "      <td>42.0</td>\n",
       "      <td>66.2</td>\n",
       "      <td>25.5</td>\n",
       "    </tr>\n",
       "    <tr>\n",
       "      <th>199</th>\n",
       "      <td>232.1</td>\n",
       "      <td>8.6</td>\n",
       "      <td>8.7</td>\n",
       "      <td>13.4</td>\n",
       "    </tr>\n",
       "  </tbody>\n",
       "</table>\n",
       "<p>200 rows × 4 columns</p>\n",
       "</div>"
      ],
      "text/plain": [
       "        TV  radio  newspaper  sales\n",
       "0    230.1   37.8       69.2   22.1\n",
       "1     44.5   39.3       45.1   10.4\n",
       "2     17.2   45.9       69.3    9.3\n",
       "3    151.5   41.3       58.5   18.5\n",
       "4    180.8   10.8       58.4   12.9\n",
       "..     ...    ...        ...    ...\n",
       "195   38.2    3.7       13.8    7.6\n",
       "196   94.2    4.9        8.1    9.7\n",
       "197  177.0    9.3        6.4   12.8\n",
       "198  283.6   42.0       66.2   25.5\n",
       "199  232.1    8.6        8.7   13.4\n",
       "\n",
       "[200 rows x 4 columns]"
      ]
     },
     "execution_count": 5,
     "metadata": {},
     "output_type": "execute_result"
    }
   ],
   "source": [
    "df.drop(['Unnamed: 0'],axis=1,inplace=True)\n",
    "df"
   ]
  },
  {
   "cell_type": "markdown",
   "id": "29e33858",
   "metadata": {},
   "source": [
    "# Checking null Values:"
   ]
  },
  {
   "cell_type": "code",
   "execution_count": 6,
   "id": "ca6e6332",
   "metadata": {},
   "outputs": [
    {
     "data": {
      "text/plain": [
       "TV           0\n",
       "radio        0\n",
       "newspaper    0\n",
       "sales        0\n",
       "dtype: int64"
      ]
     },
     "execution_count": 6,
     "metadata": {},
     "output_type": "execute_result"
    }
   ],
   "source": [
    "df.isnull().sum()"
   ]
  },
  {
   "cell_type": "markdown",
   "id": "5e5041c1",
   "metadata": {},
   "source": [
    "there are no null values in our dataset"
   ]
  },
  {
   "cell_type": "code",
   "execution_count": 7,
   "id": "c5210329",
   "metadata": {},
   "outputs": [
    {
     "data": {
      "text/plain": [
       "<AxesSubplot:>"
      ]
     },
     "execution_count": 7,
     "metadata": {},
     "output_type": "execute_result"
    },
    {
     "data": {
      "image/png": "[encoded data removed]",
      "text/plain": [
       "<Figure size 432x288 with 2 Axes>"
      ]
     },
     "metadata": {
      "needs_background": "light"
     },
     "output_type": "display_data"
    }
   ],
   "source": [
    "sns.heatmap(df.isnull())"
   ]
  },
  {
   "cell_type": "code",
   "execution_count": 8,
   "id": "cbce8481",
   "metadata": {},
   "outputs": [
    {
     "data": {
      "text/plain": [
       "TV           float64\n",
       "radio        float64\n",
       "newspaper    float64\n",
       "sales        float64\n",
       "dtype: object"
      ]
     },
     "execution_count": 8,
     "metadata": {},
     "output_type": "execute_result"
    }
   ],
   "source": [
    "df.dtypes"
   ]
  },
  {
   "cell_type": "markdown",
   "id": "578390c8",
   "metadata": {},
   "source": [
    "all columns are in float data format"
   ]
  },
  {
   "cell_type": "code",
   "execution_count": 9,
   "id": "99c13564",
   "metadata": {},
   "outputs": [
    {
     "data": {
      "text/plain": [
       "(200, 4)"
      ]
     },
     "execution_count": 9,
     "metadata": {},
     "output_type": "execute_result"
    }
   ],
   "source": [
    "df.shape"
   ]
  },
  {
   "cell_type": "code",
   "execution_count": 10,
   "id": "b80fe6ba",
   "metadata": {},
   "outputs": [
    {
     "data": {
      "text/html": [
       "<div>\n",
       "<style scoped>\n",
       "    .dataframe tbody tr th:only-of-type {\n",
       "        vertical-align: middle;\n",
       "    }\n",
       "\n",
       "    .dataframe tbody tr th {\n",
       "        vertical-align: top;\n",
       "    }\n",
       "\n",
       "    .dataframe thead th {\n",
       "        text-align: right;\n",
       "    }\n",
       "</style>\n",
       "<table border=\"1\" class=\"dataframe\">\n",
       "  <thead>\n",
       "    <tr style=\"text-align: right;\">\n",
       "      <th></th>\n",
       "      <th>TV</th>\n",
       "      <th>radio</th>\n",
       "      <th>newspaper</th>\n",
       "      <th>sales</th>\n",
       "    </tr>\n",
       "  </thead>\n",
       "  <tbody>\n",
       "    <tr>\n",
       "      <th>0</th>\n",
       "      <td>230.1</td>\n",
       "      <td>37.8</td>\n",
       "      <td>69.2</td>\n",
       "      <td>22.1</td>\n",
       "    </tr>\n",
       "    <tr>\n",
       "      <th>1</th>\n",
       "      <td>44.5</td>\n",
       "      <td>39.3</td>\n",
       "      <td>45.1</td>\n",
       "      <td>10.4</td>\n",
       "    </tr>\n",
       "    <tr>\n",
       "      <th>2</th>\n",
       "      <td>17.2</td>\n",
       "      <td>45.9</td>\n",
       "      <td>69.3</td>\n",
       "      <td>9.3</td>\n",
       "    </tr>\n",
       "    <tr>\n",
       "      <th>3</th>\n",
       "      <td>151.5</td>\n",
       "      <td>41.3</td>\n",
       "      <td>58.5</td>\n",
       "      <td>18.5</td>\n",
       "    </tr>\n",
       "    <tr>\n",
       "      <th>4</th>\n",
       "      <td>180.8</td>\n",
       "      <td>10.8</td>\n",
       "      <td>58.4</td>\n",
       "      <td>12.9</td>\n",
       "    </tr>\n",
       "  </tbody>\n",
       "</table>\n",
       "</div>"
      ],
      "text/plain": [
       "      TV  radio  newspaper  sales\n",
       "0  230.1   37.8       69.2   22.1\n",
       "1   44.5   39.3       45.1   10.4\n",
       "2   17.2   45.9       69.3    9.3\n",
       "3  151.5   41.3       58.5   18.5\n",
       "4  180.8   10.8       58.4   12.9"
      ]
     },
     "execution_count": 10,
     "metadata": {},
     "output_type": "execute_result"
    }
   ],
   "source": [
    "df.head()"
   ]
  },
  {
   "cell_type": "code",
   "execution_count": 11,
   "id": "b047d2f6",
   "metadata": {},
   "outputs": [
    {
     "data": {
      "text/html": [
       "<div>\n",
       "<style scoped>\n",
       "    .dataframe tbody tr th:only-of-type {\n",
       "        vertical-align: middle;\n",
       "    }\n",
       "\n",
       "    .dataframe tbody tr th {\n",
       "        vertical-align: top;\n",
       "    }\n",
       "\n",
       "    .dataframe thead th {\n",
       "        text-align: right;\n",
       "    }\n",
       "</style>\n",
       "<table border=\"1\" class=\"dataframe\">\n",
       "  <thead>\n",
       "    <tr style=\"text-align: right;\">\n",
       "      <th></th>\n",
       "      <th>TV</th>\n",
       "      <th>radio</th>\n",
       "      <th>newspaper</th>\n",
       "      <th>sales</th>\n",
       "    </tr>\n",
       "  </thead>\n",
       "  <tbody>\n",
       "    <tr>\n",
       "      <th>195</th>\n",
       "      <td>38.2</td>\n",
       "      <td>3.7</td>\n",
       "      <td>13.8</td>\n",
       "      <td>7.6</td>\n",
       "    </tr>\n",
       "    <tr>\n",
       "      <th>196</th>\n",
       "      <td>94.2</td>\n",
       "      <td>4.9</td>\n",
       "      <td>8.1</td>\n",
       "      <td>9.7</td>\n",
       "    </tr>\n",
       "    <tr>\n",
       "      <th>197</th>\n",
       "      <td>177.0</td>\n",
       "      <td>9.3</td>\n",
       "      <td>6.4</td>\n",
       "      <td>12.8</td>\n",
       "    </tr>\n",
       "    <tr>\n",
       "      <th>198</th>\n",
       "      <td>283.6</td>\n",
       "      <td>42.0</td>\n",
       "      <td>66.2</td>\n",
       "      <td>25.5</td>\n",
       "    </tr>\n",
       "    <tr>\n",
       "      <th>199</th>\n",
       "      <td>232.1</td>\n",
       "      <td>8.6</td>\n",
       "      <td>8.7</td>\n",
       "      <td>13.4</td>\n",
       "    </tr>\n",
       "  </tbody>\n",
       "</table>\n",
       "</div>"
      ],
      "text/plain": [
       "        TV  radio  newspaper  sales\n",
       "195   38.2    3.7       13.8    7.6\n",
       "196   94.2    4.9        8.1    9.7\n",
       "197  177.0    9.3        6.4   12.8\n",
       "198  283.6   42.0       66.2   25.5\n",
       "199  232.1    8.6        8.7   13.4"
      ]
     },
     "execution_count": 11,
     "metadata": {},
     "output_type": "execute_result"
    }
   ],
   "source": [
    "df.tail()"
   ]
  },
  {
   "cell_type": "code",
   "execution_count": 12,
   "id": "fb6482cc",
   "metadata": {},
   "outputs": [
    {
     "data": {
      "text/html": [
       "<div>\n",
       "<style scoped>\n",
       "    .dataframe tbody tr th:only-of-type {\n",
       "        vertical-align: middle;\n",
       "    }\n",
       "\n",
       "    .dataframe tbody tr th {\n",
       "        vertical-align: top;\n",
       "    }\n",
       "\n",
       "    .dataframe thead th {\n",
       "        text-align: right;\n",
       "    }\n",
       "</style>\n",
       "<table border=\"1\" class=\"dataframe\">\n",
       "  <thead>\n",
       "    <tr style=\"text-align: right;\">\n",
       "      <th></th>\n",
       "      <th>TV</th>\n",
       "      <th>radio</th>\n",
       "      <th>newspaper</th>\n",
       "      <th>sales</th>\n",
       "    </tr>\n",
       "  </thead>\n",
       "  <tbody>\n",
       "    <tr>\n",
       "      <th>0</th>\n",
       "      <td>230.1</td>\n",
       "      <td>37.8</td>\n",
       "      <td>69.2</td>\n",
       "      <td>22.1</td>\n",
       "    </tr>\n",
       "    <tr>\n",
       "      <th>1</th>\n",
       "      <td>44.5</td>\n",
       "      <td>39.3</td>\n",
       "      <td>45.1</td>\n",
       "      <td>10.4</td>\n",
       "    </tr>\n",
       "    <tr>\n",
       "      <th>2</th>\n",
       "      <td>17.2</td>\n",
       "      <td>45.9</td>\n",
       "      <td>69.3</td>\n",
       "      <td>9.3</td>\n",
       "    </tr>\n",
       "    <tr>\n",
       "      <th>3</th>\n",
       "      <td>151.5</td>\n",
       "      <td>41.3</td>\n",
       "      <td>58.5</td>\n",
       "      <td>18.5</td>\n",
       "    </tr>\n",
       "    <tr>\n",
       "      <th>4</th>\n",
       "      <td>180.8</td>\n",
       "      <td>10.8</td>\n",
       "      <td>58.4</td>\n",
       "      <td>12.9</td>\n",
       "    </tr>\n",
       "    <tr>\n",
       "      <th>...</th>\n",
       "      <td>...</td>\n",
       "      <td>...</td>\n",
       "      <td>...</td>\n",
       "      <td>...</td>\n",
       "    </tr>\n",
       "    <tr>\n",
       "      <th>195</th>\n",
       "      <td>38.2</td>\n",
       "      <td>3.7</td>\n",
       "      <td>13.8</td>\n",
       "      <td>7.6</td>\n",
       "    </tr>\n",
       "    <tr>\n",
       "      <th>196</th>\n",
       "      <td>94.2</td>\n",
       "      <td>4.9</td>\n",
       "      <td>8.1</td>\n",
       "      <td>9.7</td>\n",
       "    </tr>\n",
       "    <tr>\n",
       "      <th>197</th>\n",
       "      <td>177.0</td>\n",
       "      <td>9.3</td>\n",
       "      <td>6.4</td>\n",
       "      <td>12.8</td>\n",
       "    </tr>\n",
       "    <tr>\n",
       "      <th>198</th>\n",
       "      <td>283.6</td>\n",
       "      <td>42.0</td>\n",
       "      <td>66.2</td>\n",
       "      <td>25.5</td>\n",
       "    </tr>\n",
       "    <tr>\n",
       "      <th>199</th>\n",
       "      <td>232.1</td>\n",
       "      <td>8.6</td>\n",
       "      <td>8.7</td>\n",
       "      <td>13.4</td>\n",
       "    </tr>\n",
       "  </tbody>\n",
       "</table>\n",
       "<p>200 rows × 4 columns</p>\n",
       "</div>"
      ],
      "text/plain": [
       "        TV  radio  newspaper  sales\n",
       "0    230.1   37.8       69.2   22.1\n",
       "1     44.5   39.3       45.1   10.4\n",
       "2     17.2   45.9       69.3    9.3\n",
       "3    151.5   41.3       58.5   18.5\n",
       "4    180.8   10.8       58.4   12.9\n",
       "..     ...    ...        ...    ...\n",
       "195   38.2    3.7       13.8    7.6\n",
       "196   94.2    4.9        8.1    9.7\n",
       "197  177.0    9.3        6.4   12.8\n",
       "198  283.6   42.0       66.2   25.5\n",
       "199  232.1    8.6        8.7   13.4\n",
       "\n",
       "[200 rows x 4 columns]"
      ]
     },
     "execution_count": 12,
     "metadata": {},
     "output_type": "execute_result"
    }
   ],
   "source": [
    "df=pd.DataFrame(data=df)\n",
    "df\n",
    "\n",
    "# Giving the Dataset a Structured Format using DataFrame function and storing it in variable \"sales\""
   ]
  },
  {
   "cell_type": "markdown",
   "id": "b6ee0138",
   "metadata": {},
   "source": [
    "# EDA:"
   ]
  },
  {
   "cell_type": "code",
   "execution_count": 13,
   "id": "5f88223f",
   "metadata": {},
   "outputs": [
    {
     "name": "stdout",
     "output_type": "stream",
     "text": [
      "<class 'pandas.core.frame.DataFrame'>\n",
      "RangeIndex: 200 entries, 0 to 199\n",
      "Data columns (total 4 columns):\n",
      " #   Column     Non-Null Count  Dtype  \n",
      "---  ------     --------------  -----  \n",
      " 0   TV         200 non-null    float64\n",
      " 1   radio      200 non-null    float64\n",
      " 2   newspaper  200 non-null    float64\n",
      " 3   sales      200 non-null    float64\n",
      "dtypes: float64(4)\n",
      "memory usage: 6.4 KB\n"
     ]
    }
   ],
   "source": [
    "df.info()\n",
    "\n",
    "# It is providing the information of the data types and null values\n",
    "# We can see that there are no null values present in the Dataset"
   ]
  },
  {
   "cell_type": "markdown",
   "id": "1fb7aa0e",
   "metadata": {},
   "source": [
    "# Checking Correlation:"
   ]
  },
  {
   "cell_type": "code",
   "execution_count": 14,
   "id": "2070ce8b",
   "metadata": {},
   "outputs": [
    {
     "data": {
      "text/html": [
       "<div>\n",
       "<style scoped>\n",
       "    .dataframe tbody tr th:only-of-type {\n",
       "        vertical-align: middle;\n",
       "    }\n",
       "\n",
       "    .dataframe tbody tr th {\n",
       "        vertical-align: top;\n",
       "    }\n",
       "\n",
       "    .dataframe thead th {\n",
       "        text-align: right;\n",
       "    }\n",
       "</style>\n",
       "<table border=\"1\" class=\"dataframe\">\n",
       "  <thead>\n",
       "    <tr style=\"text-align: right;\">\n",
       "      <th></th>\n",
       "      <th>TV</th>\n",
       "      <th>radio</th>\n",
       "      <th>newspaper</th>\n",
       "      <th>sales</th>\n",
       "    </tr>\n",
       "  </thead>\n",
       "  <tbody>\n",
       "    <tr>\n",
       "      <th>TV</th>\n",
       "      <td>1.000000</td>\n",
       "      <td>0.054809</td>\n",
       "      <td>0.056648</td>\n",
       "      <td>0.782224</td>\n",
       "    </tr>\n",
       "    <tr>\n",
       "      <th>radio</th>\n",
       "      <td>0.054809</td>\n",
       "      <td>1.000000</td>\n",
       "      <td>0.354104</td>\n",
       "      <td>0.576223</td>\n",
       "    </tr>\n",
       "    <tr>\n",
       "      <th>newspaper</th>\n",
       "      <td>0.056648</td>\n",
       "      <td>0.354104</td>\n",
       "      <td>1.000000</td>\n",
       "      <td>0.228299</td>\n",
       "    </tr>\n",
       "    <tr>\n",
       "      <th>sales</th>\n",
       "      <td>0.782224</td>\n",
       "      <td>0.576223</td>\n",
       "      <td>0.228299</td>\n",
       "      <td>1.000000</td>\n",
       "    </tr>\n",
       "  </tbody>\n",
       "</table>\n",
       "</div>"
      ],
      "text/plain": [
       "                 TV     radio  newspaper     sales\n",
       "TV         1.000000  0.054809   0.056648  0.782224\n",
       "radio      0.054809  1.000000   0.354104  0.576223\n",
       "newspaper  0.056648  0.354104   1.000000  0.228299\n",
       "sales      0.782224  0.576223   0.228299  1.000000"
      ]
     },
     "execution_count": 14,
     "metadata": {},
     "output_type": "execute_result"
    }
   ],
   "source": [
    "df_corr=df.corr()\n",
    "df_corr\n",
    "\n",
    "# Checking the correlation between the independent variables and the target variable"
   ]
  },
  {
   "cell_type": "code",
   "execution_count": 15,
   "id": "2a094de8",
   "metadata": {},
   "outputs": [
    {
     "data": {
      "text/plain": [
       "<AxesSubplot:>"
      ]
     },
     "execution_count": 15,
     "metadata": {},
     "output_type": "execute_result"
    },
    {
     "data": {
      "image/png": "[encoded data removed]",
      "text/plain": [
       "<Figure size 720x720 with 2 Axes>"
      ]
     },
     "metadata": {
      "needs_background": "light"
     },
     "output_type": "display_data"
    }
   ],
   "source": [
    "plt.figure(figsize=(10,10))\n",
    "sns.heatmap(df_corr, annot=True, linewidths=2, linecolor=\"black\", cmap=\"coolwarm_r\")\n",
    "\n",
    "# Graphical presentation of correlation between variables"
   ]
  },
  {
   "cell_type": "markdown",
   "id": "c136647a",
   "metadata": {},
   "source": [
    "# Outcome of correlation:\n",
    "All the columns are positively correlated with the target column.\n",
    "\n",
    "TV has highest percent of correlation with target column 78 percent, followed by radio 58 percent and newspaper 23 percent.\n",
    "\n",
    "Max correlation: TV\n",
    "\n",
    "Min correlation: newspaper"
   ]
  },
  {
   "cell_type": "markdown",
   "id": "6a90b0a6",
   "metadata": {},
   "source": [
    "# Describing datasets with heatmap:"
   ]
  },
  {
   "cell_type": "code",
   "execution_count": 16,
   "id": "d21b1995",
   "metadata": {},
   "outputs": [
    {
     "data": {
      "text/html": [
       "<div>\n",
       "<style scoped>\n",
       "    .dataframe tbody tr th:only-of-type {\n",
       "        vertical-align: middle;\n",
       "    }\n",
       "\n",
       "    .dataframe tbody tr th {\n",
       "        vertical-align: top;\n",
       "    }\n",
       "\n",
       "    .dataframe thead th {\n",
       "        text-align: right;\n",
       "    }\n",
       "</style>\n",
       "<table border=\"1\" class=\"dataframe\">\n",
       "  <thead>\n",
       "    <tr style=\"text-align: right;\">\n",
       "      <th></th>\n",
       "      <th>TV</th>\n",
       "      <th>radio</th>\n",
       "      <th>newspaper</th>\n",
       "      <th>sales</th>\n",
       "    </tr>\n",
       "  </thead>\n",
       "  <tbody>\n",
       "    <tr>\n",
       "      <th>count</th>\n",
       "      <td>200.000000</td>\n",
       "      <td>200.000000</td>\n",
       "      <td>200.000000</td>\n",
       "      <td>200.000000</td>\n",
       "    </tr>\n",
       "    <tr>\n",
       "      <th>mean</th>\n",
       "      <td>147.042500</td>\n",
       "      <td>23.264000</td>\n",
       "      <td>30.554000</td>\n",
       "      <td>14.022500</td>\n",
       "    </tr>\n",
       "    <tr>\n",
       "      <th>std</th>\n",
       "      <td>85.854236</td>\n",
       "      <td>14.846809</td>\n",
       "      <td>21.778621</td>\n",
       "      <td>5.217457</td>\n",
       "    </tr>\n",
       "    <tr>\n",
       "      <th>min</th>\n",
       "      <td>0.700000</td>\n",
       "      <td>0.000000</td>\n",
       "      <td>0.300000</td>\n",
       "      <td>1.600000</td>\n",
       "    </tr>\n",
       "    <tr>\n",
       "      <th>25%</th>\n",
       "      <td>74.375000</td>\n",
       "      <td>9.975000</td>\n",
       "      <td>12.750000</td>\n",
       "      <td>10.375000</td>\n",
       "    </tr>\n",
       "    <tr>\n",
       "      <th>50%</th>\n",
       "      <td>149.750000</td>\n",
       "      <td>22.900000</td>\n",
       "      <td>25.750000</td>\n",
       "      <td>12.900000</td>\n",
       "    </tr>\n",
       "    <tr>\n",
       "      <th>75%</th>\n",
       "      <td>218.825000</td>\n",
       "      <td>36.525000</td>\n",
       "      <td>45.100000</td>\n",
       "      <td>17.400000</td>\n",
       "    </tr>\n",
       "    <tr>\n",
       "      <th>max</th>\n",
       "      <td>296.400000</td>\n",
       "      <td>49.600000</td>\n",
       "      <td>114.000000</td>\n",
       "      <td>27.000000</td>\n",
       "    </tr>\n",
       "  </tbody>\n",
       "</table>\n",
       "</div>"
      ],
      "text/plain": [
       "               TV       radio   newspaper       sales\n",
       "count  200.000000  200.000000  200.000000  200.000000\n",
       "mean   147.042500   23.264000   30.554000   14.022500\n",
       "std     85.854236   14.846809   21.778621    5.217457\n",
       "min      0.700000    0.000000    0.300000    1.600000\n",
       "25%     74.375000    9.975000   12.750000   10.375000\n",
       "50%    149.750000   22.900000   25.750000   12.900000\n",
       "75%    218.825000   36.525000   45.100000   17.400000\n",
       "max    296.400000   49.600000  114.000000   27.000000"
      ]
     },
     "execution_count": 16,
     "metadata": {},
     "output_type": "execute_result"
    }
   ],
   "source": [
    "df.describe()"
   ]
  },
  {
   "cell_type": "code",
   "execution_count": 17,
   "id": "94768ef2",
   "metadata": {},
   "outputs": [
    {
     "data": {
      "image/png": "[encoded data removed]",
      "text/plain": [
       "<Figure size 864x576 with 2 Axes>"
      ]
     },
     "metadata": {
      "needs_background": "light"
     },
     "output_type": "display_data"
    }
   ],
   "source": [
    "plt.figure(figsize=(12,8))\n",
    "sns.heatmap(df.describe().transpose(),annot=True,fmt='0.2f',linewidth=0.2,cmap='Blues_r',linecolor='black')\n",
    "plt.xticks(fontsize=14)\n",
    "plt.yticks(fontsize=14)\n",
    "plt.title('Variable Summary',fontsize=15)\n",
    "plt.show()"
   ]
  },
  {
   "cell_type": "markdown",
   "id": "dce5ac65",
   "metadata": {},
   "source": [
    "# outcome of describe of datasets:\n",
    "From above we are determining mean, standard deviation, min. and max. value of each column, which will furthur help in data cleaning.\n",
    "\n",
    "Total number of rows and columns in dataset:\n",
    "\n",
    "1.200 rows\n",
    "2.4 columns\n",
    "\n",
    "TV:\n",
    "\n",
    "    1.Mean=147.04\n",
    "    \n",
    "    2.std.=85.85\n",
    "    \n",
    "    3.max_value=296.40\n",
    "    \n",
    "    4.min_value=0.70\n",
    "\n",
    "radio:\n",
    "\n",
    "    1.Mean=23.26\n",
    "    \n",
    "    2.std.=14.85\n",
    "    \n",
    "    3.max_value=49.60\n",
    "    \n",
    "    4.min_value=0.00\n",
    "\n",
    "newspaper:\n",
    "\n",
    "    \n",
    "    1.Mean=30.55\n",
    "    \n",
    "    2.std.=21.78\n",
    "    \n",
    "    3.max_value=114.00\n",
    "    \n",
    "    4.min_value=0.30\n",
    "\n",
    "sales:\n",
    "\n",
    "    1.Mean=14.02\n",
    "    \n",
    "    2.std.=5.22\n",
    "    \n",
    "    3.max_value=27.00\n",
    "    \n",
    "    4.min_value=1.60\n",
    "\n",
    "sales is our target column."
   ]
  },
  {
   "cell_type": "markdown",
   "id": "ae667d1e",
   "metadata": {},
   "source": [
    "# Outlier Detection:"
   ]
  },
  {
   "cell_type": "code",
   "execution_count": 18,
   "id": "c8ccb6b5",
   "metadata": {},
   "outputs": [
    {
     "data": {
      "text/plain": [
       "Index(['TV', 'radio', 'newspaper', 'sales'], dtype='object')"
      ]
     },
     "execution_count": 18,
     "metadata": {},
     "output_type": "execute_result"
    }
   ],
   "source": [
    "df.columns"
   ]
  },
  {
   "cell_type": "markdown",
   "id": "a3cccbb6",
   "metadata": {},
   "source": [
    "#univariate analysis"
   ]
  },
  {
   "cell_type": "code",
   "execution_count": 19,
   "id": "8db90a0b",
   "metadata": {},
   "outputs": [
    {
     "data": {
      "text/plain": [
       "<AxesSubplot:>"
      ]
     },
     "execution_count": 19,
     "metadata": {},
     "output_type": "execute_result"
    },
    {
     "data": {
      "image/png": "[encoded data removed]",
      "text/plain": [
       "<Figure size 432x288 with 1 Axes>"
      ]
     },
     "metadata": {
      "needs_background": "light"
     },
     "output_type": "display_data"
    }
   ],
   "source": [
    "df['TV'].plot.box()"
   ]
  },
  {
   "cell_type": "markdown",
   "id": "76f9494f",
   "metadata": {},
   "source": [
    "There are no outlires in TV column"
   ]
  },
  {
   "cell_type": "code",
   "execution_count": 20,
   "id": "260c99f9",
   "metadata": {},
   "outputs": [
    {
     "data": {
      "text/plain": [
       "<AxesSubplot:>"
      ]
     },
     "execution_count": 20,
     "metadata": {},
     "output_type": "execute_result"
    },
    {
     "data": {
      "image/png": "[encoded data removed]",
      "text/plain": [
       "<Figure size 432x288 with 1 Axes>"
      ]
     },
     "metadata": {
      "needs_background": "light"
     },
     "output_type": "display_data"
    }
   ],
   "source": [
    "df['radio'].plot.box()"
   ]
  },
  {
   "cell_type": "markdown",
   "id": "a1b35879",
   "metadata": {},
   "source": [
    "there are no outliers in radio also"
   ]
  },
  {
   "cell_type": "code",
   "execution_count": 21,
   "id": "30d3114d",
   "metadata": {},
   "outputs": [
    {
     "data": {
      "text/plain": [
       "<AxesSubplot:>"
      ]
     },
     "execution_count": 21,
     "metadata": {},
     "output_type": "execute_result"
    },
    {
     "data": {
      "image/png": "[encoded data removed]",
      "text/plain": [
       "<Figure size 432x288 with 1 Axes>"
      ]
     },
     "metadata": {
      "needs_background": "light"
     },
     "output_type": "display_data"
    }
   ],
   "source": [
    "df['newspaper'].plot.box()"
   ]
  },
  {
   "cell_type": "markdown",
   "id": "d3fcdddd",
   "metadata": {},
   "source": [
    "There are few outliers in our newspaper column"
   ]
  },
  {
   "cell_type": "code",
   "execution_count": 22,
   "id": "f57ed347",
   "metadata": {},
   "outputs": [
    {
     "data": {
      "text/plain": [
       "<AxesSubplot:>"
      ]
     },
     "execution_count": 22,
     "metadata": {},
     "output_type": "execute_result"
    },
    {
     "data": {
      "image/png": "[encoded data removed]",
      "text/plain": [
       "<Figure size 432x288 with 1 Axes>"
      ]
     },
     "metadata": {
      "needs_background": "light"
     },
     "output_type": "display_data"
    }
   ],
   "source": [
    "df['sales'].plot.box()"
   ]
  },
  {
   "cell_type": "markdown",
   "id": "5f4a7630",
   "metadata": {},
   "source": [
    "There are no outliers in sales column"
   ]
  },
  {
   "cell_type": "code",
   "execution_count": 23,
   "id": "aed9856b",
   "metadata": {},
   "outputs": [
    {
     "data": {
      "image/png": "[encoded data removed]",
      "text/plain": [
       "<Figure size 1080x1080 with 24 Axes>"
      ]
     },
     "metadata": {
      "needs_background": "light"
     },
     "output_type": "display_data"
    }
   ],
   "source": [
    "df.plot(kind='box',subplots=True,layout=(4,6),figsize=(15,15),fontsize=14)\n",
    "plt.show()\n",
    "# The Subplot shows boxplots of all the variable at once without passing boxplot function individually for each variable"
   ]
  },
  {
   "cell_type": "markdown",
   "id": "61429162",
   "metadata": {},
   "source": [
    "newspaper column has few outliers in it"
   ]
  },
  {
   "cell_type": "markdown",
   "id": "73dee423",
   "metadata": {},
   "source": [
    "# Checking distribution skewness:"
   ]
  },
  {
   "cell_type": "code",
   "execution_count": 24,
   "id": "875a30e7",
   "metadata": {},
   "outputs": [
    {
     "data": {
      "text/plain": [
       "TV          -0.069853\n",
       "radio        0.094175\n",
       "newspaper    0.894720\n",
       "sales        0.407571\n",
       "dtype: float64"
      ]
     },
     "execution_count": 24,
     "metadata": {},
     "output_type": "execute_result"
    }
   ],
   "source": [
    "df.skew()"
   ]
  },
  {
   "cell_type": "markdown",
   "id": "397c8364",
   "metadata": {},
   "source": [
    "We are taking Skewness threshold as +/-0.5. From the above observation, the columns falls under high skewness are:\n",
    "\n",
    "\n",
    "newspaper=0.894720"
   ]
  },
  {
   "cell_type": "code",
   "execution_count": 25,
   "id": "cd9b4933",
   "metadata": {},
   "outputs": [
    {
     "data": {
      "text/plain": [
       "<AxesSubplot:xlabel='TV', ylabel='Density'>"
      ]
     },
     "execution_count": 25,
     "metadata": {},
     "output_type": "execute_result"
    },
    {
     "data": {
      "image/png": "[encoded data removed]",
      "text/plain": [
       "<Figure size 432x288 with 1 Axes>"
      ]
     },
     "metadata": {
      "needs_background": "light"
     },
     "output_type": "display_data"
    }
   ],
   "source": [
    "sns.distplot(df['TV'])"
   ]
  },
  {
   "cell_type": "markdown",
   "id": "9c9e9877",
   "metadata": {},
   "source": [
    " Distribution plot of TV shows that data is almost normally distributed "
   ]
  },
  {
   "cell_type": "code",
   "execution_count": 26,
   "id": "d2967e73",
   "metadata": {},
   "outputs": [
    {
     "data": {
      "text/plain": [
       "<AxesSubplot:xlabel='radio', ylabel='Density'>"
      ]
     },
     "execution_count": 26,
     "metadata": {},
     "output_type": "execute_result"
    },
    {
     "data": {
      "image/png": "[encoded data removed]",
      "text/plain": [
       "<Figure size 432x288 with 1 Axes>"
      ]
     },
     "metadata": {
      "needs_background": "light"
     },
     "output_type": "display_data"
    }
   ],
   "source": [
    "sns.distplot(df['radio'])"
   ]
  },
  {
   "cell_type": "markdown",
   "id": "1b8d4cda",
   "metadata": {},
   "source": [
    " Distribution plot of radio shows that data is almost normally distributed "
   ]
  },
  {
   "cell_type": "code",
   "execution_count": 27,
   "id": "80fa547c",
   "metadata": {},
   "outputs": [
    {
     "data": {
      "text/plain": [
       "<AxesSubplot:xlabel='newspaper', ylabel='Density'>"
      ]
     },
     "execution_count": 27,
     "metadata": {},
     "output_type": "execute_result"
    },
    {
     "data": {
      "image/png": "[encoded data removed]",
      "text/plain": [
       "<Figure size 432x288 with 1 Axes>"
      ]
     },
     "metadata": {
      "needs_background": "light"
     },
     "output_type": "display_data"
    }
   ],
   "source": [
    "sns.distplot(df[\"newspaper\"])\n"
   ]
  },
  {
   "cell_type": "markdown",
   "id": "b301abcb",
   "metadata": {},
   "source": [
    "The data in newspaper is right skewed "
   ]
  },
  {
   "cell_type": "code",
   "execution_count": 28,
   "id": "3289c725",
   "metadata": {},
   "outputs": [
    {
     "data": {
      "image/png": "[encoded data removed]",
      "text/plain": [
       "<Figure size 1584x1584 with 24 Axes>"
      ]
     },
     "metadata": {
      "needs_background": "light"
     },
     "output_type": "display_data"
    }
   ],
   "source": [
    "df.plot(kind='kde',subplots=True,layout=(4,6),figsize=(22,22),fontsize=14)\n",
    "plt.show()\n",
    "\n",
    "# Plotting the Skewness of all variables in dataset with subplots"
   ]
  },
  {
   "cell_type": "markdown",
   "id": "0c755948",
   "metadata": {},
   "source": [
    "# Multivariate analysis:"
   ]
  },
  {
   "cell_type": "code",
   "execution_count": 29,
   "id": "beef575c",
   "metadata": {},
   "outputs": [
    {
     "data": {
      "text/plain": [
       "<seaborn.axisgrid.PairGrid at 0x1f875e47d90>"
      ]
     },
     "execution_count": 29,
     "metadata": {},
     "output_type": "execute_result"
    },
    {
     "data": {
      "image/png": "[encoded data removed]",
      "text/plain": [
       "<Figure size 720x720 with 20 Axes>"
      ]
     },
     "metadata": {
      "needs_background": "light"
     },
     "output_type": "display_data"
    }
   ],
   "source": [
    "sns.pairplot(df)"
   ]
  },
  {
   "cell_type": "markdown",
   "id": "53d26d5a",
   "metadata": {},
   "source": [
    "# Plotting each variable against target variable"
   ]
  },
  {
   "cell_type": "code",
   "execution_count": 30,
   "id": "b27d866e",
   "metadata": {},
   "outputs": [
    {
     "data": {
      "image/png": "[encoded data removed]",
      "text/plain": [
       "<Figure size 432x432 with 1 Axes>"
      ]
     },
     "metadata": {
      "needs_background": "light"
     },
     "output_type": "display_data"
    }
   ],
   "source": [
    "sns.pairplot(x_vars='TV',y_vars='sales',data=df,size=6)\n",
    "plt.xticks(fontsize=10)\n",
    "plt.yticks(fontsize=10)\n",
    "plt.show()"
   ]
  },
  {
   "cell_type": "code",
   "execution_count": 31,
   "id": "4894c78d",
   "metadata": {},
   "outputs": [
    {
     "data": {
      "image/png": "[encoded data removed]",
      "text/plain": [
       "<Figure size 432x432 with 1 Axes>"
      ]
     },
     "metadata": {
      "needs_background": "light"
     },
     "output_type": "display_data"
    }
   ],
   "source": [
    "sns.pairplot(x_vars='radio',y_vars='sales',data=df,size=6)\n",
    "plt.xticks(fontsize=10)\n",
    "plt.yticks(fontsize=10)\n",
    "plt.show()"
   ]
  },
  {
   "cell_type": "code",
   "execution_count": 32,
   "id": "29c833e3",
   "metadata": {},
   "outputs": [
    {
     "data": {
      "image/png": "[encoded data removed]",
      "text/plain": [
       "<Figure size 432x432 with 1 Axes>"
      ]
     },
     "metadata": {
      "needs_background": "light"
     },
     "output_type": "display_data"
    }
   ],
   "source": [
    "sns.pairplot(x_vars='newspaper',y_vars='sales',data=df,size=6)\n",
    "plt.xticks(fontsize=10)\n",
    "plt.yticks(fontsize=10)\n",
    "plt.show()"
   ]
  },
  {
   "cell_type": "markdown",
   "id": "dcfe2ce8",
   "metadata": {},
   "source": [
    "# Removing Outliers"
   ]
  },
  {
   "cell_type": "code",
   "execution_count": 33,
   "id": "f9818b47",
   "metadata": {},
   "outputs": [],
   "source": [
    "from scipy.stats import zscore"
   ]
  },
  {
   "cell_type": "code",
   "execution_count": 34,
   "id": "23fd549e",
   "metadata": {},
   "outputs": [],
   "source": [
    "z=np.abs(zscore(df))"
   ]
  },
  {
   "cell_type": "code",
   "execution_count": 35,
   "id": "e82b97ef",
   "metadata": {},
   "outputs": [
    {
     "data": {
      "text/plain": [
       "(200, 4)"
      ]
     },
     "execution_count": 35,
     "metadata": {},
     "output_type": "execute_result"
    }
   ],
   "source": [
    "z.shape"
   ]
  },
  {
   "cell_type": "code",
   "execution_count": 36,
   "id": "23ae600e",
   "metadata": {},
   "outputs": [
    {
     "name": "stdout",
     "output_type": "stream",
     "text": [
      "(array([ 16, 101], dtype=int64), array([2, 2], dtype=int64))\n"
     ]
    }
   ],
   "source": [
    "#We are taking threshold=3\n",
    "threshold=3\n",
    "print(np.where(z>3))"
   ]
  },
  {
   "cell_type": "markdown",
   "id": "1d196d60",
   "metadata": {},
   "source": [
    "This is displaying all the rows and columns where the value is above +3 Standard Deviation These are all the index locations of the outliers present in the dataset"
   ]
  },
  {
   "cell_type": "code",
   "execution_count": 37,
   "id": "0282d369",
   "metadata": {},
   "outputs": [
    {
     "name": "stdout",
     "output_type": "stream",
     "text": [
      "(200, 4)\n",
      "(198, 4)\n"
     ]
    }
   ],
   "source": [
    "df_new=df[(z<3).all(axis=1)]\n",
    "print(df.shape)\n",
    "print(df_new.shape)"
   ]
  },
  {
   "cell_type": "code",
   "execution_count": 38,
   "id": "44fb5eeb",
   "metadata": {},
   "outputs": [
    {
     "data": {
      "text/plain": [
       "(200, 4)"
      ]
     },
     "execution_count": 38,
     "metadata": {},
     "output_type": "execute_result"
    }
   ],
   "source": [
    "df.shape                             #shape of dataset with outliers"
   ]
  },
  {
   "cell_type": "code",
   "execution_count": 39,
   "id": "92bc29f2",
   "metadata": {},
   "outputs": [
    {
     "data": {
      "text/plain": [
       "(198, 4)"
      ]
     },
     "execution_count": 39,
     "metadata": {},
     "output_type": "execute_result"
    }
   ],
   "source": [
    "df_new.shape                         #shape of nw dataset without outliers"
   ]
  },
  {
   "cell_type": "code",
   "execution_count": 40,
   "id": "e4316341",
   "metadata": {},
   "outputs": [
    {
     "data": {
      "text/html": [
       "<div>\n",
       "<style scoped>\n",
       "    .dataframe tbody tr th:only-of-type {\n",
       "        vertical-align: middle;\n",
       "    }\n",
       "\n",
       "    .dataframe tbody tr th {\n",
       "        vertical-align: top;\n",
       "    }\n",
       "\n",
       "    .dataframe thead th {\n",
       "        text-align: right;\n",
       "    }\n",
       "</style>\n",
       "<table border=\"1\" class=\"dataframe\">\n",
       "  <thead>\n",
       "    <tr style=\"text-align: right;\">\n",
       "      <th></th>\n",
       "      <th>TV</th>\n",
       "      <th>radio</th>\n",
       "      <th>newspaper</th>\n",
       "      <th>sales</th>\n",
       "    </tr>\n",
       "  </thead>\n",
       "  <tbody>\n",
       "    <tr>\n",
       "      <th>0</th>\n",
       "      <td>230.1</td>\n",
       "      <td>37.8</td>\n",
       "      <td>69.2</td>\n",
       "      <td>22.1</td>\n",
       "    </tr>\n",
       "    <tr>\n",
       "      <th>1</th>\n",
       "      <td>44.5</td>\n",
       "      <td>39.3</td>\n",
       "      <td>45.1</td>\n",
       "      <td>10.4</td>\n",
       "    </tr>\n",
       "    <tr>\n",
       "      <th>2</th>\n",
       "      <td>17.2</td>\n",
       "      <td>45.9</td>\n",
       "      <td>69.3</td>\n",
       "      <td>9.3</td>\n",
       "    </tr>\n",
       "    <tr>\n",
       "      <th>3</th>\n",
       "      <td>151.5</td>\n",
       "      <td>41.3</td>\n",
       "      <td>58.5</td>\n",
       "      <td>18.5</td>\n",
       "    </tr>\n",
       "    <tr>\n",
       "      <th>4</th>\n",
       "      <td>180.8</td>\n",
       "      <td>10.8</td>\n",
       "      <td>58.4</td>\n",
       "      <td>12.9</td>\n",
       "    </tr>\n",
       "    <tr>\n",
       "      <th>...</th>\n",
       "      <td>...</td>\n",
       "      <td>...</td>\n",
       "      <td>...</td>\n",
       "      <td>...</td>\n",
       "    </tr>\n",
       "    <tr>\n",
       "      <th>195</th>\n",
       "      <td>38.2</td>\n",
       "      <td>3.7</td>\n",
       "      <td>13.8</td>\n",
       "      <td>7.6</td>\n",
       "    </tr>\n",
       "    <tr>\n",
       "      <th>196</th>\n",
       "      <td>94.2</td>\n",
       "      <td>4.9</td>\n",
       "      <td>8.1</td>\n",
       "      <td>9.7</td>\n",
       "    </tr>\n",
       "    <tr>\n",
       "      <th>197</th>\n",
       "      <td>177.0</td>\n",
       "      <td>9.3</td>\n",
       "      <td>6.4</td>\n",
       "      <td>12.8</td>\n",
       "    </tr>\n",
       "    <tr>\n",
       "      <th>198</th>\n",
       "      <td>283.6</td>\n",
       "      <td>42.0</td>\n",
       "      <td>66.2</td>\n",
       "      <td>25.5</td>\n",
       "    </tr>\n",
       "    <tr>\n",
       "      <th>199</th>\n",
       "      <td>232.1</td>\n",
       "      <td>8.6</td>\n",
       "      <td>8.7</td>\n",
       "      <td>13.4</td>\n",
       "    </tr>\n",
       "  </tbody>\n",
       "</table>\n",
       "<p>198 rows × 4 columns</p>\n",
       "</div>"
      ],
      "text/plain": [
       "        TV  radio  newspaper  sales\n",
       "0    230.1   37.8       69.2   22.1\n",
       "1     44.5   39.3       45.1   10.4\n",
       "2     17.2   45.9       69.3    9.3\n",
       "3    151.5   41.3       58.5   18.5\n",
       "4    180.8   10.8       58.4   12.9\n",
       "..     ...    ...        ...    ...\n",
       "195   38.2    3.7       13.8    7.6\n",
       "196   94.2    4.9        8.1    9.7\n",
       "197  177.0    9.3        6.4   12.8\n",
       "198  283.6   42.0       66.2   25.5\n",
       "199  232.1    8.6        8.7   13.4\n",
       "\n",
       "[198 rows x 4 columns]"
      ]
     },
     "execution_count": 40,
     "metadata": {},
     "output_type": "execute_result"
    }
   ],
   "source": [
    "df_new"
   ]
  },
  {
   "cell_type": "markdown",
   "id": "08b26719",
   "metadata": {},
   "source": [
    "Picking all the Dataset with zscore of Standard Deviation 3 or less and assigning it to new variable \"df_new\""
   ]
  },
  {
   "cell_type": "markdown",
   "id": "9afb62af",
   "metadata": {},
   "source": [
    "# Percentage Data loss:"
   ]
  },
  {
   "cell_type": "code",
   "execution_count": 41,
   "id": "60d0da4f",
   "metadata": {},
   "outputs": [
    {
     "data": {
      "text/plain": [
       "1.0"
      ]
     },
     "execution_count": 41,
     "metadata": {},
     "output_type": "execute_result"
    }
   ],
   "source": [
    "Data_loss=((200-198)/200)*100\n",
    "Data_loss"
   ]
  },
  {
   "cell_type": "code",
   "execution_count": 42,
   "id": "7f7851dd",
   "metadata": {},
   "outputs": [
    {
     "data": {
      "text/plain": [
       "(198, 4)"
      ]
     },
     "execution_count": 42,
     "metadata": {},
     "output_type": "execute_result"
    }
   ],
   "source": [
    "df=df_new\n",
    "df.shape\n",
    "\n",
    "# Assigning the Outlier free new dataset to \"df\" variable"
   ]
  },
  {
   "cell_type": "markdown",
   "id": "fa7265ee",
   "metadata": {},
   "source": [
    "Percentage loss is not more than 5 percent."
   ]
  },
  {
   "cell_type": "markdown",
   "id": "fec4b7d8",
   "metadata": {},
   "source": [
    "# Skewness removal:"
   ]
  },
  {
   "cell_type": "code",
   "execution_count": 43,
   "id": "7df40126",
   "metadata": {},
   "outputs": [
    {
     "data": {
      "text/plain": [
       "TV          -0.082332\n",
       "radio        0.114842\n",
       "newspaper    0.650112\n",
       "sales        0.407130\n",
       "dtype: float64"
      ]
     },
     "execution_count": 43,
     "metadata": {},
     "output_type": "execute_result"
    }
   ],
   "source": [
    "df.skew()\n",
    "\n",
    "# Checking the skewness of the dataset and only newspaper column is over skewed"
   ]
  },
  {
   "cell_type": "markdown",
   "id": "64079a61",
   "metadata": {},
   "source": [
    "# Dividing data in x and y:"
   ]
  },
  {
   "cell_type": "code",
   "execution_count": 48,
   "id": "a7b83a29",
   "metadata": {},
   "outputs": [],
   "source": [
    "x=df.drop(columns=['sales'])     #taking all independent variable into x\n",
    "y=df['sales']                     #taking dependent variable into y"
   ]
  },
  {
   "cell_type": "code",
   "execution_count": 49,
   "id": "e6b39405",
   "metadata": {},
   "outputs": [
    {
     "data": {
      "text/plain": [
       "TV           float64\n",
       "radio        float64\n",
       "newspaper    float64\n",
       "dtype: object"
      ]
     },
     "execution_count": 49,
     "metadata": {},
     "output_type": "execute_result"
    }
   ],
   "source": [
    "x.dtypes"
   ]
  },
  {
   "cell_type": "code",
   "execution_count": 50,
   "id": "a767c4b5",
   "metadata": {},
   "outputs": [
    {
     "data": {
      "text/plain": [
       "array([[ 9.55983058e-01,  9.69109801e-01,  1.61509355e+00],\n",
       "       [-1.19200349e+00,  1.04623436e+00,  8.26590859e-01],\n",
       "       [-1.64612530e+00,  1.37296802e+00,  1.61802880e+00],\n",
       "       [ 1.42934281e-01,  1.14733160e+00,  1.28681016e+00],\n",
       "       [ 4.56452411e-01, -7.35026416e-01,  1.28359716e+00],\n",
       "       [-1.82040080e+00,  1.51543955e+00,  1.78175124e+00],\n",
       "       [-1.00349358e+00,  7.03096422e-01, -1.08177137e-01],\n",
       "       [-2.09960489e-01, -8.76566044e-02, -8.44950435e-01],\n",
       "       [-1.82264543e+00, -1.62948287e+00, -2.12060019e+00],\n",
       "       [ 6.52694004e-01, -1.56152179e+00, -2.31466561e-01],\n",
       "       [-8.84827613e-01, -1.19258569e+00, -7.19382978e-02],\n",
       "       [ 8.03220284e-01,  1.93575534e-01, -1.58123210e+00],\n",
       "       [-1.52567125e+00,  8.27259979e-01,  1.51692966e+00],\n",
       "       [-4.80903084e-01, -1.01613619e+00, -1.22075207e+00],\n",
       "       [ 6.96423742e-01,  7.08562678e-01,  8.59617390e-01],\n",
       "       [ 6.07694561e-01,  1.45886692e+00,  1.10213697e+00],\n",
       "       [ 1.44702338e+00,  1.06152278e+00,  1.19900616e+00],\n",
       "       [-8.43041085e-01, -2.83431489e-02, -3.97525260e-01],\n",
       "       [ 9.67615123e-02,  1.87411889e-01, -3.50400459e-01],\n",
       "       [ 8.40174791e-01,  4.15233033e-01,  1.11903687e+00],\n",
       "       [ 1.02746612e+00, -1.26608750e+00, -1.08177137e-01],\n",
       "       [-1.72466475e+00, -3.43080197e-01,  9.88397191e-01],\n",
       "       [ 9.38267420e-01, -2.72044379e-01,  2.86357038e-02],\n",
       "       [-9.36741865e-01, -5.90235876e-01, -3.97525260e-01],\n",
       "       [ 1.27285397e+00, -1.44792482e+00, -3.27230577e-01],\n",
       "       [ 4.80238801e-02,  5.07564879e-01, -7.70754158e-01],\n",
       "       [ 1.05376032e+00, -2.86123991e-01, -1.39697924e-01],\n",
       "       [ 1.13797152e+00,  3.80088814e-01, -1.39697924e-01],\n",
       "       [-8.24327694e-01, -3.35903511e-01,  6.63727416e-01],\n",
       "       [ 1.55379249e+00,  4.50089225e-01,  7.55695840e-01],\n",
       "       [-2.95525393e-01, -2.37113587e-01,  5.76857802e-01],\n",
       "       [-4.84586083e-01, -1.71704857e+00,  2.09054010e-01],\n",
       "       [ 1.29846636e+00, -6.11716920e-02, -2.37080716e+00],\n",
       "       [-5.03045189e-01, -1.73241480e+00, -1.20137700e+00],\n",
       "       [ 1.53345233e+00, -1.37714720e+00, -1.09943943e+00],\n",
       "       [ 1.31077419e+00,  1.27109462e+00, -1.45605743e+00],\n",
       "       [-7.70061569e-01,  1.53885314e+00,  8.48647098e-01],\n",
       "       [-1.21308859e+00,  3.56495087e-01,  4.33037810e-01],\n",
       "       [ 9.35311305e-01,  9.63926811e-01,  2.99137214e-01],\n",
       "       [ 6.80180313e-01,  8.74288556e-02,  2.81365432e-01],\n",
       "       [ 4.16577398e-01,  7.35799328e-01,  5.80862743e-01],\n",
       "       [ 1.56025605e+00,  4.15233033e-01, -1.93445876e+00],\n",
       "       [ 7.24770763e-01, -9.42463931e-01,  3.84653216e-02],\n",
       "       [-1.50299171e+00,  2.96916329e-01,  7.59468067e-01],\n",
       "       [ 3.96557056e-01,  1.00071323e-01,  2.76903823e-01],\n",
       "       [-5.77642501e-01, -8.10672032e-01,  4.58217487e-01],\n",
       "       [ 1.05181524e+00,  1.15733673e+00, -3.85643258e-01],\n",
       "       [ 9.27423407e-01, -3.50273618e-01,  9.98900655e-01],\n",
       "       [-8.73996819e-01, -6.61620535e-01,  5.03802095e-01],\n",
       "       [ 6.52694004e-01, -1.49718987e+00,  4.11879273e-01],\n",
       "       [-4.45449379e-01, -8.36428828e-01, -1.63588033e+00],\n",
       "       [ 8.20219674e-01,  1.16732335e+00,  6.16662096e-01],\n",
       "       [ 4.75264815e-01,  1.38737344e+00,  1.29322739e+00],\n",
       "       [ 1.27095405e+00,  4.78921950e-01, -5.45855828e-01],\n",
       "       [ 6.43510597e-01,  1.53885314e+00,  1.33465817e+00],\n",
       "       [-1.85241088e+00,  4.38501983e-01,  6.86983801e-01],\n",
       "       [-2.69424634e-02, -1.14344725e-01, -5.01434378e-01],\n",
       "       [ 7.64089395e-01,  1.54819296e+00,  5.40562004e-01],\n",
       "       [ 7.63083589e-01,  5.18969888e-01, -1.02961692e+00],\n",
       "       [-1.06021399e+00, -1.64357954e+00, -2.20472281e-01],\n",
       "       [ 1.25764412e+00,  1.21698291e+00,  1.16258592e+00],\n",
       "       [ 1.04597746e+00, -3.71955683e-01,  8.22164123e-02],\n",
       "       [-4.17518113e-01,  5.24661351e-01, -1.10840723e+00],\n",
       "       [-8.46453587e-02,  1.22192414e+00,  1.58143304e-01],\n",
       "       [-8.45722309e-01, -8.62474197e-01, -2.14875676e+00],\n",
       "       [-1.39528628e+00,  2.30355644e-01, -1.85792151e+00],\n",
       "       [ 7.85901566e-03, -4.45376974e-01, -9.54760171e-01],\n",
       "       [ 1.02746612e+00,  4.03550712e-01, -8.91102183e-01],\n",
       "       [ 8.24214502e-01,  1.27598779e+00,  7.73934102e-02],\n",
       "       [ 6.45552281e-01,  5.81178989e-01,  5.80862743e-01],\n",
       "       [-3.32289453e-01, -4.60282537e-01,  2.85819540e-01],\n",
       "       [-1.47377148e+00,  7.14022591e-01, -3.38783676e-01],\n",
       "       [-1.04007607e-01, -1.20289700e+00,  2.67957953e-01],\n",
       "       [ 7.90197248e-01,  2.30355644e-01, -7.34824405e-01],\n",
       "       [-1.65184774e+00,  1.26619715e+00,  2.16788591e+00],\n",
       "       [-1.46187563e+00, -1.70192244e+00, -2.59195467e-01],\n",
       "       [-2.06473264e-01,  4.61645376e-01, -6.58253256e-01],\n",
       "       [-1.89822804e+00,  5.41691977e-01, -1.02111579e+00],\n",
       "       [-2.59020528e-01, -1.00678392e+00, -1.29142793e-01],\n",
       "       [-7.47786505e-01,  3.56495087e-01, -1.71660332e-01],\n",
       "       [ 1.05084254e+00, -1.37714720e+00,  5.07909982e-01],\n",
       "       [-7.62185079e-01, -4.14381211e-02,  3.21186619e-01],\n",
       "       [-8.53777962e-01,  1.30525722e+00,  4.54036597e-01],\n",
       "       [ 7.91199747e-01,  1.23179329e+00,  3.77684448e-01],\n",
       "       [ 5.85096748e-01, -1.68353388e-01,  1.51089695e+00],\n",
       "       [-7.49093259e-01,  4.03550712e-01, -5.39447322e-01],\n",
       "       [-3.21588787e-01,  1.11216604e+00,  1.43464595e+00],\n",
       "       [-5.95230843e-01,  2.84895857e-01,  1.73648477e+00],\n",
       "       [-3.32289453e-01,  1.46360210e+00,  1.05092019e+00],\n",
       "       [-4.83733557e-02, -1.28768913e+00, -1.02961692e+00],\n",
       "       [-1.44333425e+00, -1.71704857e+00,  3.43056344e-01],\n",
       "       [ 8.33195900e-01,  7.41227911e-01,  1.30283141e+00],\n",
       "       [ 1.15818339e+00,  9.01314021e-01,  1.70505797e+00],\n",
       "       [-3.60935766e-01, -4.82785497e-01, -8.98922466e-01],\n",
       "       [ 2.70930405e-01,  6.36996883e-01,  1.10213697e+00],\n",
       "       [ 6.30226675e-01, -1.44792482e+00, -1.35426878e+00],\n",
       "       [ 4.99233291e-01,  4.18623581e-03, -1.87812802e-01],\n",
       "       [ 1.52419364e+00,  1.19717332e+00,  1.04403142e+00],\n",
       "       [-3.82121960e-02,  1.16732335e+00,  8.55964872e-01],\n",
       "       [ 8.79943885e-01, -1.35429375e+00,  9.95403248e-01],\n",
       "       [ 1.43581778e+00, -7.93655685e-01, -2.20472281e-01],\n",
       "       [ 5.30381051e-01, -2.51040510e-01, -4.21497635e-01],\n",
       "       [ 1.03526502e+00,  7.84435819e-01, -1.42112992e+00],\n",
       "       [-7.83276627e-03,  1.39695704e+00,  1.30283141e+00],\n",
       "       [-1.50472569e+00, -7.18528744e-01,  1.95269098e-01],\n",
       "       [-5.68874824e-01, -1.92277996e+00, -1.23883423e-01],\n",
       "       [-1.72669682e+00, -1.90334954e+00, -1.09472329e-03],\n",
       "       [ 1.20134779e+00,  3.68308593e-01, -1.39841990e+00],\n",
       "       [ 9.13602262e-01, -9.60642725e-01,  1.22198374e+00],\n",
       "       [ 1.06930594e+00,  9.79460034e-01, -1.23883423e-01],\n",
       "       [ 4.02885307e-01, -3.79217450e-01, -1.82238465e+00],\n",
       "       [ 7.52011554e-01, -2.18136487e-02, -9.14677647e-01],\n",
       "       [-7.24339293e-01,  1.41607663e+00,  4.07628086e-01],\n",
       "       [-7.64808781e-01,  8.21927536e-01,  1.09535318e+00],\n",
       "       [ 6.73952813e-03, -4.60282537e-01, -1.09472329e-03],\n",
       "       [-7.47786505e-01, -1.83055994e+00, -6.17808583e-01],\n",
       "       [-1.46377645e-01,  9.22271411e-01,  1.89817966e+00],\n",
       "       [-1.60487761e+00, -3.35903511e-01, -1.71660332e-01],\n",
       "       [ 3.02054628e-02,  3.62406022e-01,  8.66909762e-01],\n",
       "       [-1.61600701e+00,  4.92426558e-02,  1.01633194e+00],\n",
       "       [ 8.95799585e-01, -1.58822992e+00, -5.65210541e-01],\n",
       "       [-1.76343635e-01,  8.00539201e-01, -7.85337018e-01],\n",
       "       [ 9.50081843e-01,  6.75669076e-01,  1.75918310e+00],\n",
       "       [-6.09100568e-01, -6.53592729e-01,  1.38162292e-02],\n",
       "       [-1.84082856e+00,  1.02577993e+00,  1.02327864e+00],\n",
       "       [-6.98448651e-01, -1.98495808e+00, -1.03816647e+00],\n",
       "       [ 8.59088401e-01,  1.52012963e+00, -1.69381668e+00],\n",
       "       [-9.74121042e-01, -6.37610795e-01,  7.51918960e-01],\n",
       "       [-2.03323356e+00,  1.06152278e+00, -1.08166941e+00],\n",
       "       [ 1.29467620e+00, -1.52253007e+00,  7.48137411e-01],\n",
       "       [-1.82715302e+00,  3.85966546e-01, -1.87632382e+00],\n",
       "       [ 8.54115242e-01,  7.41227911e-01,  8.26590859e-01],\n",
       "       [-1.30867028e+00,  1.01038610e+00,  1.50787693e+00],\n",
       "       [-1.13560137e+00,  1.42561279e+00, -1.09943943e+00],\n",
       "       [-1.49434751e+00,  1.03090107e+00, -1.02961692e+00],\n",
       "       [ 1.37490294e+00,  4.84665578e-01,  1.32514003e+00],\n",
       "       [-1.21460127e+00,  3.08901412e-01, -2.70386461e-01],\n",
       "       [ 4.99233291e-01,  1.27598779e+00, -1.95494843e+00],\n",
       "       [-7.87183238e-01, -2.65027803e-01, -7.49107685e-01],\n",
       "       [ 5.90238432e-01,  8.43222533e-01,  1.79859318e+00],\n",
       "       [ 8.61076847e-01,  7.24923490e-01,  5.48667251e-01],\n",
       "       [-3.94565765e-01, -1.20289700e+00,  4.03370339e-01],\n",
       "       [-4.96883939e-01, -4.23159794e-01,  5.88856134e-01],\n",
       "       [ 1.90425158e-02, -1.65786243e+00, -1.05541406e+00],\n",
       "       [ 1.05376032e+00, -1.04445327e+00, -1.08166941e+00],\n",
       "       [ 1.08385578e+00,  1.52012963e+00,  7.96938023e-01],\n",
       "       [-1.29143203e+00,  1.09702388e+00, -8.22347919e-01],\n",
       "       [-1.18900520e+00,  3.02913271e-01, -2.64783757e-01],\n",
       "       [ 1.44048829e+00, -4.90325762e-01,  5.12011949e-01],\n",
       "       [-2.00666192e-01, -9.42463931e-01,  9.56682128e-01],\n",
       "       [ 6.30226675e-01,  1.50223313e-01, -6.58253256e-01],\n",
       "       [ 3.56346926e-01,  1.06660903e+00,  5.40562004e-01],\n",
       "       [ 5.29344873e-01,  1.06570530e-02, -1.01266229e+00],\n",
       "       [-1.93163495e+00, -6.69673260e-01, -1.37614044e+00],\n",
       "       [-5.25294689e-01,  1.25638925e+00,  1.01980712e+00],\n",
       "       [ 1.24285632e-01, -1.74803521e+00, -6.68069942e-02],\n",
       "       [-1.75555556e+00,  9.22271411e-01,  8.30277704e-01],\n",
       "       [-7.78271156e-02, -1.68353388e-01,  4.11879273e-01],\n",
       "       [ 3.69069534e-01, -1.88831807e-01,  2.40936456e-01],\n",
       "       [-6.28086545e-01,  8.64425620e-01,  9.77859827e-01],\n",
       "       [ 5.35559799e-01, -1.88831807e-01, -1.09472329e-03],\n",
       "       [ 2.73078805e-01,  9.17040259e-01, -1.20137700e+00],\n",
       "       [-2.44957339e-01, -4.30546922e-01, -1.40971959e+00],\n",
       "       [ 9.99137820e-01, -1.46007371e+00,  2.04840493e+00],\n",
       "       [-1.63286723e+00,  9.58738548e-01, -2.09532402e-01],\n",
       "       [ 7.23760085e-01, -1.25539136e+00, -3.32999228e-01],\n",
       "       [ 8.10224235e-01,  1.68862229e-01,  1.25778689e+00],\n",
       "       [ 1.47405264e+00, -7.51634521e-01, -1.30124129e+00],\n",
       "       [-1.11073781e+00, -6.69673260e-01, -3.91575697e-01],\n",
       "       [ 2.83810642e-01, -2.29616877e-03,  9.10315133e-01],\n",
       "       [-1.60118681e+00, -5.45815801e-02, -4.76495675e-01],\n",
       "       [ 3.25505056e-01, -1.06355551e+00, -7.56293285e-01],\n",
       "       [ 8.79943885e-01, -1.46007371e+00, -7.34824405e-01],\n",
       "       [ 1.40493806e+00,  1.51543955e+00,  7.02388506e-01],\n",
       "       [ 1.13411664e+00,  5.58657645e-01, -2.81635542e-01],\n",
       "       [ 3.44664290e-01, -9.97473864e-01,  4.37250236e-01],\n",
       "       [ 1.40306351e+00, -1.60181548e+00, -9.77653591e-02],\n",
       "       [ 2.95596216e-01, -8.02148636e-01, -4.39663920e-01],\n",
       "       [ 1.98559462e-01, -1.56152179e+00, -1.11743156e+00],\n",
       "       [ 8.41171303e-01, -1.23420066e+00,  8.70300355e-02],\n",
       "       [-1.02181379e+00, -1.20289700e+00,  1.95269098e-01],\n",
       "       [ 1.50472337e+00,  1.23179329e+00,  1.69068875e+00],\n",
       "       [ 1.18602318e+00,  2.35642166e-02,  2.09054010e-01],\n",
       "       [ 7.05546191e-01,  1.33437513e+00, -3.21477599e-01],\n",
       "       [ 1.00973688e-02, -1.62948287e+00,  4.82554530e-02],\n",
       "       [ 5.63463957e-01,  4.73170731e-01, -4.03492089e-01],\n",
       "       [ 1.48986416e+00, -4.90325762e-01, -1.62193131e+00],\n",
       "       [-1.61787038e+00, -6.29656140e-01, -1.13400672e-01],\n",
       "       [-1.26812741e+00,  1.13730782e+00, -1.36515498e+00],\n",
       "       [-7.59563165e-01, -7.35026416e-01, -1.34347931e+00],\n",
       "       [-1.64612530e+00, -1.37714720e+00,  2.81365432e-01],\n",
       "       [ 3.08430163e-01,  1.18226883e+00, -1.63588033e+00],\n",
       "       [ 1.23186956e-01,  8.53835478e-01, -1.34347931e+00],\n",
       "       [-1.28831146e+00, -1.42394128e+00, -6.85721297e-01],\n",
       "       [-5.21578873e-01, -1.28768913e+00, -1.13565398e+00],\n",
       "       [ 4.16577398e-01, -8.62474197e-01, -1.30124129e+00],\n",
       "       [ 1.46753490e+00,  1.18226883e+00,  1.52596045e+00],\n",
       "       [ 9.75625093e-01, -9.24436754e-01, -1.08166941e+00]])"
      ]
     },
     "execution_count": 50,
     "metadata": {},
     "output_type": "execute_result"
    }
   ],
   "source": [
    "from sklearn.preprocessing import power_transform\n",
    "x=power_transform(x,method='yeo-johnson')\n",
    "x\n",
    "\n",
    "#using power transform method to remove skewness"
   ]
  },
  {
   "cell_type": "markdown",
   "id": "05f68c55",
   "metadata": {},
   "source": [
    "# Applying Standard Scaler"
   ]
  },
  {
   "cell_type": "code",
   "execution_count": 51,
   "id": "5ea44e09",
   "metadata": {},
   "outputs": [
    {
     "data": {
      "text/plain": [
       "array([[ 9.55983058e-01,  9.69109801e-01,  1.61509355e+00],\n",
       "       [-1.19200349e+00,  1.04623436e+00,  8.26590859e-01],\n",
       "       [-1.64612530e+00,  1.37296802e+00,  1.61802880e+00],\n",
       "       [ 1.42934281e-01,  1.14733160e+00,  1.28681016e+00],\n",
       "       [ 4.56452411e-01, -7.35026416e-01,  1.28359716e+00],\n",
       "       [-1.82040080e+00,  1.51543955e+00,  1.78175124e+00],\n",
       "       [-1.00349358e+00,  7.03096422e-01, -1.08177137e-01],\n",
       "       [-2.09960489e-01, -8.76566044e-02, -8.44950435e-01],\n",
       "       [-1.82264543e+00, -1.62948287e+00, -2.12060019e+00],\n",
       "       [ 6.52694004e-01, -1.56152179e+00, -2.31466561e-01],\n",
       "       [-8.84827613e-01, -1.19258569e+00, -7.19382978e-02],\n",
       "       [ 8.03220284e-01,  1.93575534e-01, -1.58123210e+00],\n",
       "       [-1.52567125e+00,  8.27259979e-01,  1.51692966e+00],\n",
       "       [-4.80903084e-01, -1.01613619e+00, -1.22075207e+00],\n",
       "       [ 6.96423742e-01,  7.08562678e-01,  8.59617390e-01],\n",
       "       [ 6.07694561e-01,  1.45886692e+00,  1.10213697e+00],\n",
       "       [ 1.44702338e+00,  1.06152278e+00,  1.19900616e+00],\n",
       "       [-8.43041085e-01, -2.83431489e-02, -3.97525260e-01],\n",
       "       [ 9.67615123e-02,  1.87411889e-01, -3.50400459e-01],\n",
       "       [ 8.40174791e-01,  4.15233033e-01,  1.11903687e+00],\n",
       "       [ 1.02746612e+00, -1.26608750e+00, -1.08177137e-01],\n",
       "       [-1.72466475e+00, -3.43080197e-01,  9.88397191e-01],\n",
       "       [ 9.38267420e-01, -2.72044379e-01,  2.86357038e-02],\n",
       "       [-9.36741865e-01, -5.90235876e-01, -3.97525260e-01],\n",
       "       [ 1.27285397e+00, -1.44792482e+00, -3.27230577e-01],\n",
       "       [ 4.80238801e-02,  5.07564879e-01, -7.70754158e-01],\n",
       "       [ 1.05376032e+00, -2.86123991e-01, -1.39697924e-01],\n",
       "       [ 1.13797152e+00,  3.80088814e-01, -1.39697924e-01],\n",
       "       [-8.24327694e-01, -3.35903511e-01,  6.63727416e-01],\n",
       "       [ 1.55379249e+00,  4.50089225e-01,  7.55695840e-01],\n",
       "       [-2.95525393e-01, -2.37113587e-01,  5.76857802e-01],\n",
       "       [-4.84586083e-01, -1.71704857e+00,  2.09054010e-01],\n",
       "       [ 1.29846636e+00, -6.11716920e-02, -2.37080716e+00],\n",
       "       [-5.03045189e-01, -1.73241480e+00, -1.20137700e+00],\n",
       "       [ 1.53345233e+00, -1.37714720e+00, -1.09943943e+00],\n",
       "       [ 1.31077419e+00,  1.27109462e+00, -1.45605743e+00],\n",
       "       [-7.70061569e-01,  1.53885314e+00,  8.48647098e-01],\n",
       "       [-1.21308859e+00,  3.56495087e-01,  4.33037810e-01],\n",
       "       [ 9.35311305e-01,  9.63926811e-01,  2.99137214e-01],\n",
       "       [ 6.80180313e-01,  8.74288556e-02,  2.81365432e-01],\n",
       "       [ 4.16577398e-01,  7.35799328e-01,  5.80862743e-01],\n",
       "       [ 1.56025605e+00,  4.15233033e-01, -1.93445876e+00],\n",
       "       [ 7.24770763e-01, -9.42463931e-01,  3.84653216e-02],\n",
       "       [-1.50299171e+00,  2.96916329e-01,  7.59468067e-01],\n",
       "       [ 3.96557056e-01,  1.00071323e-01,  2.76903823e-01],\n",
       "       [-5.77642501e-01, -8.10672032e-01,  4.58217487e-01],\n",
       "       [ 1.05181524e+00,  1.15733673e+00, -3.85643258e-01],\n",
       "       [ 9.27423407e-01, -3.50273618e-01,  9.98900655e-01],\n",
       "       [-8.73996819e-01, -6.61620535e-01,  5.03802095e-01],\n",
       "       [ 6.52694004e-01, -1.49718987e+00,  4.11879273e-01],\n",
       "       [-4.45449379e-01, -8.36428828e-01, -1.63588033e+00],\n",
       "       [ 8.20219674e-01,  1.16732335e+00,  6.16662096e-01],\n",
       "       [ 4.75264815e-01,  1.38737344e+00,  1.29322739e+00],\n",
       "       [ 1.27095405e+00,  4.78921950e-01, -5.45855828e-01],\n",
       "       [ 6.43510597e-01,  1.53885314e+00,  1.33465817e+00],\n",
       "       [-1.85241088e+00,  4.38501983e-01,  6.86983801e-01],\n",
       "       [-2.69424634e-02, -1.14344725e-01, -5.01434378e-01],\n",
       "       [ 7.64089395e-01,  1.54819296e+00,  5.40562004e-01],\n",
       "       [ 7.63083589e-01,  5.18969888e-01, -1.02961692e+00],\n",
       "       [-1.06021399e+00, -1.64357954e+00, -2.20472281e-01],\n",
       "       [ 1.25764412e+00,  1.21698291e+00,  1.16258592e+00],\n",
       "       [ 1.04597746e+00, -3.71955683e-01,  8.22164123e-02],\n",
       "       [-4.17518113e-01,  5.24661351e-01, -1.10840723e+00],\n",
       "       [-8.46453587e-02,  1.22192414e+00,  1.58143304e-01],\n",
       "       [-8.45722309e-01, -8.62474197e-01, -2.14875676e+00],\n",
       "       [-1.39528628e+00,  2.30355644e-01, -1.85792151e+00],\n",
       "       [ 7.85901566e-03, -4.45376974e-01, -9.54760171e-01],\n",
       "       [ 1.02746612e+00,  4.03550712e-01, -8.91102183e-01],\n",
       "       [ 8.24214502e-01,  1.27598779e+00,  7.73934102e-02],\n",
       "       [ 6.45552281e-01,  5.81178989e-01,  5.80862743e-01],\n",
       "       [-3.32289453e-01, -4.60282537e-01,  2.85819540e-01],\n",
       "       [-1.47377148e+00,  7.14022591e-01, -3.38783676e-01],\n",
       "       [-1.04007607e-01, -1.20289700e+00,  2.67957953e-01],\n",
       "       [ 7.90197248e-01,  2.30355644e-01, -7.34824405e-01],\n",
       "       [-1.65184774e+00,  1.26619715e+00,  2.16788591e+00],\n",
       "       [-1.46187563e+00, -1.70192244e+00, -2.59195467e-01],\n",
       "       [-2.06473264e-01,  4.61645376e-01, -6.58253256e-01],\n",
       "       [-1.89822804e+00,  5.41691977e-01, -1.02111579e+00],\n",
       "       [-2.59020528e-01, -1.00678392e+00, -1.29142793e-01],\n",
       "       [-7.47786505e-01,  3.56495087e-01, -1.71660332e-01],\n",
       "       [ 1.05084254e+00, -1.37714720e+00,  5.07909982e-01],\n",
       "       [-7.62185079e-01, -4.14381211e-02,  3.21186619e-01],\n",
       "       [-8.53777962e-01,  1.30525722e+00,  4.54036597e-01],\n",
       "       [ 7.91199747e-01,  1.23179329e+00,  3.77684448e-01],\n",
       "       [ 5.85096748e-01, -1.68353388e-01,  1.51089695e+00],\n",
       "       [-7.49093259e-01,  4.03550712e-01, -5.39447322e-01],\n",
       "       [-3.21588787e-01,  1.11216604e+00,  1.43464595e+00],\n",
       "       [-5.95230843e-01,  2.84895857e-01,  1.73648477e+00],\n",
       "       [-3.32289453e-01,  1.46360210e+00,  1.05092019e+00],\n",
       "       [-4.83733557e-02, -1.28768913e+00, -1.02961692e+00],\n",
       "       [-1.44333425e+00, -1.71704857e+00,  3.43056344e-01],\n",
       "       [ 8.33195900e-01,  7.41227911e-01,  1.30283141e+00],\n",
       "       [ 1.15818339e+00,  9.01314021e-01,  1.70505797e+00],\n",
       "       [-3.60935766e-01, -4.82785497e-01, -8.98922466e-01],\n",
       "       [ 2.70930405e-01,  6.36996883e-01,  1.10213697e+00],\n",
       "       [ 6.30226675e-01, -1.44792482e+00, -1.35426878e+00],\n",
       "       [ 4.99233291e-01,  4.18623581e-03, -1.87812802e-01],\n",
       "       [ 1.52419364e+00,  1.19717332e+00,  1.04403142e+00],\n",
       "       [-3.82121960e-02,  1.16732335e+00,  8.55964872e-01],\n",
       "       [ 8.79943885e-01, -1.35429375e+00,  9.95403248e-01],\n",
       "       [ 1.43581778e+00, -7.93655685e-01, -2.20472281e-01],\n",
       "       [ 5.30381051e-01, -2.51040510e-01, -4.21497635e-01],\n",
       "       [ 1.03526502e+00,  7.84435819e-01, -1.42112992e+00],\n",
       "       [-7.83276627e-03,  1.39695704e+00,  1.30283141e+00],\n",
       "       [-1.50472569e+00, -7.18528744e-01,  1.95269098e-01],\n",
       "       [-5.68874824e-01, -1.92277996e+00, -1.23883423e-01],\n",
       "       [-1.72669682e+00, -1.90334954e+00, -1.09472329e-03],\n",
       "       [ 1.20134779e+00,  3.68308593e-01, -1.39841990e+00],\n",
       "       [ 9.13602262e-01, -9.60642725e-01,  1.22198374e+00],\n",
       "       [ 1.06930594e+00,  9.79460034e-01, -1.23883423e-01],\n",
       "       [ 4.02885307e-01, -3.79217450e-01, -1.82238465e+00],\n",
       "       [ 7.52011554e-01, -2.18136487e-02, -9.14677647e-01],\n",
       "       [-7.24339293e-01,  1.41607663e+00,  4.07628086e-01],\n",
       "       [-7.64808781e-01,  8.21927536e-01,  1.09535318e+00],\n",
       "       [ 6.73952813e-03, -4.60282537e-01, -1.09472329e-03],\n",
       "       [-7.47786505e-01, -1.83055994e+00, -6.17808583e-01],\n",
       "       [-1.46377645e-01,  9.22271411e-01,  1.89817966e+00],\n",
       "       [-1.60487761e+00, -3.35903511e-01, -1.71660332e-01],\n",
       "       [ 3.02054628e-02,  3.62406022e-01,  8.66909762e-01],\n",
       "       [-1.61600701e+00,  4.92426558e-02,  1.01633194e+00],\n",
       "       [ 8.95799585e-01, -1.58822992e+00, -5.65210541e-01],\n",
       "       [-1.76343635e-01,  8.00539201e-01, -7.85337018e-01],\n",
       "       [ 9.50081843e-01,  6.75669076e-01,  1.75918310e+00],\n",
       "       [-6.09100568e-01, -6.53592729e-01,  1.38162292e-02],\n",
       "       [-1.84082856e+00,  1.02577993e+00,  1.02327864e+00],\n",
       "       [-6.98448651e-01, -1.98495808e+00, -1.03816647e+00],\n",
       "       [ 8.59088401e-01,  1.52012963e+00, -1.69381668e+00],\n",
       "       [-9.74121042e-01, -6.37610795e-01,  7.51918960e-01],\n",
       "       [-2.03323356e+00,  1.06152278e+00, -1.08166941e+00],\n",
       "       [ 1.29467620e+00, -1.52253007e+00,  7.48137411e-01],\n",
       "       [-1.82715302e+00,  3.85966546e-01, -1.87632382e+00],\n",
       "       [ 8.54115242e-01,  7.41227911e-01,  8.26590859e-01],\n",
       "       [-1.30867028e+00,  1.01038610e+00,  1.50787693e+00],\n",
       "       [-1.13560137e+00,  1.42561279e+00, -1.09943943e+00],\n",
       "       [-1.49434751e+00,  1.03090107e+00, -1.02961692e+00],\n",
       "       [ 1.37490294e+00,  4.84665578e-01,  1.32514003e+00],\n",
       "       [-1.21460127e+00,  3.08901412e-01, -2.70386461e-01],\n",
       "       [ 4.99233291e-01,  1.27598779e+00, -1.95494843e+00],\n",
       "       [-7.87183238e-01, -2.65027803e-01, -7.49107685e-01],\n",
       "       [ 5.90238432e-01,  8.43222533e-01,  1.79859318e+00],\n",
       "       [ 8.61076847e-01,  7.24923490e-01,  5.48667251e-01],\n",
       "       [-3.94565765e-01, -1.20289700e+00,  4.03370339e-01],\n",
       "       [-4.96883939e-01, -4.23159794e-01,  5.88856134e-01],\n",
       "       [ 1.90425158e-02, -1.65786243e+00, -1.05541406e+00],\n",
       "       [ 1.05376032e+00, -1.04445327e+00, -1.08166941e+00],\n",
       "       [ 1.08385578e+00,  1.52012963e+00,  7.96938023e-01],\n",
       "       [-1.29143203e+00,  1.09702388e+00, -8.22347919e-01],\n",
       "       [-1.18900520e+00,  3.02913271e-01, -2.64783757e-01],\n",
       "       [ 1.44048829e+00, -4.90325762e-01,  5.12011949e-01],\n",
       "       [-2.00666192e-01, -9.42463931e-01,  9.56682128e-01],\n",
       "       [ 6.30226675e-01,  1.50223313e-01, -6.58253256e-01],\n",
       "       [ 3.56346926e-01,  1.06660903e+00,  5.40562004e-01],\n",
       "       [ 5.29344873e-01,  1.06570530e-02, -1.01266229e+00],\n",
       "       [-1.93163495e+00, -6.69673260e-01, -1.37614044e+00],\n",
       "       [-5.25294689e-01,  1.25638925e+00,  1.01980712e+00],\n",
       "       [ 1.24285632e-01, -1.74803521e+00, -6.68069942e-02],\n",
       "       [-1.75555556e+00,  9.22271411e-01,  8.30277704e-01],\n",
       "       [-7.78271156e-02, -1.68353388e-01,  4.11879273e-01],\n",
       "       [ 3.69069534e-01, -1.88831807e-01,  2.40936456e-01],\n",
       "       [-6.28086545e-01,  8.64425620e-01,  9.77859827e-01],\n",
       "       [ 5.35559799e-01, -1.88831807e-01, -1.09472329e-03],\n",
       "       [ 2.73078805e-01,  9.17040259e-01, -1.20137700e+00],\n",
       "       [-2.44957339e-01, -4.30546922e-01, -1.40971959e+00],\n",
       "       [ 9.99137820e-01, -1.46007371e+00,  2.04840493e+00],\n",
       "       [-1.63286723e+00,  9.58738548e-01, -2.09532402e-01],\n",
       "       [ 7.23760085e-01, -1.25539136e+00, -3.32999228e-01],\n",
       "       [ 8.10224235e-01,  1.68862229e-01,  1.25778689e+00],\n",
       "       [ 1.47405264e+00, -7.51634521e-01, -1.30124129e+00],\n",
       "       [-1.11073781e+00, -6.69673260e-01, -3.91575697e-01],\n",
       "       [ 2.83810642e-01, -2.29616877e-03,  9.10315133e-01],\n",
       "       [-1.60118681e+00, -5.45815801e-02, -4.76495675e-01],\n",
       "       [ 3.25505056e-01, -1.06355551e+00, -7.56293285e-01],\n",
       "       [ 8.79943885e-01, -1.46007371e+00, -7.34824405e-01],\n",
       "       [ 1.40493806e+00,  1.51543955e+00,  7.02388506e-01],\n",
       "       [ 1.13411664e+00,  5.58657645e-01, -2.81635542e-01],\n",
       "       [ 3.44664290e-01, -9.97473864e-01,  4.37250236e-01],\n",
       "       [ 1.40306351e+00, -1.60181548e+00, -9.77653591e-02],\n",
       "       [ 2.95596216e-01, -8.02148636e-01, -4.39663920e-01],\n",
       "       [ 1.98559462e-01, -1.56152179e+00, -1.11743156e+00],\n",
       "       [ 8.41171303e-01, -1.23420066e+00,  8.70300355e-02],\n",
       "       [-1.02181379e+00, -1.20289700e+00,  1.95269098e-01],\n",
       "       [ 1.50472337e+00,  1.23179329e+00,  1.69068875e+00],\n",
       "       [ 1.18602318e+00,  2.35642166e-02,  2.09054010e-01],\n",
       "       [ 7.05546191e-01,  1.33437513e+00, -3.21477599e-01],\n",
       "       [ 1.00973688e-02, -1.62948287e+00,  4.82554530e-02],\n",
       "       [ 5.63463957e-01,  4.73170731e-01, -4.03492089e-01],\n",
       "       [ 1.48986416e+00, -4.90325762e-01, -1.62193131e+00],\n",
       "       [-1.61787038e+00, -6.29656140e-01, -1.13400672e-01],\n",
       "       [-1.26812741e+00,  1.13730782e+00, -1.36515498e+00],\n",
       "       [-7.59563165e-01, -7.35026416e-01, -1.34347931e+00],\n",
       "       [-1.64612530e+00, -1.37714720e+00,  2.81365432e-01],\n",
       "       [ 3.08430163e-01,  1.18226883e+00, -1.63588033e+00],\n",
       "       [ 1.23186956e-01,  8.53835478e-01, -1.34347931e+00],\n",
       "       [-1.28831146e+00, -1.42394128e+00, -6.85721297e-01],\n",
       "       [-5.21578873e-01, -1.28768913e+00, -1.13565398e+00],\n",
       "       [ 4.16577398e-01, -8.62474197e-01, -1.30124129e+00],\n",
       "       [ 1.46753490e+00,  1.18226883e+00,  1.52596045e+00],\n",
       "       [ 9.75625093e-01, -9.24436754e-01, -1.08166941e+00]])"
      ]
     },
     "execution_count": 51,
     "metadata": {},
     "output_type": "execute_result"
    }
   ],
   "source": [
    "from sklearn.preprocessing import StandardScaler\n",
    "sc=StandardScaler()\n",
    "x=sc.fit_transform(x)\n",
    "x"
   ]
  },
  {
   "cell_type": "code",
   "execution_count": 52,
   "id": "63b5f52a",
   "metadata": {},
   "outputs": [
    {
     "data": {
      "text/plain": [
       "9.7     5\n",
       "15.9    4\n",
       "11.7    4\n",
       "12.9    4\n",
       "20.7    3\n",
       "       ..\n",
       "21.7    1\n",
       "14.5    1\n",
       "21.2    1\n",
       "22.1    1\n",
       "20.8    1\n",
       "Name: sales, Length: 121, dtype: int64"
      ]
     },
     "execution_count": 52,
     "metadata": {},
     "output_type": "execute_result"
    }
   ],
   "source": [
    "y.value_counts()"
   ]
  },
  {
   "cell_type": "code",
   "execution_count": 53,
   "id": "017c08a7",
   "metadata": {},
   "outputs": [
    {
     "name": "stdout",
     "output_type": "stream",
     "text": [
      "(198, 3)\n",
      "(198,)\n"
     ]
    }
   ],
   "source": [
    "print(x.shape)\n",
    "print(y.shape)"
   ]
  },
  {
   "cell_type": "code",
   "execution_count": 54,
   "id": "26ee348e",
   "metadata": {},
   "outputs": [
    {
     "data": {
      "text/html": [
       "<div>\n",
       "<style scoped>\n",
       "    .dataframe tbody tr th:only-of-type {\n",
       "        vertical-align: middle;\n",
       "    }\n",
       "\n",
       "    .dataframe tbody tr th {\n",
       "        vertical-align: top;\n",
       "    }\n",
       "\n",
       "    .dataframe thead th {\n",
       "        text-align: right;\n",
       "    }\n",
       "</style>\n",
       "<table border=\"1\" class=\"dataframe\">\n",
       "  <thead>\n",
       "    <tr style=\"text-align: right;\">\n",
       "      <th></th>\n",
       "      <th>TV</th>\n",
       "      <th>radio</th>\n",
       "      <th>newspaper</th>\n",
       "      <th>sales</th>\n",
       "    </tr>\n",
       "  </thead>\n",
       "  <tbody>\n",
       "    <tr>\n",
       "      <th>0</th>\n",
       "      <td>230.1</td>\n",
       "      <td>37.8</td>\n",
       "      <td>8.318654</td>\n",
       "      <td>22.1</td>\n",
       "    </tr>\n",
       "    <tr>\n",
       "      <th>1</th>\n",
       "      <td>44.5</td>\n",
       "      <td>39.3</td>\n",
       "      <td>6.715653</td>\n",
       "      <td>10.4</td>\n",
       "    </tr>\n",
       "    <tr>\n",
       "      <th>2</th>\n",
       "      <td>17.2</td>\n",
       "      <td>45.9</td>\n",
       "      <td>8.324662</td>\n",
       "      <td>9.3</td>\n",
       "    </tr>\n",
       "    <tr>\n",
       "      <th>3</th>\n",
       "      <td>151.5</td>\n",
       "      <td>41.3</td>\n",
       "      <td>7.648529</td>\n",
       "      <td>18.5</td>\n",
       "    </tr>\n",
       "    <tr>\n",
       "      <th>4</th>\n",
       "      <td>180.8</td>\n",
       "      <td>10.8</td>\n",
       "      <td>7.641989</td>\n",
       "      <td>12.9</td>\n",
       "    </tr>\n",
       "    <tr>\n",
       "      <th>...</th>\n",
       "      <td>...</td>\n",
       "      <td>...</td>\n",
       "      <td>...</td>\n",
       "      <td>...</td>\n",
       "    </tr>\n",
       "    <tr>\n",
       "      <th>195</th>\n",
       "      <td>38.2</td>\n",
       "      <td>3.7</td>\n",
       "      <td>3.714835</td>\n",
       "      <td>7.6</td>\n",
       "    </tr>\n",
       "    <tr>\n",
       "      <th>196</th>\n",
       "      <td>94.2</td>\n",
       "      <td>4.9</td>\n",
       "      <td>2.846050</td>\n",
       "      <td>9.7</td>\n",
       "    </tr>\n",
       "    <tr>\n",
       "      <th>197</th>\n",
       "      <td>177.0</td>\n",
       "      <td>9.3</td>\n",
       "      <td>2.529822</td>\n",
       "      <td>12.8</td>\n",
       "    </tr>\n",
       "    <tr>\n",
       "      <th>198</th>\n",
       "      <td>283.6</td>\n",
       "      <td>42.0</td>\n",
       "      <td>8.136338</td>\n",
       "      <td>25.5</td>\n",
       "    </tr>\n",
       "    <tr>\n",
       "      <th>199</th>\n",
       "      <td>232.1</td>\n",
       "      <td>8.6</td>\n",
       "      <td>2.949576</td>\n",
       "      <td>13.4</td>\n",
       "    </tr>\n",
       "  </tbody>\n",
       "</table>\n",
       "<p>198 rows × 4 columns</p>\n",
       "</div>"
      ],
      "text/plain": [
       "        TV  radio  newspaper  sales\n",
       "0    230.1   37.8   8.318654   22.1\n",
       "1     44.5   39.3   6.715653   10.4\n",
       "2     17.2   45.9   8.324662    9.3\n",
       "3    151.5   41.3   7.648529   18.5\n",
       "4    180.8   10.8   7.641989   12.9\n",
       "..     ...    ...        ...    ...\n",
       "195   38.2    3.7   3.714835    7.6\n",
       "196   94.2    4.9   2.846050    9.7\n",
       "197  177.0    9.3   2.529822   12.8\n",
       "198  283.6   42.0   8.136338   25.5\n",
       "199  232.1    8.6   2.949576   13.4\n",
       "\n",
       "[198 rows x 4 columns]"
      ]
     },
     "execution_count": 54,
     "metadata": {},
     "output_type": "execute_result"
    }
   ],
   "source": [
    "df"
   ]
  },
  {
   "cell_type": "code",
   "execution_count": 58,
   "id": "682538d6",
   "metadata": {},
   "outputs": [
    {
     "name": "stdout",
     "output_type": "stream",
     "text": [
      "0      22.1\n",
      "1      10.4\n",
      "2       9.3\n",
      "3      18.5\n",
      "4      12.9\n",
      "       ... \n",
      "195     7.6\n",
      "196     9.7\n",
      "197    12.8\n",
      "198    25.5\n",
      "199    13.4\n",
      "Name: sales, Length: 198, dtype: float64\n"
     ]
    }
   ],
   "source": [
    "print(y)"
   ]
  },
  {
   "cell_type": "markdown",
   "id": "5a9b15f3",
   "metadata": {},
   "source": [
    "# Model Building:"
   ]
  },
  {
   "cell_type": "code",
   "execution_count": 64,
   "id": "1e4ca521",
   "metadata": {},
   "outputs": [],
   "source": [
    "from sklearn.model_selection import train_test_split\n",
    "from sklearn.linear_model import LinearRegression\n",
    "from sklearn.metrics import r2_score, mean_absolute_error, mean_squared_error\n",
    "\n",
    "# Importing all the Libraries required to build model "
   ]
  },
  {
   "cell_type": "markdown",
   "id": "b53eb69e",
   "metadata": {},
   "source": [
    "# Finding Best Random State:-"
   ]
  },
  {
   "cell_type": "code",
   "execution_count": 65,
   "id": "8c374890",
   "metadata": {},
   "outputs": [
    {
     "name": "stdout",
     "output_type": "stream",
     "text": [
      "Best Accuracy is  0.9460676888909004 on Random State  90\n"
     ]
    }
   ],
   "source": [
    "MaxAccu=0\n",
    "MaxRS=0\n",
    "\n",
    "for i in range (1,500):\n",
    "    x_train,x_test,y_train,y_test=train_test_split(x,y,test_size=0.25,random_state=i)\n",
    "    lr=LinearRegression()\n",
    "    lr.fit(x_train,y_train)\n",
    "    predlr_train=lr.predict(x_train)\n",
    "    predlr_test=lr.predict(x_test)\n",
    "    acc=r2_score(y_test,predlr_test)\n",
    "    if acc>MaxAccu:\n",
    "        MaxAccu=acc\n",
    "        MaxRS=i\n",
    "print(\"Best Accuracy is \", MaxAccu, \"on Random State \", MaxRS)\n",
    "      \n",
    "# Finding the Best Random State with Maximum R2 Score Accuracy"
   ]
  },
  {
   "cell_type": "markdown",
   "id": "115e3ce5",
   "metadata": {},
   "source": [
    "# We got our best random state=90 and it is giving us accuracy of 94%"
   ]
  },
  {
   "cell_type": "markdown",
   "id": "6cfcd305",
   "metadata": {},
   "source": [
    "# Linear Regression:"
   ]
  },
  {
   "cell_type": "code",
   "execution_count": 66,
   "id": "426b330b",
   "metadata": {},
   "outputs": [],
   "source": [
    "x_train,x_test,y_train,y_test=train_test_split(x,y,test_size=0.25,random_state=90)\n",
    "\n",
    "# Splitting the data into Train & Test using the best random state"
   ]
  },
  {
   "cell_type": "code",
   "execution_count": 67,
   "id": "8ed0489b",
   "metadata": {},
   "outputs": [
    {
     "name": "stdout",
     "output_type": "stream",
     "text": [
      "(148, 3)\n",
      "(50, 3)\n",
      "(148,)\n",
      "(50,)\n"
     ]
    }
   ],
   "source": [
    "print(x_train.shape)\n",
    "print(x_test.shape)\n",
    "print(y_train.shape)\n",
    "print(y_test.shape)"
   ]
  },
  {
   "cell_type": "code",
   "execution_count": 68,
   "id": "dbf00575",
   "metadata": {},
   "outputs": [
    {
     "data": {
      "text/plain": [
       "LinearRegression()"
      ]
     },
     "execution_count": 68,
     "metadata": {},
     "output_type": "execute_result"
    }
   ],
   "source": [
    "lr=LinearRegression()\n",
    "lr.fit(x_train,y_train)\n",
    "\n",
    "# Training the Linear Regression Model"
   ]
  },
  {
   "cell_type": "code",
   "execution_count": 69,
   "id": "89543e8f",
   "metadata": {},
   "outputs": [
    {
     "data": {
      "text/plain": [
       "array([17.35477818,  6.50170007, 20.58342042, 18.15454248, 16.86595522,\n",
       "       21.04632017, 20.20075627, 15.12943787, 20.3481337 , 10.15796926,\n",
       "       20.37011664, 22.28316798,  9.76532992, 20.90257525, 22.53606624,\n",
       "        7.97513832, 14.22197653, 12.26236304, 15.93743285, 11.97000991,\n",
       "        7.59238919, 14.31700364, 13.28738038,  9.65431315, 21.26274798,\n",
       "       13.37117128, 10.22700305,  9.26306713,  9.4931453 , 20.7139865 ,\n",
       "       13.13210807,  9.96295912, 18.64071393,  8.06893411,  8.38790312,\n",
       "       12.02240929,  8.73251498, 12.68136076, 16.72488529, 18.28001445,\n",
       "       19.30099506, 13.38259774, 12.83698993, 15.43559144, 12.10349983,\n",
       "       16.93721186, 17.6922139 , 16.87254583, 19.34792044, 19.82015565])"
      ]
     },
     "execution_count": 69,
     "metadata": {},
     "output_type": "execute_result"
    }
   ],
   "source": [
    "lr_pred=lr.predict(x_test)\n",
    "lr_pred\n",
    "\n",
    "# The Linear Regression Model is predicting values based on training"
   ]
  },
  {
   "cell_type": "code",
   "execution_count": 70,
   "id": "826c7af0",
   "metadata": {},
   "outputs": [
    {
     "data": {
      "text/plain": [
       "0.8892235636219743"
      ]
     },
     "execution_count": 70,
     "metadata": {},
     "output_type": "execute_result"
    }
   ],
   "source": [
    "lr.score(x_train,y_train)"
   ]
  },
  {
   "cell_type": "code",
   "execution_count": 71,
   "id": "9b2437fc",
   "metadata": {},
   "outputs": [
    {
     "name": "stdout",
     "output_type": "stream",
     "text": [
      "0.9460676888909004\n"
     ]
    }
   ],
   "source": [
    "print(r2_score(y_test,lr_pred))\n",
    "\n",
    "# Giving the R2 Accuracy of Linear Regression Model"
   ]
  },
  {
   "cell_type": "code",
   "execution_count": 72,
   "id": "0c102f1d",
   "metadata": {},
   "outputs": [
    {
     "name": "stdout",
     "output_type": "stream",
     "text": [
      "0.9632210764645199\n",
      "1.4290517822521231\n",
      "1.195429538806919\n"
     ]
    }
   ],
   "source": [
    "print(mean_absolute_error(y_test,lr_pred))\n",
    "print(mean_squared_error(y_test,lr_pred))\n",
    "print(np.sqrt(mean_squared_error(y_test,lr_pred)))\n",
    "\n",
    "# Evolution Matrix of Linear Regression Model"
   ]
  },
  {
   "cell_type": "markdown",
   "id": "377a22cb",
   "metadata": {},
   "source": [
    "# Decision Tree Regressor:-"
   ]
  },
  {
   "cell_type": "code",
   "execution_count": 73,
   "id": "81f80be1",
   "metadata": {},
   "outputs": [],
   "source": [
    "from sklearn.tree import DecisionTreeRegressor\n",
    "\n",
    "# Importing Decision Tree Regressor Model from sklearn Library"
   ]
  },
  {
   "cell_type": "code",
   "execution_count": 74,
   "id": "7e300ab1",
   "metadata": {},
   "outputs": [
    {
     "data": {
      "text/plain": [
       "DecisionTreeRegressor(criterion='mse', max_depth=5, min_samples_split=5)"
      ]
     },
     "execution_count": 74,
     "metadata": {},
     "output_type": "execute_result"
    }
   ],
   "source": [
    "dtr=DecisionTreeRegressor(criterion=\"mse\",max_depth=5,min_samples_split=5)\n",
    "dtr.fit(x_train,y_train)\n",
    "\n",
    "# Training the Decision Tree Regressor Model"
   ]
  },
  {
   "cell_type": "code",
   "execution_count": 75,
   "id": "66c8b5c2",
   "metadata": {},
   "outputs": [
    {
     "data": {
      "text/plain": [
       "0.9835733348803666"
      ]
     },
     "execution_count": 75,
     "metadata": {},
     "output_type": "execute_result"
    }
   ],
   "source": [
    "dtr.score(x_train,y_train)"
   ]
  },
  {
   "cell_type": "code",
   "execution_count": 76,
   "id": "ac929bd8",
   "metadata": {},
   "outputs": [
    {
     "data": {
      "text/plain": [
       "array([18.01818182,  5.5       , 25.48571429, 20.36666667, 16.63333333,\n",
       "       22.63333333, 22.63333333, 12.15      , 23.36666667,  8.94      ,\n",
       "       23.36666667, 25.48571429, 11.15      , 19.6       , 22.63333333,\n",
       "        7.2       , 15.15      , 10.83333333, 16.63333333, 13.525     ,\n",
       "        7.2       , 13.16666667, 10.83333333, 11.15      , 19.6       ,\n",
       "       11.15      , 11.15      , 11.32666667, 11.15      , 22.63333333,\n",
       "       13.075     , 11.32666667, 16.63333333,  5.5       ,  9.83333333,\n",
       "       11.32666667,  9.55      , 13.075     , 15.15      , 15.21111111,\n",
       "       19.6       , 12.15      , 11.32666667, 18.01818182, 11.32666667,\n",
       "       20.36666667, 16.63333333, 15.21111111, 19.6       , 19.6       ])"
      ]
     },
     "execution_count": 76,
     "metadata": {},
     "output_type": "execute_result"
    }
   ],
   "source": [
    "dtr_pred=dtr.predict(x_test)\n",
    "dtr_pred\n",
    "\n",
    "# The Decision Tree Regressor Model is predicting values based on training"
   ]
  },
  {
   "cell_type": "code",
   "execution_count": 77,
   "id": "4b6d7e19",
   "metadata": {},
   "outputs": [
    {
     "name": "stdout",
     "output_type": "stream",
     "text": [
      "0.9494537096924924\n"
     ]
    }
   ],
   "source": [
    "print(r2_score(y_test,dtr_pred))\n",
    "\n",
    "# R2 Accuracy Score of Decision Tree Regressor Model"
   ]
  },
  {
   "cell_type": "code",
   "execution_count": 78,
   "id": "73beaf16",
   "metadata": {},
   "outputs": [
    {
     "name": "stdout",
     "output_type": "stream",
     "text": [
      "0.8934780663780657\n",
      "1.3393319285735092\n",
      "1.157295091397829\n"
     ]
    }
   ],
   "source": [
    "print(mean_absolute_error(y_test,dtr_pred))\n",
    "print(mean_squared_error(y_test,dtr_pred))\n",
    "print(np.sqrt(mean_squared_error(y_test,dtr_pred)))\n",
    "\n",
    "# Evolution Matrix of Decision Tree Regressor Model"
   ]
  },
  {
   "cell_type": "markdown",
   "id": "5628465d",
   "metadata": {},
   "source": [
    "# Random Forest Regressor:-"
   ]
  },
  {
   "cell_type": "code",
   "execution_count": 79,
   "id": "5bd9f947",
   "metadata": {},
   "outputs": [],
   "source": [
    "from sklearn.ensemble import RandomForestRegressor\n",
    "\n",
    "# Importing the Random Forest Regressor Model from sklearn Library"
   ]
  },
  {
   "cell_type": "code",
   "execution_count": 80,
   "id": "8e7947db",
   "metadata": {},
   "outputs": [
    {
     "data": {
      "text/plain": [
       "RandomForestRegressor()"
      ]
     },
     "execution_count": 80,
     "metadata": {},
     "output_type": "execute_result"
    }
   ],
   "source": [
    "rfr=RandomForestRegressor()\n",
    "rfr.fit(x_train,y_train)\n",
    "\n",
    "# Training the Random Forest Regressor Model"
   ]
  },
  {
   "cell_type": "code",
   "execution_count": 81,
   "id": "5b1198e7",
   "metadata": {},
   "outputs": [
    {
     "data": {
      "text/plain": [
       "0.9966619047877329"
      ]
     },
     "execution_count": 81,
     "metadata": {},
     "output_type": "execute_result"
    }
   ],
   "source": [
    "rfr.score(x_train,y_train)"
   ]
  },
  {
   "cell_type": "code",
   "execution_count": 82,
   "id": "35f40cb0",
   "metadata": {},
   "outputs": [
    {
     "data": {
      "text/plain": [
       "array([17.676,  6.306, 23.421, 19.972, 15.673, 20.904, 20.967, 12.817,\n",
       "       23.136,  8.595, 23.264, 25.161, 10.851, 19.657, 22.436,  7.632,\n",
       "       12.625, 10.662, 15.643, 11.113,  7.081, 14.942, 11.398, 10.747,\n",
       "       20.023, 11.951, 11.518, 10.337, 10.718, 21.678, 12.835, 10.88 ,\n",
       "       16.122,  6.147, 10.049, 12.15 ,  9.691, 12.44 , 15.526, 15.321,\n",
       "       19.055, 11.9  , 12.786, 16.555, 12.397, 18.046, 15.959, 15.242,\n",
       "       19.165, 19.779])"
      ]
     },
     "execution_count": 82,
     "metadata": {},
     "output_type": "execute_result"
    }
   ],
   "source": [
    "rfr_pred=rfr.predict(x_test)\n",
    "rfr_pred\n",
    "\n",
    "# The Random Forest Regressor Model is predicting values based on training"
   ]
  },
  {
   "cell_type": "code",
   "execution_count": 83,
   "id": "87c56060",
   "metadata": {},
   "outputs": [
    {
     "name": "stdout",
     "output_type": "stream",
     "text": [
      "0.976909034244305\n"
     ]
    }
   ],
   "source": [
    "print(r2_score(y_test,rfr_pred))\n",
    "\n",
    "# R2 Accuracy Score of Random Forest Regressor Model"
   ]
  },
  {
   "cell_type": "code",
   "execution_count": 85,
   "id": "d9fc3e4e",
   "metadata": {},
   "outputs": [
    {
     "name": "stdout",
     "output_type": "stream",
     "text": [
      "0.6389399999999975\n",
      "0.6118444599999953\n",
      "0.7822048708618448\n"
     ]
    }
   ],
   "source": [
    "print(mean_absolute_error(y_test,rfr_pred))\n",
    "print(mean_squared_error(y_test,rfr_pred))\n",
    "print(np.sqrt(mean_squared_error(y_test,rfr_pred)))\n",
    "\n",
    "# Evolution Matrix of Random Forest Regressor Model"
   ]
  },
  {
   "cell_type": "markdown",
   "id": "ca5ebee2",
   "metadata": {},
   "source": [
    "# Extra Trees Regressor:-"
   ]
  },
  {
   "cell_type": "code",
   "execution_count": 86,
   "id": "b2fdef8e",
   "metadata": {},
   "outputs": [],
   "source": [
    "from sklearn.ensemble import ExtraTreesRegressor\n",
    "\n",
    "# Importing the Extra Trees Regressor Model from sklearn Library"
   ]
  },
  {
   "cell_type": "code",
   "execution_count": 87,
   "id": "986590b3",
   "metadata": {},
   "outputs": [
    {
     "data": {
      "text/plain": [
       "ExtraTreesRegressor()"
      ]
     },
     "execution_count": 87,
     "metadata": {},
     "output_type": "execute_result"
    }
   ],
   "source": [
    "etr=ExtraTreesRegressor()\n",
    "etr.fit(x_train,y_train)\n",
    "\n",
    "# Training the Extra Trees Regressor Model"
   ]
  },
  {
   "cell_type": "code",
   "execution_count": 88,
   "id": "3f3c1b49",
   "metadata": {},
   "outputs": [
    {
     "data": {
      "text/plain": [
       "0.9999999817097536"
      ]
     },
     "execution_count": 88,
     "metadata": {},
     "output_type": "execute_result"
    }
   ],
   "source": [
    "etr.score(x_train,y_train)"
   ]
  },
  {
   "cell_type": "code",
   "execution_count": 89,
   "id": "bf89353f",
   "metadata": {},
   "outputs": [
    {
     "data": {
      "text/plain": [
       "array([17.664,  6.612, 22.922, 19.029, 16.036, 21.74 , 21.854, 13.123,\n",
       "       22.998,  9.082, 22.755, 24.435, 10.52 , 19.902, 24.443,  7.719,\n",
       "       13.67 , 11.057, 15.709, 11.298,  7.178, 14.439, 11.819, 10.626,\n",
       "       20.549, 12.164, 11.076, 10.48 , 10.521, 22.293, 12.663, 10.704,\n",
       "       16.993,  6.296, 10.057, 12.534,  9.494, 12.212, 17.116, 15.706,\n",
       "       19.245, 11.841, 12.667, 15.802, 12.594, 17.126, 16.763, 15.44 ,\n",
       "       19.347, 19.909])"
      ]
     },
     "execution_count": 89,
     "metadata": {},
     "output_type": "execute_result"
    }
   ],
   "source": [
    "etr_pred=etr.predict(x_test)\n",
    "etr_pred\n",
    "\n",
    "# The Extra Trees Regressor Model is predicting values based on training"
   ]
  },
  {
   "cell_type": "code",
   "execution_count": 90,
   "id": "348c231a",
   "metadata": {},
   "outputs": [
    {
     "name": "stdout",
     "output_type": "stream",
     "text": [
      "0.988955912820163\n"
     ]
    }
   ],
   "source": [
    "print(r2_score(y_test,etr_pred))\n",
    "\n",
    "# The R2 Accuracy Score of Extra Trees Regressor Model"
   ]
  },
  {
   "cell_type": "code",
   "execution_count": 91,
   "id": "e8d453b5",
   "metadata": {},
   "outputs": [
    {
     "name": "stdout",
     "output_type": "stream",
     "text": [
      "0.46655999999999564\n",
      "0.2926366799999956\n",
      "0.54095903726622\n"
     ]
    }
   ],
   "source": [
    "print(mean_absolute_error(y_test,etr_pred))\n",
    "print(mean_squared_error(y_test,etr_pred))\n",
    "print(np.sqrt(mean_squared_error(y_test,etr_pred)))\n",
    "\n",
    "# Evolution Matrix of Extra Trees Regressor Model"
   ]
  },
  {
   "cell_type": "markdown",
   "id": "50e65802",
   "metadata": {},
   "source": [
    "# Cross Validation:-"
   ]
  },
  {
   "cell_type": "code",
   "execution_count": 92,
   "id": "63c8eb06",
   "metadata": {},
   "outputs": [],
   "source": [
    "from sklearn.model_selection import cross_val_score\n",
    "\n",
    "# Importing the Cross Validation function from sklearn Library"
   ]
  },
  {
   "cell_type": "code",
   "execution_count": 93,
   "id": "8b29701e",
   "metadata": {},
   "outputs": [
    {
     "name": "stdout",
     "output_type": "stream",
     "text": [
      "The Cross Validation Score of Linear Regression Model is:  0.8958228930575455\n"
     ]
    }
   ],
   "source": [
    "scr1=cross_val_score(lr,x,y,cv=5)\n",
    "scr1\n",
    "print(\"The Cross Validation Score of Linear Regression Model is: \", scr1.mean())\n",
    "\n",
    "# The Cross Validation Score of Linear Regression Model is: 0.8958"
   ]
  },
  {
   "cell_type": "code",
   "execution_count": 94,
   "id": "6f9ac2a7",
   "metadata": {},
   "outputs": [
    {
     "name": "stdout",
     "output_type": "stream",
     "text": [
      "The Cross Validation Score of Decision Tree Regressor Model is:  0.9319376126647974\n"
     ]
    }
   ],
   "source": [
    "scr2=cross_val_score(dtr, x, y, cv=5)\n",
    "scr2\n",
    "print(\"The Cross Validation Score of Decision Tree Regressor Model is: \", scr2.mean())\n",
    "\n",
    "# The Cross Validation Score of Decision Tree Regressor Model is: 0.9319"
   ]
  },
  {
   "cell_type": "code",
   "execution_count": 95,
   "id": "024a99b7",
   "metadata": {},
   "outputs": [
    {
     "name": "stdout",
     "output_type": "stream",
     "text": [
      "The Cross Validation Score of Random Forest Regressor Model is:  0.9756333933297002\n"
     ]
    }
   ],
   "source": [
    "scr3=cross_val_score(rfr, x, y, cv=5)\n",
    "scr3\n",
    "print(\"The Cross Validation Score of Random Forest Regressor Model is: \", scr3.mean())\n",
    "\n",
    "# The Cross Validation Score of Random Forest Regressor Model is: 0.9756"
   ]
  },
  {
   "cell_type": "code",
   "execution_count": 96,
   "id": "943a35ec",
   "metadata": {},
   "outputs": [
    {
     "name": "stdout",
     "output_type": "stream",
     "text": [
      "The Cross Validation Score of Extra Trees Regressor Model is:  0.9868236232018012\n"
     ]
    }
   ],
   "source": [
    "scr4=cross_val_score(etr, x, y, cv=5)\n",
    "scr4\n",
    "print(\"The Cross Validation Score of Extra Trees Regressor Model is: \", scr4.mean())\n",
    "\n",
    "# The Cross Validation Score of Extra Trees Regressor Model is: 0.9868"
   ]
  },
  {
   "cell_type": "markdown",
   "id": "e0ad1c85",
   "metadata": {},
   "source": [
    "# Accuracy score and cross val score of all models:"
   ]
  },
  {
   "cell_type": "code",
   "execution_count": 105,
   "id": "3464a0a6",
   "metadata": {},
   "outputs": [
    {
     "name": "stdout",
     "output_type": "stream",
     "text": [
      "Accuracy score of Linear regression model is:  94.60676888909005\n",
      "cross val score of Linear regression model is:  89.58228930575454\n"
     ]
    }
   ],
   "source": [
    "print(\"Accuracy score of Linear regression model is: \", r2_score(y_test,lr_pred)*100)\n",
    "print(\"cross val score of Linear regression model is: \",  scr1.mean()*100)"
   ]
  },
  {
   "cell_type": "code",
   "execution_count": 106,
   "id": "a512293f",
   "metadata": {},
   "outputs": [
    {
     "name": "stdout",
     "output_type": "stream",
     "text": [
      "Accuracy score of Decision Tree regressor model is:  94.94537096924924\n",
      "cross val score of Decision Tree regressor model is:  93.19376126647974\n"
     ]
    }
   ],
   "source": [
    "print(\"Accuracy score of Decision Tree regressor model is: \", r2_score(y_test,dtr_pred)*100)\n",
    "print(\"cross val score of Decision Tree regressor model is: \",  scr2.mean()*100)"
   ]
  },
  {
   "cell_type": "code",
   "execution_count": 107,
   "id": "6d7865c6",
   "metadata": {},
   "outputs": [
    {
     "name": "stdout",
     "output_type": "stream",
     "text": [
      "Accuracy score of Random forest regressor model is:  97.6909034244305\n",
      "cross val score of Random forest regressor model is:  97.56333933297002\n"
     ]
    }
   ],
   "source": [
    "print(\"Accuracy score of Random forest regressor model is: \", r2_score(y_test,rfr_pred)*100)\n",
    "print(\"cross val score of Random forest regressor model is: \",  scr3.mean()*100)"
   ]
  },
  {
   "cell_type": "code",
   "execution_count": 108,
   "id": "e4ba5e35",
   "metadata": {},
   "outputs": [
    {
     "name": "stdout",
     "output_type": "stream",
     "text": [
      "Accuracy score of Extra Trees regressor model is:  98.8955912820163\n",
      "cross val score of Extra Trees regressor model is:  98.68236232018012\n"
     ]
    }
   ],
   "source": [
    "print(\"Accuracy score of Extra Trees regressor model is: \", r2_score(y_test,etr_pred)*100)\n",
    "print(\"cross val score of Extra Trees regressor model is: \",  scr4.mean()*100)"
   ]
  },
  {
   "cell_type": "markdown",
   "id": "06422632",
   "metadata": {},
   "source": [
    "# Extra Trees regressor model is performing well as it has high cross val score of 98.68% and high accuracy score of 98.89%. (or least diff between cross val score and accuracy score. i.e, 0.21 %) "
   ]
  },
  {
   "cell_type": "markdown",
   "id": "8bdb5965",
   "metadata": {},
   "source": [
    "# Hyper Parameter Tuning:-"
   ]
  },
  {
   "cell_type": "code",
   "execution_count": 117,
   "id": "d9a6855f",
   "metadata": {},
   "outputs": [],
   "source": [
    "from sklearn.model_selection import GridSearchCV\n",
    "# Importing the GridSearchCV to get the best parameters of the Extra trees regressor model\n",
    "\n",
    "#creating parameter list to pass in GridSearchCV\n",
    "\n",
    "parameter={\"max_depth\":np.arange(2,10), \n",
    "           \"criterion\":[\"squared_error\"],\n",
    "           \"min_samples_split\":np.arange(2,10),\n",
    "          \"max_leaf_nodes\":np.arange(2,10)}\n",
    "\n",
    "# Taking the parameters based on which best model will be selected\n",
    "# Setting the Parameters to apply to GridSearchCV to get the best parameter score"
   ]
  },
  {
   "cell_type": "code",
   "execution_count": 123,
   "id": "22943efc",
   "metadata": {},
   "outputs": [
    {
     "data": {
      "text/plain": [
       "{'criterion': 'squared_error',\n",
       " 'max_depth': 5,\n",
       " 'max_leaf_nodes': 9,\n",
       " 'min_samples_split': 5}"
      ]
     },
     "execution_count": 123,
     "metadata": {},
     "output_type": "execute_result"
    }
   ],
   "source": [
    "GCV=GridSearchCV(ExtraTreesRegressor(),parameter,cv=5)\n",
    "\n",
    "GCV.fit(x_train,y_train)         #fitting data in model\n",
    "\n",
    "GCV.best_params_                 #Printing the best parameters found by GridSearchCV"
   ]
  },
  {
   "cell_type": "code",
   "execution_count": 127,
   "id": "7e5054e1",
   "metadata": {},
   "outputs": [
    {
     "name": "stdout",
     "output_type": "stream",
     "text": [
      "0.9650267266581642\n"
     ]
    }
   ],
   "source": [
    "GCV_pred=GCV.best_estimator_.predict(x_test)   #predicting with best parameters\n",
    "\n",
    "print(r2_score(y_test,GCV_pred))                  #checking final accuracy"
   ]
  },
  {
   "cell_type": "markdown",
   "id": "83f2b260",
   "metadata": {},
   "source": [
    "# Final Accuracy is 96.5%"
   ]
  },
  {
   "cell_type": "markdown",
   "id": "d0532b8b",
   "metadata": {},
   "source": [
    "# Saving the model"
   ]
  },
  {
   "cell_type": "code",
   "execution_count": 128,
   "id": "641782bc",
   "metadata": {},
   "outputs": [
    {
     "data": {
      "text/plain": [
       "['Advertising_sales_final.pkl']"
      ]
     },
     "execution_count": 128,
     "metadata": {},
     "output_type": "execute_result"
    }
   ],
   "source": [
    "import joblib\n",
    "joblib.dump(GCV.best_estimator_,\"Advertising_sales_final.pkl\")"
   ]
  },
  {
   "cell_type": "code",
   "execution_count": 129,
   "id": "4cf5bdf0",
   "metadata": {},
   "outputs": [
    {
     "data": {
      "text/html": [
       "<div>\n",
       "<style scoped>\n",
       "    .dataframe tbody tr th:only-of-type {\n",
       "        vertical-align: middle;\n",
       "    }\n",
       "\n",
       "    .dataframe tbody tr th {\n",
       "        vertical-align: top;\n",
       "    }\n",
       "\n",
       "    .dataframe thead th {\n",
       "        text-align: right;\n",
       "    }\n",
       "</style>\n",
       "<table border=\"1\" class=\"dataframe\">\n",
       "  <thead>\n",
       "    <tr style=\"text-align: right;\">\n",
       "      <th></th>\n",
       "      <th>original</th>\n",
       "      <th>predicted</th>\n",
       "    </tr>\n",
       "  </thead>\n",
       "  <tbody>\n",
       "    <tr>\n",
       "      <th>0</th>\n",
       "      <td>18.0</td>\n",
       "      <td>17.664</td>\n",
       "    </tr>\n",
       "    <tr>\n",
       "      <th>1</th>\n",
       "      <td>5.6</td>\n",
       "      <td>6.612</td>\n",
       "    </tr>\n",
       "    <tr>\n",
       "      <th>2</th>\n",
       "      <td>22.3</td>\n",
       "      <td>22.922</td>\n",
       "    </tr>\n",
       "    <tr>\n",
       "      <th>3</th>\n",
       "      <td>19.6</td>\n",
       "      <td>19.029</td>\n",
       "    </tr>\n",
       "    <tr>\n",
       "      <th>4</th>\n",
       "      <td>16.6</td>\n",
       "      <td>16.036</td>\n",
       "    </tr>\n",
       "    <tr>\n",
       "      <th>5</th>\n",
       "      <td>22.2</td>\n",
       "      <td>21.740</td>\n",
       "    </tr>\n",
       "    <tr>\n",
       "      <th>6</th>\n",
       "      <td>21.5</td>\n",
       "      <td>21.854</td>\n",
       "    </tr>\n",
       "    <tr>\n",
       "      <th>7</th>\n",
       "      <td>13.2</td>\n",
       "      <td>13.123</td>\n",
       "    </tr>\n",
       "    <tr>\n",
       "      <th>8</th>\n",
       "      <td>22.4</td>\n",
       "      <td>22.998</td>\n",
       "    </tr>\n",
       "    <tr>\n",
       "      <th>9</th>\n",
       "      <td>8.8</td>\n",
       "      <td>9.082</td>\n",
       "    </tr>\n",
       "    <tr>\n",
       "      <th>10</th>\n",
       "      <td>21.7</td>\n",
       "      <td>22.755</td>\n",
       "    </tr>\n",
       "    <tr>\n",
       "      <th>11</th>\n",
       "      <td>25.4</td>\n",
       "      <td>24.435</td>\n",
       "    </tr>\n",
       "    <tr>\n",
       "      <th>12</th>\n",
       "      <td>10.1</td>\n",
       "      <td>10.520</td>\n",
       "    </tr>\n",
       "    <tr>\n",
       "      <th>13</th>\n",
       "      <td>20.7</td>\n",
       "      <td>19.902</td>\n",
       "    </tr>\n",
       "    <tr>\n",
       "      <th>14</th>\n",
       "      <td>24.4</td>\n",
       "      <td>24.443</td>\n",
       "    </tr>\n",
       "    <tr>\n",
       "      <th>15</th>\n",
       "      <td>7.0</td>\n",
       "      <td>7.719</td>\n",
       "    </tr>\n",
       "    <tr>\n",
       "      <th>16</th>\n",
       "      <td>13.6</td>\n",
       "      <td>13.670</td>\n",
       "    </tr>\n",
       "    <tr>\n",
       "      <th>17</th>\n",
       "      <td>10.4</td>\n",
       "      <td>11.057</td>\n",
       "    </tr>\n",
       "    <tr>\n",
       "      <th>18</th>\n",
       "      <td>15.6</td>\n",
       "      <td>15.709</td>\n",
       "    </tr>\n",
       "    <tr>\n",
       "      <th>19</th>\n",
       "      <td>11.8</td>\n",
       "      <td>11.298</td>\n",
       "    </tr>\n",
       "    <tr>\n",
       "      <th>20</th>\n",
       "      <td>7.6</td>\n",
       "      <td>7.178</td>\n",
       "    </tr>\n",
       "    <tr>\n",
       "      <th>21</th>\n",
       "      <td>14.1</td>\n",
       "      <td>14.439</td>\n",
       "    </tr>\n",
       "    <tr>\n",
       "      <th>22</th>\n",
       "      <td>11.6</td>\n",
       "      <td>11.819</td>\n",
       "    </tr>\n",
       "    <tr>\n",
       "      <th>23</th>\n",
       "      <td>10.3</td>\n",
       "      <td>10.626</td>\n",
       "    </tr>\n",
       "    <tr>\n",
       "      <th>24</th>\n",
       "      <td>21.4</td>\n",
       "      <td>20.549</td>\n",
       "    </tr>\n",
       "    <tr>\n",
       "      <th>25</th>\n",
       "      <td>12.2</td>\n",
       "      <td>12.164</td>\n",
       "    </tr>\n",
       "    <tr>\n",
       "      <th>26</th>\n",
       "      <td>11.2</td>\n",
       "      <td>11.076</td>\n",
       "    </tr>\n",
       "    <tr>\n",
       "      <th>27</th>\n",
       "      <td>9.7</td>\n",
       "      <td>10.480</td>\n",
       "    </tr>\n",
       "    <tr>\n",
       "      <th>28</th>\n",
       "      <td>10.3</td>\n",
       "      <td>10.521</td>\n",
       "    </tr>\n",
       "    <tr>\n",
       "      <th>29</th>\n",
       "      <td>21.8</td>\n",
       "      <td>22.293</td>\n",
       "    </tr>\n",
       "    <tr>\n",
       "      <th>30</th>\n",
       "      <td>12.8</td>\n",
       "      <td>12.663</td>\n",
       "    </tr>\n",
       "    <tr>\n",
       "      <th>31</th>\n",
       "      <td>10.5</td>\n",
       "      <td>10.704</td>\n",
       "    </tr>\n",
       "    <tr>\n",
       "      <th>32</th>\n",
       "      <td>17.6</td>\n",
       "      <td>16.993</td>\n",
       "    </tr>\n",
       "    <tr>\n",
       "      <th>33</th>\n",
       "      <td>5.5</td>\n",
       "      <td>6.296</td>\n",
       "    </tr>\n",
       "    <tr>\n",
       "      <th>34</th>\n",
       "      <td>9.7</td>\n",
       "      <td>10.057</td>\n",
       "    </tr>\n",
       "    <tr>\n",
       "      <th>35</th>\n",
       "      <td>11.8</td>\n",
       "      <td>12.534</td>\n",
       "    </tr>\n",
       "    <tr>\n",
       "      <th>36</th>\n",
       "      <td>9.7</td>\n",
       "      <td>9.494</td>\n",
       "    </tr>\n",
       "    <tr>\n",
       "      <th>37</th>\n",
       "      <td>11.7</td>\n",
       "      <td>12.212</td>\n",
       "    </tr>\n",
       "    <tr>\n",
       "      <th>38</th>\n",
       "      <td>16.7</td>\n",
       "      <td>17.116</td>\n",
       "    </tr>\n",
       "    <tr>\n",
       "      <th>39</th>\n",
       "      <td>16.1</td>\n",
       "      <td>15.706</td>\n",
       "    </tr>\n",
       "    <tr>\n",
       "      <th>40</th>\n",
       "      <td>20.1</td>\n",
       "      <td>19.245</td>\n",
       "    </tr>\n",
       "    <tr>\n",
       "      <th>41</th>\n",
       "      <td>11.5</td>\n",
       "      <td>11.841</td>\n",
       "    </tr>\n",
       "    <tr>\n",
       "      <th>42</th>\n",
       "      <td>13.2</td>\n",
       "      <td>12.667</td>\n",
       "    </tr>\n",
       "    <tr>\n",
       "      <th>43</th>\n",
       "      <td>15.0</td>\n",
       "      <td>15.802</td>\n",
       "    </tr>\n",
       "    <tr>\n",
       "      <th>44</th>\n",
       "      <td>12.0</td>\n",
       "      <td>12.594</td>\n",
       "    </tr>\n",
       "    <tr>\n",
       "      <th>45</th>\n",
       "      <td>18.0</td>\n",
       "      <td>17.126</td>\n",
       "    </tr>\n",
       "    <tr>\n",
       "      <th>46</th>\n",
       "      <td>17.1</td>\n",
       "      <td>16.763</td>\n",
       "    </tr>\n",
       "    <tr>\n",
       "      <th>47</th>\n",
       "      <td>15.5</td>\n",
       "      <td>15.440</td>\n",
       "    </tr>\n",
       "    <tr>\n",
       "      <th>48</th>\n",
       "      <td>19.6</td>\n",
       "      <td>19.347</td>\n",
       "    </tr>\n",
       "    <tr>\n",
       "      <th>49</th>\n",
       "      <td>20.2</td>\n",
       "      <td>19.909</td>\n",
       "    </tr>\n",
       "  </tbody>\n",
       "</table>\n",
       "</div>"
      ],
      "text/plain": [
       "    original  predicted\n",
       "0       18.0     17.664\n",
       "1        5.6      6.612\n",
       "2       22.3     22.922\n",
       "3       19.6     19.029\n",
       "4       16.6     16.036\n",
       "5       22.2     21.740\n",
       "6       21.5     21.854\n",
       "7       13.2     13.123\n",
       "8       22.4     22.998\n",
       "9        8.8      9.082\n",
       "10      21.7     22.755\n",
       "11      25.4     24.435\n",
       "12      10.1     10.520\n",
       "13      20.7     19.902\n",
       "14      24.4     24.443\n",
       "15       7.0      7.719\n",
       "16      13.6     13.670\n",
       "17      10.4     11.057\n",
       "18      15.6     15.709\n",
       "19      11.8     11.298\n",
       "20       7.6      7.178\n",
       "21      14.1     14.439\n",
       "22      11.6     11.819\n",
       "23      10.3     10.626\n",
       "24      21.4     20.549\n",
       "25      12.2     12.164\n",
       "26      11.2     11.076\n",
       "27       9.7     10.480\n",
       "28      10.3     10.521\n",
       "29      21.8     22.293\n",
       "30      12.8     12.663\n",
       "31      10.5     10.704\n",
       "32      17.6     16.993\n",
       "33       5.5      6.296\n",
       "34       9.7     10.057\n",
       "35      11.8     12.534\n",
       "36       9.7      9.494\n",
       "37      11.7     12.212\n",
       "38      16.7     17.116\n",
       "39      16.1     15.706\n",
       "40      20.1     19.245\n",
       "41      11.5     11.841\n",
       "42      13.2     12.667\n",
       "43      15.0     15.802\n",
       "44      12.0     12.594\n",
       "45      18.0     17.126\n",
       "46      17.1     16.763\n",
       "47      15.5     15.440\n",
       "48      19.6     19.347\n",
       "49      20.2     19.909"
      ]
     },
     "execution_count": 129,
     "metadata": {},
     "output_type": "execute_result"
    }
   ],
   "source": [
    "import numpy as np\n",
    "a=np.array(y_test)\n",
    "predicted=np.array(etr.predict(x_test))\n",
    "df_com=pd.DataFrame({\"original\":a,\"predicted\":predicted}, index=range(len(a)))\n",
    "df_com"
   ]
  },
  {
   "cell_type": "code",
   "execution_count": 133,
   "id": "5083ef88",
   "metadata": {},
   "outputs": [
    {
     "data": {
      "text/plain": [
       "<function matplotlib.pyplot.show(close=None, block=None)>"
      ]
     },
     "execution_count": 133,
     "metadata": {},
     "output_type": "execute_result"
    },
    {
     "data": {
      "image/png": "[encoded data removed]",
      "text/plain": [
       "<Figure size 432x288 with 1 Axes>"
      ]
     },
     "metadata": {
      "needs_background": "light"
     },
     "output_type": "display_data"
    }
   ],
   "source": [
    "plt.xlabel('original score')\n",
    "plt.ylabel('predicted score')\n",
    "plt.scatter(y_test,GCV_pred,color='blue')\n",
    "plt.show"
   ]
  },
  {
   "cell_type": "code",
   "execution_count": null,
   "id": "d8b53c3f",
   "metadata": {},
   "outputs": [],
   "source": []
  },
  {
   "cell_type": "code",
   "execution_count": null,
   "id": "99037c12",
   "metadata": {},
   "outputs": [],
   "source": []
  },
  {
   "cell_type": "code",
   "execution_count": null,
   "id": "85d99b87",
   "metadata": {},
   "outputs": [],
   "source": []
  }
 ],
 "metadata": {
  "kernelspec": {
   "display_name": "Python 3",
   "language": "python",
   "name": "python3"
  },
  "language_info": {
   "codemirror_mode": {
    "name": "ipython",
    "version": 3
   },
   "file_extension": ".py",
   "mimetype": "text/x-python",
   "name": "python",
   "nbconvert_exporter": "python",
   "pygments_lexer": "ipython3",
   "version": "3.8.8"
  }
 },
 "nbformat": 4,
 "nbformat_minor": 5
}
